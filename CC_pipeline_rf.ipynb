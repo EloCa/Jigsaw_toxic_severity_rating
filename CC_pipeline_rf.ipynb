{
 "cells": [
  {
   "cell_type": "markdown",
   "metadata": {
    "_cell_guid": "d49b7eaa-0bf7-48e0-9fe6-51ba03036ba1",
    "_uuid": "9dacb7a2a5a9e582d7e597be4ea479cedd79489a"
   },
   "source": [
    "# Classifiy toxicity and then rank toxicity\n",
    "\n",
    "This kernel is inspired by Rhodium Beng Classifying multi-label comments with Logistic Regression made during the contest Jigsaw classification challenge.\n",
    "\n",
    "The idea is to first make a classifier predicting the different toxicity and then use the predictions to make a score of toxicity.\n",
    "\n",
    "The model used for classification is RandomForest.\n",
    "\n",
    "The scoring function is toxic + obscene + insult + 1.5 * threat + 2 * severe_toxic + 2 * identity_hate"
   ]
  },
  {
   "cell_type": "code",
   "execution_count": 1,
   "metadata": {
    "_cell_guid": "8f6a95ee-cc95-4c9f-a8f7-72ae58ec13d6",
    "_uuid": "5c5f4cc8865644748e11336736bbe584adebe7b1",
    "execution": {
     "iopub.execute_input": "2022-01-04T13:09:15.861337Z",
     "iopub.status.busy": "2022-01-04T13:09:15.860931Z",
     "iopub.status.idle": "2022-01-04T13:09:15.879779Z",
     "shell.execute_reply": "2022-01-04T13:09:15.879104Z",
     "shell.execute_reply.started": "2022-01-04T13:09:15.861271Z"
    }
   },
   "outputs": [],
   "source": [
    "from sklearn.ensemble import RandomForestClassifier\n",
    "from sklearn.multioutput import ClassifierChain\n",
    "from sklearn.metrics import accuracy_score\n",
    "from sklearn.feature_extraction.text import TfidfVectorizer\n",
    "from sklearn.feature_extraction.text import CountVectorizer\n",
    "from sklearn.impute import SimpleImputer\n",
    "from sklearn.preprocessing import FunctionTransformer\n",
    "from sklearn.pipeline import Pipeline\n",
    "import string\n",
    "from nltk.stem.snowball import EnglishStemmer\n",
    "from nltk.corpus import stopwords\n",
    "import re\n",
    "import seaborn as sns\n",
    "import numpy as np\n",
    "import pandas as pd\n",
    "from matplotlib import pyplot as plt\n",
    "%matplotlib inline"
   ]
  },
  {
   "cell_type": "code",
   "execution_count": 2,
   "metadata": {
    "execution": {
     "iopub.execute_input": "2022-01-04T13:08:57.102966Z",
     "iopub.status.busy": "2022-01-04T13:08:57.102676Z",
     "iopub.status.idle": "2022-01-04T13:08:57.12172Z",
     "shell.execute_reply": "2022-01-04T13:08:57.120795Z",
     "shell.execute_reply.started": "2022-01-04T13:08:57.102931Z"
    }
   },
   "outputs": [],
   "source": [
    "stop = stopwords.words('english')\n",
    "punctuation = string.punctuation"
   ]
  },
  {
   "cell_type": "markdown",
   "metadata": {
    "_cell_guid": "80d61838-9025-4cba-bb0e-58175586b21b",
    "_uuid": "4f65d03ddbfd127307d3e415003346eb898b4d6b"
   },
   "source": [
    "## Load training and test data"
   ]
  },
  {
   "cell_type": "code",
   "execution_count": 3,
   "metadata": {
    "execution": {
     "iopub.execute_input": "2022-01-04T13:08:58.189282Z",
     "iopub.status.busy": "2022-01-04T13:08:58.18898Z",
     "iopub.status.idle": "2022-01-04T13:08:59.959637Z",
     "shell.execute_reply": "2022-01-04T13:08:59.958804Z",
     "shell.execute_reply.started": "2022-01-04T13:08:58.189235Z"
    }
   },
   "outputs": [],
   "source": [
    "df_train = pd.read_csv(\n",
    "    \"../input/d/julian3833/jigsaw-toxic-comment-classification-challenge/train.csv\")"
   ]
  },
  {
   "cell_type": "code",
   "execution_count": 4,
   "metadata": {
    "execution": {
     "iopub.execute_input": "2022-01-04T13:08:59.961009Z",
     "iopub.status.busy": "2022-01-04T13:08:59.960748Z",
     "iopub.status.idle": "2022-01-04T13:09:01.350183Z",
     "shell.execute_reply": "2022-01-04T13:09:01.349425Z",
     "shell.execute_reply.started": "2022-01-04T13:08:59.960962Z"
    }
   },
   "outputs": [],
   "source": [
    "df_test = pd.read_csv(\n",
    "    \"../input/d/julian3833/jigsaw-toxic-comment-classification-challenge/test.csv\")"
   ]
  },
  {
   "cell_type": "code",
   "execution_count": 5,
   "metadata": {
    "_cell_guid": "7e29bebb-d9b7-44ab-a6ba-9f98e6507d5e",
    "_uuid": "7f7f2581edb2f42a64812dec31622a011dceff80",
    "execution": {
     "iopub.execute_input": "2022-01-04T13:09:01.351602Z",
     "iopub.status.busy": "2022-01-04T13:09:01.351342Z",
     "iopub.status.idle": "2022-01-04T13:09:01.355326Z",
     "shell.execute_reply": "2022-01-04T13:09:01.354678Z",
     "shell.execute_reply.started": "2022-01-04T13:09:01.351556Z"
    }
   },
   "outputs": [],
   "source": [
    "cols_target = ['toxic', 'obscene', 'insult',\n",
    "               'threat', 'severe_toxic', 'identity_hate']"
   ]
  },
  {
   "cell_type": "markdown",
   "metadata": {
    "_cell_guid": "fdf9d2f6-d248-452f-8f94-562755e3a3f3",
    "_uuid": "d88d9cea99dbd77e81a5b3c4b9309df88b04550b"
   },
   "source": [
    "## Clean up the comment text"
   ]
  },
  {
   "cell_type": "code",
   "execution_count": 6,
   "metadata": {
    "_cell_guid": "24392feb-0adc-4e27-bd20-41ed8cadce37",
    "_uuid": "b42586552d4cdc79793b0de8e630f863f2b2c456",
    "execution": {
     "iopub.execute_input": "2022-01-04T13:09:01.356716Z",
     "iopub.status.busy": "2022-01-04T13:09:01.356473Z",
     "iopub.status.idle": "2022-01-04T13:09:01.384197Z",
     "shell.execute_reply": "2022-01-04T13:09:01.383338Z",
     "shell.execute_reply.started": "2022-01-04T13:09:01.356672Z"
    }
   },
   "outputs": [],
   "source": [
    "def clean_text(text):\n",
    "    text = text.lower()\n",
    "    text = re.sub(r\"what's\", \"what is \", text)\n",
    "    text = re.sub(r\"\\'s\", \" \", text)\n",
    "    text = re.sub(r\"\\'ve\", \" have \", text)\n",
    "    text = re.sub(r\"can't\", \"cannot \", text)\n",
    "    text = re.sub(r\"n't\", \" not \", text)\n",
    "    text = re.sub(r\"i'm\", \"i am \", text)\n",
    "    text = re.sub(r\"\\'re\", \" are \", text)\n",
    "    text = re.sub(r\"\\'d\", \" would \", text)\n",
    "    text = re.sub(r\"\\'ll\", \" will \", text)\n",
    "    text = re.sub(r\"\\'scuse\", \" excuse \", text)\n",
    "    text = re.sub('\\W', ' ', text)\n",
    "    text = re.sub('\\s+', ' ', text)\n",
    "    text = text.strip(' ')\n",
    "    return text"
   ]
  },
  {
   "cell_type": "code",
   "execution_count": 7,
   "metadata": {
    "execution": {
     "iopub.execute_input": "2022-01-04T13:09:01.437678Z",
     "iopub.status.busy": "2022-01-04T13:09:01.437392Z",
     "iopub.status.idle": "2022-01-04T13:09:01.451604Z",
     "shell.execute_reply": "2022-01-04T13:09:01.450719Z",
     "shell.execute_reply.started": "2022-01-04T13:09:01.437636Z"
    }
   },
   "outputs": [],
   "source": [
    "def remove_stopwords_sentence(sentence):\n",
    "    # print(sentence)\n",
    "    return pd.Series([word for word in sentence[0].split() if word not in stop])\n",
    "\n",
    "\n",
    "def remove_stopwords_df(df):\n",
    "    return df.apply(remove_stopwords_sentence, axis=1)\n",
    "\n",
    "\n",
    "def stem_sentence(s):\n",
    "    stemmer = EnglishStemmer()\n",
    "    return pd.Series([stemmer.stem(w) for w in s if not pd.isna(w)]).to_frame().apply(' '.join, axis=0)[0]"
   ]
  },
  {
   "cell_type": "code",
   "execution_count": 8,
   "metadata": {
    "execution": {
     "iopub.execute_input": "2022-01-04T13:09:20.468398Z",
     "iopub.status.busy": "2022-01-04T13:09:20.468044Z",
     "iopub.status.idle": "2022-01-04T13:09:20.490448Z",
     "shell.execute_reply": "2022-01-04T13:09:20.489579Z",
     "shell.execute_reply.started": "2022-01-04T13:09:20.468353Z"
    }
   },
   "outputs": [],
   "source": [
    "prep_pipeline = Pipeline(steps=[\n",
    "    ('remove \\n', FunctionTransformer(pd.DataFrame.replace, kw_args={\n",
    "     'to_replace': '\\n', 'value': ' ', 'regex': True}, validate=False)),\n",
    "    ('remove numbers', FunctionTransformer(pd.DataFrame.replace, kw_args={\n",
    "     'to_replace': '\\d', 'value': '', 'regex': True}, validate=False)),\n",
    "    ('remove html tags', FunctionTransformer(pd.DataFrame.replace,\n",
    "                                             kw_args={'to_replace': '<.*?>', 'value': '', 'regex': True}, validate=False)),\n",
    "    ('lower', FunctionTransformer(lambda x: x.squeeze(\n",
    "        axis=1).str.lower().to_frame(), validate=False)),\n",
    "    ('remove punctuation', FunctionTransformer(lambda x: x.squeeze(\n",
    "        axis=1).str.replace('[{}]'.format(punctuation), '').to_frame(), validate=False)),\n",
    "    ('remove stopwords', FunctionTransformer(remove_stopwords_df, validate=False)),\n",
    "    ('stemming', FunctionTransformer(pd.DataFrame.apply, kw_args={\n",
    "     'func': stem_sentence, 'axis': 1}, validate=False)),\n",
    "    #('imputer', SimpleImputer(strategy='constant', fill_value='')),\n",
    "    ('vectorizer', TfidfVectorizer(lowercase=False, analyzer='word', ngram_range=(1, 3), min_df=5,\n",
    "                                   preprocessor=None, tokenizer=lambda i: str(i).split()))\n",
    "])"
   ]
  },
  {
   "cell_type": "code",
   "execution_count": 9,
   "metadata": {
    "_cell_guid": "7b426494-c856-4cf4-b0d1-4162bc3aef5b",
    "_uuid": "3944cb9d1311fd3729a7dfb13e8ac8c2309962e5",
    "execution": {
     "iopub.execute_input": "2022-01-04T13:09:22.261782Z",
     "iopub.status.busy": "2022-01-04T13:09:22.2615Z",
     "iopub.status.idle": "2022-01-04T13:09:38.107465Z",
     "shell.execute_reply": "2022-01-04T13:09:38.106634Z",
     "shell.execute_reply.started": "2022-01-04T13:09:22.261745Z"
    }
   },
   "outputs": [],
   "source": [
    "# clean the comment_text in train_df\n",
    "df_train['comment_text'] = df_train['comment_text'].apply(\n",
    "    lambda com: clean_text(com))"
   ]
  },
  {
   "cell_type": "code",
   "execution_count": 10,
   "metadata": {
    "_cell_guid": "dc27cc45-e5a9-4f1e-8d07-e28127afaf97",
    "_uuid": "d56d040c687a15a6d13ba29400372108f1960c1b",
    "execution": {
     "iopub.execute_input": "2022-01-04T13:09:38.10872Z",
     "iopub.status.busy": "2022-01-04T13:09:38.108477Z",
     "iopub.status.idle": "2022-01-04T13:09:52.765458Z",
     "shell.execute_reply": "2022-01-04T13:09:52.764662Z",
     "shell.execute_reply.started": "2022-01-04T13:09:38.108675Z"
    }
   },
   "outputs": [],
   "source": [
    "# clean the comment_text in test_df\n",
    "df_test['comment_text'] = df_test['comment_text'].map(\n",
    "    lambda com: clean_text(com))"
   ]
  },
  {
   "cell_type": "markdown",
   "metadata": {
    "_cell_guid": "f5abe72a-13a7-41f6-ae8e-1c34dca97110",
    "_uuid": "cae81f6b1d9bb475fc486d5fbb81981025cc3672"
   },
   "source": [
    "\n",
    "## Define X, y"
   ]
  },
  {
   "cell_type": "code",
   "execution_count": 11,
   "metadata": {
    "_cell_guid": "49547fd7-9633-4f6a-bd46-84d8966f1e8b",
    "_uuid": "061d59552c6ef83bea8ecf9ffbf203286aeab6f8",
    "execution": {
     "iopub.execute_input": "2022-01-04T13:09:52.767232Z",
     "iopub.status.busy": "2022-01-04T13:09:52.766806Z",
     "iopub.status.idle": "2022-01-04T13:09:52.772706Z",
     "shell.execute_reply": "2022-01-04T13:09:52.771785Z",
     "shell.execute_reply.started": "2022-01-04T13:09:52.767163Z"
    }
   },
   "outputs": [],
   "source": [
    "X = df_train.comment_text\n",
    "test_X = df_test.comment_text"
   ]
  },
  {
   "cell_type": "code",
   "execution_count": 12,
   "metadata": {
    "_cell_guid": "083686b8-483a-4fbd-8584-cb9da8357c57",
    "_uuid": "6b1e91df6163a437c5f55e9c4de88dc11a89e5ba",
    "execution": {
     "iopub.execute_input": "2022-01-03T14:32:47.234817Z",
     "iopub.status.busy": "2022-01-03T14:32:47.234473Z",
     "iopub.status.idle": "2022-01-03T14:32:47.248777Z",
     "shell.execute_reply": "2022-01-03T14:32:47.248036Z",
     "shell.execute_reply.started": "2022-01-03T14:32:47.234763Z"
    }
   },
   "outputs": [
    {
     "name": "stdout",
     "output_type": "stream",
     "text": [
      "(159571,) (153164,)\n"
     ]
    }
   ],
   "source": [
    "print(X.shape, test_X.shape)"
   ]
  },
  {
   "cell_type": "code",
   "execution_count": 16,
   "metadata": {
    "execution": {
     "iopub.execute_input": "2022-01-04T13:09:52.774722Z",
     "iopub.status.busy": "2022-01-04T13:09:52.774358Z",
     "iopub.status.idle": "2022-01-04T13:09:52.792856Z",
     "shell.execute_reply": "2022-01-04T13:09:52.792197Z",
     "shell.execute_reply.started": "2022-01-04T13:09:52.774657Z"
    }
   },
   "outputs": [],
   "source": [
    "y = df_train[cols_target]"
   ]
  },
  {
   "cell_type": "code",
   "execution_count": 27,
   "metadata": {
    "execution": {
     "iopub.execute_input": "2022-01-04T13:31:22.313805Z",
     "iopub.status.busy": "2022-01-04T13:31:22.313489Z",
     "iopub.status.idle": "2022-01-04T13:31:22.572001Z",
     "shell.execute_reply": "2022-01-04T13:31:22.571369Z",
     "shell.execute_reply.started": "2022-01-04T13:31:22.313748Z"
    }
   },
   "outputs": [],
   "source": [
    "y_test = pd.read_csv('../input/d/julian3833/jigsaw-toxic-comment-classification-challenge/test_labels.csv')"
   ]
  },
  {
   "cell_type": "code",
   "execution_count": 28,
   "metadata": {
    "execution": {
     "iopub.execute_input": "2022-01-04T13:31:22.80177Z",
     "iopub.status.busy": "2022-01-04T13:31:22.801413Z",
     "iopub.status.idle": "2022-01-04T13:31:22.936323Z",
     "shell.execute_reply": "2022-01-04T13:31:22.935621Z",
     "shell.execute_reply.started": "2022-01-04T13:31:22.801704Z"
    }
   },
   "outputs": [],
   "source": [
    "df_test = df_test.merge(y_test, on='id', how='left')"
   ]
  },
  {
   "cell_type": "code",
   "execution_count": 29,
   "metadata": {
    "execution": {
     "iopub.execute_input": "2022-01-04T13:31:23.275481Z",
     "iopub.status.busy": "2022-01-04T13:31:23.275082Z",
     "iopub.status.idle": "2022-01-04T13:31:23.286771Z",
     "shell.execute_reply": "2022-01-04T13:31:23.286041Z",
     "shell.execute_reply.started": "2022-01-04T13:31:23.27542Z"
    }
   },
   "outputs": [],
   "source": [
    "df_test2 = df_test[df_test.toxic != -1]"
   ]
  },
  {
   "cell_type": "code",
   "execution_count": 30,
   "metadata": {
    "execution": {
     "iopub.execute_input": "2022-01-03T10:48:43.366946Z",
     "iopub.status.busy": "2022-01-03T10:48:43.366634Z",
     "iopub.status.idle": "2022-01-03T10:48:47.984761Z",
     "shell.execute_reply": "2022-01-03T10:48:47.983982Z",
     "shell.execute_reply.started": "2022-01-03T10:48:43.3669Z"
    }
   },
   "outputs": [],
   "source": [
    "df_test2_dtm = vect.transform(df_test2.comment_text)"
   ]
  },
  {
   "cell_type": "markdown",
   "metadata": {},
   "source": [
    "## Pipeline"
   ]
  },
  {
   "cell_type": "code",
   "execution_count": 32,
   "metadata": {
    "execution": {
     "iopub.execute_input": "2022-01-04T13:10:03.387778Z",
     "iopub.status.busy": "2022-01-04T13:10:03.38733Z",
     "iopub.status.idle": "2022-01-04T13:10:03.392938Z",
     "shell.execute_reply": "2022-01-04T13:10:03.392364Z",
     "shell.execute_reply.started": "2022-01-04T13:10:03.387737Z"
    }
   },
   "outputs": [],
   "source": [
    "# define the pipeline\n",
    "pipeline = Pipeline(\n",
    "    [\n",
    "        ('prep', prep_pipeline),\n",
    "        (\"cc_rf\", ClassifierChain(RandomForestClassifier(\n",
    "            max_depth=50, min_samples_split=5), order='random', random_state=0)),\n",
    "    ]\n",
    ")"
   ]
  },
  {
   "cell_type": "code",
   "execution_count": 33,
   "metadata": {
    "execution": {
     "iopub.execute_input": "2022-01-04T13:10:06.111458Z",
     "iopub.status.busy": "2022-01-04T13:10:06.111127Z",
     "iopub.status.idle": "2022-01-04T13:19:27.016375Z",
     "shell.execute_reply": "2022-01-04T13:19:27.015474Z",
     "shell.execute_reply.started": "2022-01-04T13:10:06.111393Z"
    }
   },
   "outputs": [
    {
     "data": {
      "text/plain": [
       "Pipeline(memory=None,\n",
       "     steps=[('prep', Pipeline(memory=None,\n",
       "     steps=[('remove \\n', FunctionTransformer(accept_sparse=False,\n",
       "          func=<function NDFrame.replace at 0x7f5fe3f81ae8>,\n",
       "          inv_kw_args=None, inverse_func=None,\n",
       "          kw_args={'to_replace': '\\n', 'value': ' ', 'regex': True},\n",
       "          pass_y='...e=None, verbose=0,\n",
       "            warm_start=False),\n",
       "        cv=None, order='random', random_state=0))])"
      ]
     },
     "execution_count": 33,
     "metadata": {},
     "output_type": "execute_result"
    }
   ],
   "source": [
    "# train \n",
    "pipeline.fit(X.to_frame().astype(str),y)"
   ]
  },
  {
   "cell_type": "code",
   "execution_count": 34,
   "metadata": {
    "collapsed": true,
    "execution": {
     "iopub.execute_input": "2022-01-04T13:20:12.546327Z",
     "iopub.status.busy": "2022-01-04T13:20:12.545723Z",
     "iopub.status.idle": "2022-01-04T13:29:09.173307Z",
     "shell.execute_reply": "2022-01-04T13:29:09.172339Z",
     "shell.execute_reply.started": "2022-01-04T13:20:12.546244Z"
    },
    "jupyter": {
     "outputs_hidden": true
    }
   },
   "outputs": [],
   "source": [
    "# predict training data\n",
    "pipe_pred_train = pipeline.predict(X.to_frame())"
   ]
  },
  {
   "cell_type": "code",
   "execution_count": 35,
   "metadata": {
    "execution": {
     "iopub.execute_input": "2022-01-04T13:31:08.810325Z",
     "iopub.status.busy": "2022-01-04T13:31:08.809986Z",
     "iopub.status.idle": "2022-01-04T13:31:08.88388Z",
     "shell.execute_reply": "2022-01-04T13:31:08.883127Z",
     "shell.execute_reply.started": "2022-01-04T13:31:08.810285Z"
    }
   },
   "outputs": [
    {
     "data": {
      "text/plain": [
       "0.899568217282589"
      ]
     },
     "execution_count": 35,
     "metadata": {},
     "output_type": "execute_result"
    }
   ],
   "source": [
    "# accuracy of training \n",
    "accuracy_score(y, pipe_pred_train)"
   ]
  },
  {
   "cell_type": "code",
   "execution_count": 36,
   "metadata": {
    "execution": {
     "iopub.execute_input": "2022-01-04T13:32:23.795172Z",
     "iopub.status.busy": "2022-01-04T13:32:23.794632Z",
     "iopub.status.idle": "2022-01-04T13:36:43.013274Z",
     "shell.execute_reply": "2022-01-04T13:36:43.012497Z",
     "shell.execute_reply.started": "2022-01-04T13:32:23.794921Z"
    }
   },
   "outputs": [
    {
     "data": {
      "text/plain": [
       "0.9024977335959236"
      ]
     },
     "execution_count": 36,
     "metadata": {},
     "output_type": "execute_result"
    }
   ],
   "source": [
    "# accuracy of test\n",
    "pipe_pred_test = pipeline.predict(df_test2.comment_text.to_frame())\n",
    "accuracy_score(df_test2[cols_target], pipe_pred_test)"
   ]
  },
  {
   "cell_type": "markdown",
   "metadata": {},
   "source": [
    "## Apply ranking"
   ]
  },
  {
   "cell_type": "code",
   "execution_count": 37,
   "metadata": {
    "execution": {
     "iopub.execute_input": "2022-01-03T11:06:56.848192Z",
     "iopub.status.busy": "2022-01-03T11:06:56.847816Z",
     "iopub.status.idle": "2022-01-03T11:06:57.38301Z",
     "shell.execute_reply": "2022-01-03T11:06:57.382297Z",
     "shell.execute_reply.started": "2022-01-03T11:06:56.848152Z"
    }
   },
   "outputs": [],
   "source": [
    "validation_data = pd.read_csv(\n",
    "    '../input/jigsaw-toxic-severity-rating/validation_data.csv')"
   ]
  },
  {
   "cell_type": "code",
   "execution_count": 38,
   "metadata": {
    "execution": {
     "iopub.execute_input": "2022-01-03T11:11:23.185442Z",
     "iopub.status.busy": "2022-01-03T11:11:23.185126Z",
     "iopub.status.idle": "2022-01-03T11:11:23.198265Z",
     "shell.execute_reply": "2022-01-03T11:11:23.197251Z",
     "shell.execute_reply.started": "2022-01-03T11:11:23.185398Z"
    }
   },
   "outputs": [
    {
     "data": {
      "text/html": [
       "<div>\n",
       "<style scoped>\n",
       "    .dataframe tbody tr th:only-of-type {\n",
       "        vertical-align: middle;\n",
       "    }\n",
       "\n",
       "    .dataframe tbody tr th {\n",
       "        vertical-align: top;\n",
       "    }\n",
       "\n",
       "    .dataframe thead th {\n",
       "        text-align: right;\n",
       "    }\n",
       "</style>\n",
       "<table border=\"1\" class=\"dataframe\">\n",
       "  <thead>\n",
       "    <tr style=\"text-align: right;\">\n",
       "      <th></th>\n",
       "      <th>worker</th>\n",
       "      <th>less_toxic</th>\n",
       "      <th>more_toxic</th>\n",
       "    </tr>\n",
       "  </thead>\n",
       "  <tbody>\n",
       "    <tr>\n",
       "      <th>0</th>\n",
       "      <td>313</td>\n",
       "      <td>This article sucks \\n\\nwoo woo wooooooo</td>\n",
       "      <td>WHAT!!!!!!!!?!?!!?!?!!?!?!?!?!!!!!!!!!!!!!!!!!...</td>\n",
       "    </tr>\n",
       "    <tr>\n",
       "      <th>1</th>\n",
       "      <td>188</td>\n",
       "      <td>\"And yes, people should recognize that but the...</td>\n",
       "      <td>Daphne Guinness \\n\\nTop of the mornin' my fav...</td>\n",
       "    </tr>\n",
       "    <tr>\n",
       "      <th>2</th>\n",
       "      <td>82</td>\n",
       "      <td>Western Media?\\n\\nYup, because every crime in...</td>\n",
       "      <td>\"Atom you don't believe actual photos of mastu...</td>\n",
       "    </tr>\n",
       "    <tr>\n",
       "      <th>3</th>\n",
       "      <td>347</td>\n",
       "      <td>And you removed it! You numbskull! I don't car...</td>\n",
       "      <td>You seem to have sand in your vagina.\\n\\nMight...</td>\n",
       "    </tr>\n",
       "    <tr>\n",
       "      <th>4</th>\n",
       "      <td>539</td>\n",
       "      <td>smelly vagina \\n\\nBluerasberry why don't you ...</td>\n",
       "      <td>hey \\n\\nway to support nazis, you racist</td>\n",
       "    </tr>\n",
       "  </tbody>\n",
       "</table>\n",
       "</div>"
      ],
      "text/plain": [
       "   worker                                         less_toxic  \\\n",
       "0     313            This article sucks \\n\\nwoo woo wooooooo   \n",
       "1     188  \"And yes, people should recognize that but the...   \n",
       "2      82   Western Media?\\n\\nYup, because every crime in...   \n",
       "3     347  And you removed it! You numbskull! I don't car...   \n",
       "4     539   smelly vagina \\n\\nBluerasberry why don't you ...   \n",
       "\n",
       "                                          more_toxic  \n",
       "0  WHAT!!!!!!!!?!?!!?!?!!?!?!?!?!!!!!!!!!!!!!!!!!...  \n",
       "1   Daphne Guinness \\n\\nTop of the mornin' my fav...  \n",
       "2  \"Atom you don't believe actual photos of mastu...  \n",
       "3  You seem to have sand in your vagina.\\n\\nMight...  \n",
       "4           hey \\n\\nway to support nazis, you racist  "
      ]
     },
     "execution_count": 38,
     "metadata": {},
     "output_type": "execute_result"
    }
   ],
   "source": [
    "validation_data.head()"
   ]
  },
  {
   "cell_type": "code",
   "execution_count": 39,
   "metadata": {
    "execution": {
     "iopub.execute_input": "2022-01-03T11:12:12.245086Z",
     "iopub.status.busy": "2022-01-03T11:12:12.244759Z",
     "iopub.status.idle": "2022-01-03T11:12:15.475521Z",
     "shell.execute_reply": "2022-01-03T11:12:15.47468Z",
     "shell.execute_reply.started": "2022-01-03T11:12:12.245031Z"
    }
   },
   "outputs": [],
   "source": [
    "# prepare validation data\n",
    "validation_data['less_toxic'] = validation_data.less_toxic.apply(clean_text)\n",
    "validation_data['more_toxic'] = validation_data.more_toxic.apply(clean_text)"
   ]
  },
  {
   "cell_type": "code",
   "execution_count": 42,
   "metadata": {
    "execution": {
     "iopub.execute_input": "2022-01-03T11:15:27.488899Z",
     "iopub.status.busy": "2022-01-03T11:15:27.488589Z",
     "iopub.status.idle": "2022-01-03T11:15:27.99671Z",
     "shell.execute_reply": "2022-01-03T11:15:27.995733Z",
     "shell.execute_reply.started": "2022-01-03T11:15:27.488857Z"
    }
   },
   "outputs": [],
   "source": [
    "# predict proba of each class on validation data\n",
    "val1_pred = pipeline.predict_proba(validation_data.less_toxic.to_frame())\n",
    "val2_pred = pipeline.predict_proba(validation_data.more_toxic.to_frame())"
   ]
  },
  {
   "cell_type": "code",
   "execution_count": 43,
   "metadata": {
    "execution": {
     "iopub.execute_input": "2022-01-03T11:19:04.173728Z",
     "iopub.status.busy": "2022-01-03T11:19:04.173397Z",
     "iopub.status.idle": "2022-01-03T11:19:04.178756Z",
     "shell.execute_reply": "2022-01-03T11:19:04.177887Z",
     "shell.execute_reply.started": "2022-01-03T11:19:04.173675Z"
    }
   },
   "outputs": [],
   "source": [
    "def score_function(a):\n",
    "    a[3] = a[3]*1.5  # threat\n",
    "    a[4] = a[4]*2  # severe_toxic\n",
    "    a[5] = a[5]*2  # identity hate\n",
    "    return a.sum()\n",
    "\n",
    "\n",
    "# apply score function to predict proba\n",
    "val1_pred_sum = np.apply_along_axis(score_function, axis=1, arr=val1_pred)\n",
    "val2_pred_sum = np.apply_along_axis(score_function, axis=1, arr=val2_pred)"
   ]
  },
  {
   "cell_type": "code",
   "execution_count": 44,
   "metadata": {
    "execution": {
     "iopub.execute_input": "2022-01-03T11:19:40.774665Z",
     "iopub.status.busy": "2022-01-03T11:19:40.773992Z",
     "iopub.status.idle": "2022-01-03T11:19:40.780249Z",
     "shell.execute_reply": "2022-01-03T11:19:40.779647Z",
     "shell.execute_reply.started": "2022-01-03T11:19:40.774606Z"
    }
   },
   "outputs": [
    {
     "data": {
      "text/plain": [
       "0.6615185332801913"
      ]
     },
     "execution_count": 44,
     "metadata": {},
     "output_type": "execute_result"
    }
   ],
   "source": [
    "# compute Validation score\n",
    "(val1_pred_sum < val2_pred_sum).sum()/validation_data.shape[0]"
   ]
  },
  {
   "cell_type": "markdown",
   "metadata": {},
   "source": [
    "# Comments to score"
   ]
  },
  {
   "cell_type": "code",
   "execution_count": 45,
   "metadata": {
    "execution": {
     "iopub.execute_input": "2022-01-03T11:26:18.976395Z",
     "iopub.status.busy": "2022-01-03T11:26:18.976088Z",
     "iopub.status.idle": "2022-01-03T11:26:19.060062Z",
     "shell.execute_reply": "2022-01-03T11:26:19.059273Z",
     "shell.execute_reply.started": "2022-01-03T11:26:18.976349Z"
    }
   },
   "outputs": [],
   "source": [
    "comments_to_score = pd.read_csv(\n",
    "    '../input/jigsaw-toxic-severity-rating/comments_to_score.csv')"
   ]
  },
  {
   "cell_type": "code",
   "execution_count": 46,
   "metadata": {
    "execution": {
     "iopub.execute_input": "2022-01-03T11:27:14.677595Z",
     "iopub.status.busy": "2022-01-03T11:27:14.677214Z",
     "iopub.status.idle": "2022-01-03T11:27:15.476699Z",
     "shell.execute_reply": "2022-01-03T11:27:15.475959Z",
     "shell.execute_reply.started": "2022-01-03T11:27:14.677509Z"
    }
   },
   "outputs": [],
   "source": [
    "comments_to_score['text'] = comments_to_score.text.apply(clean_text)"
   ]
  },
  {
   "cell_type": "code",
   "execution_count": 47,
   "metadata": {
    "execution": {
     "iopub.execute_input": "2022-01-03T11:28:53.222966Z",
     "iopub.status.busy": "2022-01-03T11:28:53.222458Z",
     "iopub.status.idle": "2022-01-03T11:28:53.928093Z",
     "shell.execute_reply": "2022-01-03T11:28:53.927098Z",
     "shell.execute_reply.started": "2022-01-03T11:28:53.222897Z"
    }
   },
   "outputs": [],
   "source": [
    "# predict on the comments to score\n",
    "predictions = pipeline.predict_proba(comments_to_score.text.to_frame())"
   ]
  },
  {
   "cell_type": "code",
   "execution_count": 48,
   "metadata": {
    "execution": {
     "iopub.execute_input": "2022-01-03T11:29:19.03401Z",
     "iopub.status.busy": "2022-01-03T11:29:19.0337Z",
     "iopub.status.idle": "2022-01-03T11:29:19.037961Z",
     "shell.execute_reply": "2022-01-03T11:29:19.037046Z",
     "shell.execute_reply.started": "2022-01-03T11:29:19.033948Z"
    }
   },
   "outputs": [],
   "source": [
    "# compute score of each comment\n",
    "pred_sum = np.apply_along_axis(score_function,  axis=1, arr=predictions)"
   ]
  },
  {
   "cell_type": "code",
   "execution_count": 49,
   "metadata": {
    "execution": {
     "iopub.execute_input": "2022-01-03T11:29:27.194141Z",
     "iopub.status.busy": "2022-01-03T11:29:27.193666Z",
     "iopub.status.idle": "2022-01-03T11:29:27.199838Z",
     "shell.execute_reply": "2022-01-03T11:29:27.198777Z",
     "shell.execute_reply.started": "2022-01-03T11:29:27.194096Z"
    }
   },
   "outputs": [
    {
     "data": {
      "text/plain": [
       "(7537,)"
      ]
     },
     "execution_count": 49,
     "metadata": {},
     "output_type": "execute_result"
    }
   ],
   "source": [
    "pred_sum.shape"
   ]
  },
  {
   "cell_type": "code",
   "execution_count": 50,
   "metadata": {
    "execution": {
     "iopub.execute_input": "2022-01-03T11:30:01.973362Z",
     "iopub.status.busy": "2022-01-03T11:30:01.973034Z",
     "iopub.status.idle": "2022-01-03T11:30:01.991112Z",
     "shell.execute_reply": "2022-01-03T11:30:01.990218Z",
     "shell.execute_reply.started": "2022-01-03T11:30:01.973318Z"
    }
   },
   "outputs": [],
   "source": [
    "# get submission template\n",
    "sample_submission = pd.read_csv(\n",
    "    '../input/jigsaw-toxic-severity-rating/sample_submission.csv')"
   ]
  },
  {
   "cell_type": "code",
   "execution_count": 51,
   "metadata": {
    "execution": {
     "iopub.execute_input": "2022-01-03T11:30:34.17592Z",
     "iopub.status.busy": "2022-01-03T11:30:34.175214Z",
     "iopub.status.idle": "2022-01-03T11:30:34.180753Z",
     "shell.execute_reply": "2022-01-03T11:30:34.179988Z",
     "shell.execute_reply.started": "2022-01-03T11:30:34.175849Z"
    }
   },
   "outputs": [],
   "source": [
    "# add score to submissions\n",
    "sample_submission['score'] = pred_sum"
   ]
  },
  {
   "cell_type": "code",
   "execution_count": 52,
   "metadata": {
    "execution": {
     "iopub.execute_input": "2022-01-03T11:31:07.371865Z",
     "iopub.status.busy": "2022-01-03T11:31:07.371511Z",
     "iopub.status.idle": "2022-01-03T11:31:07.424636Z",
     "shell.execute_reply": "2022-01-03T11:31:07.423652Z",
     "shell.execute_reply.started": "2022-01-03T11:31:07.371816Z"
    }
   },
   "outputs": [],
   "source": [
    "# save submission\n",
    "sample_submission.to_csv('./submission.csv', index=False)"
   ]
  },
  {
   "cell_type": "markdown",
   "metadata": {},
   "source": [
    "Public leaderboard score = 0.769"
   ]
  },
  {
   "cell_type": "code",
   "execution_count": null,
   "metadata": {},
   "outputs": [],
   "source": []
  }
 ],
 "metadata": {
  "kernelspec": {
   "display_name": "Python 3 (ipykernel)",
   "language": "python",
   "name": "python3"
  },
  "language_info": {
   "codemirror_mode": {
    "name": "ipython",
    "version": 3
   },
   "file_extension": ".py",
   "mimetype": "text/x-python",
   "name": "python",
   "nbconvert_exporter": "python",
   "pygments_lexer": "ipython3",
   "version": "3.8.5"
  }
 },
 "nbformat": 4,
 "nbformat_minor": 4
}
