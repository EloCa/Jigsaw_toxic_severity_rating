{
 "cells": [
  {
   "cell_type": "code",
   "execution_count": 1,
   "id": "79fb807e",
   "metadata": {
    "_cell_guid": "b1076dfc-b9ad-4769-8c92-a6c4dae69d19",
    "_uuid": "8f2839f25d086af736a60e9eeb907d3b93b6e0e5",
    "execution": {
     "iopub.execute_input": "2022-01-17T13:04:47.388029Z",
     "iopub.status.busy": "2022-01-17T13:04:47.385927Z",
     "iopub.status.idle": "2022-01-17T13:04:49.163772Z",
     "shell.execute_reply": "2022-01-17T13:04:49.162652Z",
     "shell.execute_reply.started": "2022-01-13T12:21:28.478588Z"
    },
    "papermill": {
     "duration": 1.874416,
     "end_time": "2022-01-17T13:04:49.163946",
     "exception": false,
     "start_time": "2022-01-17T13:04:47.289530",
     "status": "completed"
    },
    "tags": []
   },
   "outputs": [],
   "source": [
    "from transformers import AutoTokenizer, AutoModel\n",
    "import transformers\n",
    "import torch\n",
    "from sklearn.model_selection import train_test_split\n",
    "from sklearn.ensemble import RandomForestClassifier\n",
    "import tensorflow as tf\n",
    "from sklearn.metrics import accuracy_score\n",
    "import string\n",
    "from nltk.stem.snowball import EnglishStemmer\n",
    "from nltk.corpus import stopwords\n",
    "import re\n",
    "import seaborn as sns\n",
    "import numpy as np\n",
    "import pandas as pd\n",
    "from matplotlib import pyplot as plt\n",
    "%matplotlib inline"
   ]
  },
  {
   "cell_type": "markdown",
   "id": "00220879",
   "metadata": {
    "papermill": {
     "duration": 0.060181,
     "end_time": "2022-01-17T13:04:56.934884",
     "exception": false,
     "start_time": "2022-01-17T13:04:56.874703",
     "status": "completed"
    },
    "tags": []
   },
   "source": [
    "# Data"
   ]
  },
  {
   "cell_type": "code",
   "execution_count": 3,
   "id": "b51a9dcc",
   "metadata": {
    "execution": {
     "iopub.execute_input": "2022-01-17T13:04:57.060116Z",
     "iopub.status.busy": "2022-01-17T13:04:57.059363Z",
     "iopub.status.idle": "2022-01-17T13:04:59.104961Z",
     "shell.execute_reply": "2022-01-17T13:04:59.103757Z",
     "shell.execute_reply.started": "2022-01-13T12:21:44.895391Z"
    },
    "papermill": {
     "duration": 2.109193,
     "end_time": "2022-01-17T13:04:59.105109",
     "exception": false,
     "start_time": "2022-01-17T13:04:56.995916",
     "status": "completed"
    },
    "tags": []
   },
   "outputs": [],
   "source": [
    "df_train = pd.read_csv(\n",
    "    \"../input/jigsaw-toxic-comment-classification-challenge/train.csv\")"
   ]
  },
  {
   "cell_type": "code",
   "execution_count": 4,
   "id": "7294e8d9",
   "metadata": {
    "execution": {
     "iopub.execute_input": "2022-01-17T13:04:59.239591Z",
     "iopub.status.busy": "2022-01-17T13:04:59.238818Z",
     "iopub.status.idle": "2022-01-17T13:05:00.675993Z",
     "shell.execute_reply": "2022-01-17T13:05:00.676564Z",
     "shell.execute_reply.started": "2022-01-13T12:21:46.881624Z"
    },
    "papermill": {
     "duration": 1.509561,
     "end_time": "2022-01-17T13:05:00.676774",
     "exception": false,
     "start_time": "2022-01-17T13:04:59.167213",
     "status": "completed"
    },
    "tags": []
   },
   "outputs": [],
   "source": [
    "df_test = pd.read_csv(\n",
    "    \"../input/jigsaw-toxic-comment-classification-challenge/test.csv\")"
   ]
  },
  {
   "cell_type": "code",
   "execution_count": 5,
   "id": "b0ab2759",
   "metadata": {
    "execution": {
     "iopub.execute_input": "2022-01-17T13:05:00.903746Z",
     "iopub.status.busy": "2022-01-17T13:05:00.902724Z",
     "iopub.status.idle": "2022-01-17T13:05:00.909310Z",
     "shell.execute_reply": "2022-01-17T13:05:00.910020Z",
     "shell.execute_reply.started": "2022-01-13T12:21:48.204496Z"
    },
    "papermill": {
     "duration": 0.14775,
     "end_time": "2022-01-17T13:05:00.910275",
     "exception": false,
     "start_time": "2022-01-17T13:05:00.762525",
     "status": "completed"
    },
    "tags": []
   },
   "outputs": [],
   "source": [
    "cols_target = ['toxic', 'obscene', 'insult',\n",
    "               'threat', 'severe_toxic', 'identity_hate']"
   ]
  },
  {
   "cell_type": "code",
   "execution_count": 6,
   "id": "3548cc51",
   "metadata": {
    "execution": {
     "iopub.execute_input": "2022-01-17T13:05:01.134466Z",
     "iopub.status.busy": "2022-01-17T13:05:01.133488Z",
     "iopub.status.idle": "2022-01-17T13:05:01.418485Z",
     "shell.execute_reply": "2022-01-17T13:05:01.419198Z",
     "shell.execute_reply.started": "2022-01-13T12:21:48.212353Z"
    },
    "papermill": {
     "duration": 0.397975,
     "end_time": "2022-01-17T13:05:01.419478",
     "exception": false,
     "start_time": "2022-01-17T13:05:01.021503",
     "status": "completed"
    },
    "tags": []
   },
   "outputs": [],
   "source": [
    "y_test = pd.read_csv(\n",
    "    '../input/jigsaw-toxic-comment-classification-challenge/test_labels.csv')"
   ]
  },
  {
   "cell_type": "code",
   "execution_count": 7,
   "id": "7c3aa160",
   "metadata": {
    "execution": {
     "iopub.execute_input": "2022-01-17T13:05:01.634014Z",
     "iopub.status.busy": "2022-01-17T13:05:01.626244Z",
     "iopub.status.idle": "2022-01-17T13:05:01.824628Z",
     "shell.execute_reply": "2022-01-17T13:05:01.826098Z",
     "shell.execute_reply.started": "2022-01-13T12:21:48.395009Z"
    },
    "papermill": {
     "duration": 0.31028,
     "end_time": "2022-01-17T13:05:01.826361",
     "exception": false,
     "start_time": "2022-01-17T13:05:01.516081",
     "status": "completed"
    },
    "tags": []
   },
   "outputs": [],
   "source": [
    "# merge test data and their labels\n",
    "df_test = df_test.merge(y_test, on='id', how='left')\n",
    "\n",
    "# remove data without label info (label =-1)\n",
    "df_test2 = df_test[df_test.toxic != -1]"
   ]
  },
  {
   "cell_type": "markdown",
   "id": "37073525",
   "metadata": {
    "papermill": {
     "duration": 0.097046,
     "end_time": "2022-01-17T13:05:02.022594",
     "exception": false,
     "start_time": "2022-01-17T13:05:01.925548",
     "status": "completed"
    },
    "tags": []
   },
   "source": [
    "# Data preparation"
   ]
  },
  {
   "cell_type": "code",
   "execution_count": 8,
   "id": "5ef42412",
   "metadata": {
    "execution": {
     "iopub.execute_input": "2022-01-17T13:05:02.158325Z",
     "iopub.status.busy": "2022-01-17T13:05:02.157516Z",
     "iopub.status.idle": "2022-01-17T13:05:02.161480Z",
     "shell.execute_reply": "2022-01-17T13:05:02.160837Z",
     "shell.execute_reply.started": "2022-01-13T12:21:49.117896Z"
    },
    "papermill": {
     "duration": 0.072291,
     "end_time": "2022-01-17T13:05:02.161624",
     "exception": false,
     "start_time": "2022-01-17T13:05:02.089333",
     "status": "completed"
    },
    "tags": []
   },
   "outputs": [],
   "source": [
    "def clean_text(text):\n",
    "    text = text.lower()\n",
    "    text = re.sub(r\"what's\", \"what is \", text)\n",
    "    text = re.sub(r\"\\'s\", \" \", text)\n",
    "    text = re.sub(r\"\\'ve\", \" have \", text)\n",
    "    text = re.sub(r\"can't\", \"cannot \", text)\n",
    "    text = re.sub(r\"n't\", \" not \", text)\n",
    "    text = re.sub(r\"i'm\", \"i am \", text)\n",
    "    text = re.sub(r\"\\'re\", \" are \", text)\n",
    "    text = re.sub(r\"\\'d\", \" would \", text)\n",
    "    text = re.sub(r\"\\'ll\", \" will \", text)\n",
    "    text = re.sub(r\"\\'scuse\", \" excuse \", text)\n",
    "    text = re.sub('\\W', ' ', text)\n",
    "    text = re.sub('\\s+', ' ', text)\n",
    "    text = text.strip(' ')\n",
    "    return text"
   ]
  },
  {
   "cell_type": "code",
   "execution_count": 9,
   "id": "6ca3c7ba",
   "metadata": {
    "execution": {
     "iopub.execute_input": "2022-01-17T13:05:02.305652Z",
     "iopub.status.busy": "2022-01-17T13:05:02.290461Z",
     "iopub.status.idle": "2022-01-17T13:05:22.195205Z",
     "shell.execute_reply": "2022-01-17T13:05:22.196248Z",
     "shell.execute_reply.started": "2022-01-13T12:21:49.561187Z"
    },
    "papermill": {
     "duration": 19.974316,
     "end_time": "2022-01-17T13:05:22.196469",
     "exception": false,
     "start_time": "2022-01-17T13:05:02.222153",
     "status": "completed"
    },
    "tags": []
   },
   "outputs": [
    {
     "name": "stderr",
     "output_type": "stream",
     "text": [
      "/opt/conda/lib/python3.7/site-packages/ipykernel_launcher.py:5: SettingWithCopyWarning: \n",
      "A value is trying to be set on a copy of a slice from a DataFrame.\n",
      "Try using .loc[row_indexer,col_indexer] = value instead\n",
      "\n",
      "See the caveats in the documentation: https://pandas.pydata.org/pandas-docs/stable/user_guide/indexing.html#returning-a-view-versus-a-copy\n",
      "  \"\"\"\n"
     ]
    }
   ],
   "source": [
    "# clean the comment_text in train_df\n",
    "df_train['comment_text'] = df_train['comment_text'].apply(\n",
    "    lambda com: clean_text(com))\n",
    "\n",
    "# clean the comment_text in test_df\n",
    "df_test2['comment_text'] = df_test2['comment_text'].map(\n",
    "    lambda com: clean_text(com))"
   ]
  },
  {
   "cell_type": "code",
   "execution_count": 10,
   "id": "1198a9ba",
   "metadata": {
    "execution": {
     "iopub.execute_input": "2022-01-17T13:05:22.327915Z",
     "iopub.status.busy": "2022-01-17T13:05:22.326821Z",
     "iopub.status.idle": "2022-01-17T13:05:22.330356Z",
     "shell.execute_reply": "2022-01-17T13:05:22.329818Z",
     "shell.execute_reply.started": "2022-01-13T12:22:07.454588Z"
    },
    "papermill": {
     "duration": 0.07079,
     "end_time": "2022-01-17T13:05:22.330519",
     "exception": false,
     "start_time": "2022-01-17T13:05:22.259729",
     "status": "completed"
    },
    "tags": []
   },
   "outputs": [],
   "source": [
    "# get the number of classes\n",
    "num_classes = len(cols_target)"
   ]
  },
  {
   "cell_type": "code",
   "execution_count": 12,
   "id": "a51c453a",
   "metadata": {
    "execution": {
     "iopub.execute_input": "2022-01-17T13:05:22.710199Z",
     "iopub.status.busy": "2022-01-17T13:05:22.705336Z",
     "iopub.status.idle": "2022-01-17T13:05:23.382272Z",
     "shell.execute_reply": "2022-01-17T13:05:23.382972Z",
     "shell.execute_reply.started": "2022-01-13T12:22:23.518331Z"
    },
    "papermill": {
     "duration": 0.741562,
     "end_time": "2022-01-17T13:05:23.383183",
     "exception": false,
     "start_time": "2022-01-17T13:05:22.641621",
     "status": "completed"
    },
    "tags": []
   },
   "outputs": [
    {
     "data": {
      "text/plain": [
       "(159571, 159571)"
      ]
     },
     "execution_count": 12,
     "metadata": {},
     "output_type": "execute_result"
    }
   ],
   "source": [
    "# get max length\n",
    "max_len=df_train.comment_text.apply(lambda x : len(x.split(' '))).max()\n",
    "\n",
    "\n",
    "sentences=df_train.comment_text\n",
    "labels=df_train[cols_target]\n",
    "len(sentences),len(labels)"
   ]
  },
  {
   "cell_type": "markdown",
   "id": "61127820",
   "metadata": {
    "papermill": {
     "duration": 0.059888,
     "end_time": "2022-01-17T13:05:23.768556",
     "exception": false,
     "start_time": "2022-01-17T13:05:23.708668",
     "status": "completed"
    },
    "tags": []
   },
   "source": [
    "# BERT model"
   ]
  },
  {
   "cell_type": "markdown",
   "id": "8d930d93",
   "metadata": {
    "papermill": {
     "duration": 0.059517,
     "end_time": "2022-01-17T13:05:23.888457",
     "exception": false,
     "start_time": "2022-01-17T13:05:23.828940",
     "status": "completed"
    },
    "tags": []
   },
   "source": [
    "Inspired by : \n",
    "https://www.kaggle.com/toru59er/0-765-lightgbm-bert-simple-baseline"
   ]
  },
  {
   "cell_type": "code",
   "execution_count": 16,
   "id": "c98ed0e5",
   "metadata": {
    "execution": {
     "iopub.execute_input": "2022-01-17T13:05:24.164375Z",
     "iopub.status.busy": "2022-01-17T13:05:24.160255Z",
     "iopub.status.idle": "2022-01-17T13:05:24.167322Z",
     "shell.execute_reply": "2022-01-17T13:05:24.166779Z",
     "shell.execute_reply.started": "2022-01-13T12:23:53.999098Z"
    },
    "papermill": {
     "duration": 0.076489,
     "end_time": "2022-01-17T13:05:24.167453",
     "exception": false,
     "start_time": "2022-01-17T13:05:24.090964",
     "status": "completed"
    },
    "tags": []
   },
   "outputs": [],
   "source": [
    "pretrained_bert = \"../input/huggingface-bert/bert-base-uncased\"\n",
    "\n",
    "class BertSequenceVectorizer:\n",
    "    def __init__(self):\n",
    "        self.device = 'cuda' if torch.cuda.is_available() else 'cpu'\n",
    "        self.model_name = pretrained_bert\n",
    "#         self.model_name = \"../input/distil-roberta-base\"\n",
    "#         self.tokenizer = RobertaTokenizer.from_pretrained(self.model_name)\n",
    "        self.tokenizer = AutoTokenizer.from_pretrained(self.model_name)\n",
    "\n",
    "#         self.bert_model = transformers.RobertaModel.from_pretrained(self.model_name)\n",
    "        self.bert_model = transformers.AutoModel.from_pretrained(\n",
    "            self.model_name)\n",
    "        self.bert_model = self.bert_model.to(self.device)\n",
    "        self.max_len = 128\n",
    "#         self.max_len = 256\n",
    "\n",
    "    def vectorize(self, sentence: str) -> np.array:\n",
    "        inp = self.tokenizer.encode(sentence)\n",
    "        len_inp = len(inp)\n",
    "\n",
    "        if len_inp >= self.max_len:\n",
    "            inputs = inp[:self.max_len]\n",
    "            masks = [1] * self.max_len\n",
    "        else:\n",
    "            inputs = inp + [0] * (self.max_len - len_inp)\n",
    "            masks = [1] * len_inp + [0] * (self.max_len - len_inp)\n",
    "\n",
    "        inputs_tensor = torch.tensor(\n",
    "            [inputs], dtype=torch.long).to(self.device)\n",
    "        masks_tensor = torch.tensor([masks], dtype=torch.long).to(self.device)\n",
    "\n",
    "        seq_out = self.bert_model(inputs_tensor, masks_tensor)[0]\n",
    "        pooled_out = self.bert_model(inputs_tensor, masks_tensor)[1]\n",
    "\n",
    "        if torch.cuda.is_available():\n",
    "            return seq_out[0][0].cpu().detach().numpy()\n",
    "        else:\n",
    "            return seq_out[0][0].detach().numpy()"
   ]
  },
  {
   "cell_type": "code",
   "execution_count": 17,
   "id": "40e76338",
   "metadata": {
    "execution": {
     "iopub.execute_input": "2022-01-17T13:05:24.349767Z",
     "iopub.status.busy": "2022-01-17T13:05:24.349009Z",
     "iopub.status.idle": "2022-01-17T14:36:49.312326Z",
     "shell.execute_reply": "2022-01-17T14:36:49.312854Z",
     "shell.execute_reply.started": "2022-01-12T13:33:35.140053Z"
    },
    "papermill": {
     "duration": 5485.085198,
     "end_time": "2022-01-17T14:36:49.313068",
     "exception": false,
     "start_time": "2022-01-17T13:05:24.227870",
     "status": "completed"
    },
    "tags": []
   },
   "outputs": [
    {
     "name": "stderr",
     "output_type": "stream",
     "text": [
      "Some weights of the model checkpoint at ../input/huggingface-bert/bert-base-uncased were not used when initializing BertModel: ['cls.predictions.bias', 'cls.predictions.decoder.weight', 'cls.predictions.transform.LayerNorm.bias', 'cls.predictions.transform.LayerNorm.weight', 'cls.predictions.transform.dense.bias', 'cls.seq_relationship.weight', 'cls.seq_relationship.bias', 'cls.predictions.transform.dense.weight']\n",
      "- This IS expected if you are initializing BertModel from the checkpoint of a model trained on another task or with another architecture (e.g. initializing a BertForSequenceClassification model from a BertForPreTraining model).\n",
      "- This IS NOT expected if you are initializing BertModel from the checkpoint of a model that you expect to be exactly identical (initializing a BertForSequenceClassification model from a BertForSequenceClassification model).\n"
     ]
    }
   ],
   "source": [
    "# apply BERT tokenizer and model to the training sentences\n",
    "BSV = BertSequenceVectorizer()\n",
    "sentences_bert = sentences.apply(lambda x: BSV.vectorize(\n",
    "    x) if x is not np.nan else np.array([0]*768))"
   ]
  },
  {
   "cell_type": "code",
   "execution_count": 18,
   "id": "1975ba3e",
   "metadata": {
    "execution": {
     "iopub.execute_input": "2022-01-17T14:36:49.556045Z",
     "iopub.status.busy": "2022-01-17T14:36:49.554645Z",
     "iopub.status.idle": "2022-01-17T14:36:49.559889Z",
     "shell.execute_reply": "2022-01-17T14:36:49.561303Z",
     "shell.execute_reply.started": "2022-01-12T14:40:12.88362Z"
    },
    "papermill": {
     "duration": 0.140763,
     "end_time": "2022-01-17T14:36:49.561556",
     "exception": false,
     "start_time": "2022-01-17T14:36:49.420793",
     "status": "completed"
    },
    "tags": []
   },
   "outputs": [
    {
     "data": {
      "text/plain": [
       "(768,)"
      ]
     },
     "execution_count": 18,
     "metadata": {},
     "output_type": "execute_result"
    }
   ],
   "source": [
    "sentences_bert[0].shape"
   ]
  },
  {
   "cell_type": "code",
   "execution_count": 19,
   "id": "ee121d49",
   "metadata": {
    "execution": {
     "iopub.execute_input": "2022-01-17T14:36:49.809669Z",
     "iopub.status.busy": "2022-01-17T14:36:49.808699Z",
     "iopub.status.idle": "2022-01-17T14:38:23.108572Z",
     "shell.execute_reply": "2022-01-17T14:38:23.107578Z",
     "shell.execute_reply.started": "2022-01-12T14:40:33.645794Z"
    },
    "papermill": {
     "duration": 93.423148,
     "end_time": "2022-01-17T14:38:23.108741",
     "exception": false,
     "start_time": "2022-01-17T14:36:49.685593",
     "status": "completed"
    },
    "tags": []
   },
   "outputs": [],
   "source": [
    "# reformat bert outputs\n",
    "bert = pd.DataFrame(sentences_bert.tolist())\n",
    "bert.columns = ['text_bertvec_'+str(col) for col in bert.columns]"
   ]
  },
  {
   "cell_type": "code",
   "execution_count": 20,
   "id": "d17aeba8",
   "metadata": {
    "execution": {
     "iopub.execute_input": "2022-01-17T14:38:23.244174Z",
     "iopub.status.busy": "2022-01-17T14:38:23.243205Z",
     "iopub.status.idle": "2022-01-17T14:38:23.272583Z",
     "shell.execute_reply": "2022-01-17T14:38:23.272022Z",
     "shell.execute_reply.started": "2022-01-12T14:46:45.102693Z"
    },
    "papermill": {
     "duration": 0.099564,
     "end_time": "2022-01-17T14:38:23.272725",
     "exception": false,
     "start_time": "2022-01-17T14:38:23.173161",
     "status": "completed"
    },
    "tags": []
   },
   "outputs": [
    {
     "data": {
      "text/html": [
       "<div>\n",
       "<style scoped>\n",
       "    .dataframe tbody tr th:only-of-type {\n",
       "        vertical-align: middle;\n",
       "    }\n",
       "\n",
       "    .dataframe tbody tr th {\n",
       "        vertical-align: top;\n",
       "    }\n",
       "\n",
       "    .dataframe thead th {\n",
       "        text-align: right;\n",
       "    }\n",
       "</style>\n",
       "<table border=\"1\" class=\"dataframe\">\n",
       "  <thead>\n",
       "    <tr style=\"text-align: right;\">\n",
       "      <th></th>\n",
       "      <th>text_bertvec_0</th>\n",
       "      <th>text_bertvec_1</th>\n",
       "      <th>text_bertvec_2</th>\n",
       "      <th>text_bertvec_3</th>\n",
       "      <th>text_bertvec_4</th>\n",
       "      <th>text_bertvec_5</th>\n",
       "      <th>text_bertvec_6</th>\n",
       "      <th>text_bertvec_7</th>\n",
       "      <th>text_bertvec_8</th>\n",
       "      <th>text_bertvec_9</th>\n",
       "      <th>...</th>\n",
       "      <th>text_bertvec_758</th>\n",
       "      <th>text_bertvec_759</th>\n",
       "      <th>text_bertvec_760</th>\n",
       "      <th>text_bertvec_761</th>\n",
       "      <th>text_bertvec_762</th>\n",
       "      <th>text_bertvec_763</th>\n",
       "      <th>text_bertvec_764</th>\n",
       "      <th>text_bertvec_765</th>\n",
       "      <th>text_bertvec_766</th>\n",
       "      <th>text_bertvec_767</th>\n",
       "    </tr>\n",
       "  </thead>\n",
       "  <tbody>\n",
       "    <tr>\n",
       "      <th>0</th>\n",
       "      <td>0.072238</td>\n",
       "      <td>0.197720</td>\n",
       "      <td>0.269506</td>\n",
       "      <td>0.125484</td>\n",
       "      <td>-0.334173</td>\n",
       "      <td>-0.393379</td>\n",
       "      <td>0.447892</td>\n",
       "      <td>0.416747</td>\n",
       "      <td>0.239246</td>\n",
       "      <td>-0.357066</td>\n",
       "      <td>...</td>\n",
       "      <td>0.118503</td>\n",
       "      <td>-0.029593</td>\n",
       "      <td>0.042839</td>\n",
       "      <td>-0.122591</td>\n",
       "      <td>0.634801</td>\n",
       "      <td>0.208534</td>\n",
       "      <td>-0.330013</td>\n",
       "      <td>-0.213664</td>\n",
       "      <td>0.211070</td>\n",
       "      <td>0.406809</td>\n",
       "    </tr>\n",
       "    <tr>\n",
       "      <th>1</th>\n",
       "      <td>-0.272002</td>\n",
       "      <td>-0.116618</td>\n",
       "      <td>0.580873</td>\n",
       "      <td>-0.078019</td>\n",
       "      <td>-0.243167</td>\n",
       "      <td>-0.240009</td>\n",
       "      <td>0.751340</td>\n",
       "      <td>0.328918</td>\n",
       "      <td>-0.053315</td>\n",
       "      <td>-0.054193</td>\n",
       "      <td>...</td>\n",
       "      <td>0.053319</td>\n",
       "      <td>-0.289297</td>\n",
       "      <td>0.270767</td>\n",
       "      <td>-0.054791</td>\n",
       "      <td>0.060203</td>\n",
       "      <td>0.031467</td>\n",
       "      <td>0.069743</td>\n",
       "      <td>-0.380638</td>\n",
       "      <td>0.459441</td>\n",
       "      <td>0.628730</td>\n",
       "    </tr>\n",
       "    <tr>\n",
       "      <th>2</th>\n",
       "      <td>0.327859</td>\n",
       "      <td>0.291476</td>\n",
       "      <td>0.169962</td>\n",
       "      <td>0.039502</td>\n",
       "      <td>-0.590333</td>\n",
       "      <td>-0.561693</td>\n",
       "      <td>0.235517</td>\n",
       "      <td>0.860082</td>\n",
       "      <td>0.034937</td>\n",
       "      <td>-0.603270</td>\n",
       "      <td>...</td>\n",
       "      <td>-0.229587</td>\n",
       "      <td>0.040969</td>\n",
       "      <td>0.306236</td>\n",
       "      <td>-0.406571</td>\n",
       "      <td>0.107528</td>\n",
       "      <td>0.168994</td>\n",
       "      <td>-0.100248</td>\n",
       "      <td>-0.012360</td>\n",
       "      <td>0.896013</td>\n",
       "      <td>0.563320</td>\n",
       "    </tr>\n",
       "    <tr>\n",
       "      <th>3</th>\n",
       "      <td>0.307734</td>\n",
       "      <td>0.460982</td>\n",
       "      <td>0.134422</td>\n",
       "      <td>-0.094811</td>\n",
       "      <td>-0.178030</td>\n",
       "      <td>-0.562496</td>\n",
       "      <td>-0.121295</td>\n",
       "      <td>0.606913</td>\n",
       "      <td>-0.099578</td>\n",
       "      <td>-0.123005</td>\n",
       "      <td>...</td>\n",
       "      <td>0.092666</td>\n",
       "      <td>-0.224054</td>\n",
       "      <td>-0.087925</td>\n",
       "      <td>-0.133209</td>\n",
       "      <td>0.421870</td>\n",
       "      <td>-0.250601</td>\n",
       "      <td>-0.548412</td>\n",
       "      <td>-0.425708</td>\n",
       "      <td>0.248791</td>\n",
       "      <td>0.558330</td>\n",
       "    </tr>\n",
       "    <tr>\n",
       "      <th>4</th>\n",
       "      <td>0.100213</td>\n",
       "      <td>0.025797</td>\n",
       "      <td>0.133326</td>\n",
       "      <td>0.007313</td>\n",
       "      <td>-0.114581</td>\n",
       "      <td>-0.370446</td>\n",
       "      <td>0.122238</td>\n",
       "      <td>0.668644</td>\n",
       "      <td>-0.126055</td>\n",
       "      <td>-0.137596</td>\n",
       "      <td>...</td>\n",
       "      <td>-0.227183</td>\n",
       "      <td>-0.453095</td>\n",
       "      <td>0.162811</td>\n",
       "      <td>-0.082508</td>\n",
       "      <td>0.189061</td>\n",
       "      <td>0.019020</td>\n",
       "      <td>-0.137315</td>\n",
       "      <td>-0.447910</td>\n",
       "      <td>0.291573</td>\n",
       "      <td>0.374789</td>\n",
       "    </tr>\n",
       "  </tbody>\n",
       "</table>\n",
       "<p>5 rows × 768 columns</p>\n",
       "</div>"
      ],
      "text/plain": [
       "   text_bertvec_0  text_bertvec_1  text_bertvec_2  text_bertvec_3  \\\n",
       "0        0.072238        0.197720        0.269506        0.125484   \n",
       "1       -0.272002       -0.116618        0.580873       -0.078019   \n",
       "2        0.327859        0.291476        0.169962        0.039502   \n",
       "3        0.307734        0.460982        0.134422       -0.094811   \n",
       "4        0.100213        0.025797        0.133326        0.007313   \n",
       "\n",
       "   text_bertvec_4  text_bertvec_5  text_bertvec_6  text_bertvec_7  \\\n",
       "0       -0.334173       -0.393379        0.447892        0.416747   \n",
       "1       -0.243167       -0.240009        0.751340        0.328918   \n",
       "2       -0.590333       -0.561693        0.235517        0.860082   \n",
       "3       -0.178030       -0.562496       -0.121295        0.606913   \n",
       "4       -0.114581       -0.370446        0.122238        0.668644   \n",
       "\n",
       "   text_bertvec_8  text_bertvec_9  ...  text_bertvec_758  text_bertvec_759  \\\n",
       "0        0.239246       -0.357066  ...          0.118503         -0.029593   \n",
       "1       -0.053315       -0.054193  ...          0.053319         -0.289297   \n",
       "2        0.034937       -0.603270  ...         -0.229587          0.040969   \n",
       "3       -0.099578       -0.123005  ...          0.092666         -0.224054   \n",
       "4       -0.126055       -0.137596  ...         -0.227183         -0.453095   \n",
       "\n",
       "   text_bertvec_760  text_bertvec_761  text_bertvec_762  text_bertvec_763  \\\n",
       "0          0.042839         -0.122591          0.634801          0.208534   \n",
       "1          0.270767         -0.054791          0.060203          0.031467   \n",
       "2          0.306236         -0.406571          0.107528          0.168994   \n",
       "3         -0.087925         -0.133209          0.421870         -0.250601   \n",
       "4          0.162811         -0.082508          0.189061          0.019020   \n",
       "\n",
       "   text_bertvec_764  text_bertvec_765  text_bertvec_766  text_bertvec_767  \n",
       "0         -0.330013         -0.213664          0.211070          0.406809  \n",
       "1          0.069743         -0.380638          0.459441          0.628730  \n",
       "2         -0.100248         -0.012360          0.896013          0.563320  \n",
       "3         -0.548412         -0.425708          0.248791          0.558330  \n",
       "4         -0.137315         -0.447910          0.291573          0.374789  \n",
       "\n",
       "[5 rows x 768 columns]"
      ]
     },
     "execution_count": 20,
     "metadata": {},
     "output_type": "execute_result"
    }
   ],
   "source": [
    "# transform bert outputs to dataframe\n",
    "text_bert_df = pd.DataFrame(bert)\n",
    "text_bert_df.head()"
   ]
  },
  {
   "cell_type": "code",
   "execution_count": 21,
   "id": "5e8c35d6",
   "metadata": {
    "execution": {
     "iopub.execute_input": "2022-01-17T14:38:23.405975Z",
     "iopub.status.busy": "2022-01-17T14:38:23.404938Z",
     "iopub.status.idle": "2022-01-17T14:41:14.526065Z",
     "shell.execute_reply": "2022-01-17T14:41:14.525432Z"
    },
    "papermill": {
     "duration": 171.190273,
     "end_time": "2022-01-17T14:41:14.526240",
     "exception": false,
     "start_time": "2022-01-17T14:38:23.335967",
     "status": "completed"
    },
    "tags": []
   },
   "outputs": [],
   "source": [
    "text_bert_df.to_csv('./text_bert_df.csv')"
   ]
  },
  {
   "cell_type": "code",
   "execution_count": 25,
   "id": "211794b1",
   "metadata": {
    "execution": {
     "iopub.execute_input": "2022-01-17T15:19:48.275489Z",
     "iopub.status.busy": "2022-01-17T15:19:48.274403Z",
     "iopub.status.idle": "2022-01-17T15:19:48.923364Z",
     "shell.execute_reply": "2022-01-17T15:19:48.924114Z",
     "shell.execute_reply.started": "2022-01-12T14:57:12.086045Z"
    },
    "papermill": {
     "duration": 0.718594,
     "end_time": "2022-01-17T15:19:48.924314",
     "exception": false,
     "start_time": "2022-01-17T15:19:48.205720",
     "status": "completed"
    },
    "tags": []
   },
   "outputs": [],
   "source": [
    "# split data on train and validation\n",
    "X_train,  X_val, y_train, y_val = train_test_split(\n",
    "    text_bert_df, labels, random_state=12)"
   ]
  },
  {
   "cell_type": "code",
   "execution_count": 26,
   "id": "d13c1a21",
   "metadata": {
    "collapsed": true,
    "execution": {
     "iopub.execute_input": "2022-01-17T15:19:49.051127Z",
     "iopub.status.busy": "2022-01-17T15:19:49.050080Z",
     "iopub.status.idle": "2022-01-17T15:34:24.721101Z",
     "shell.execute_reply": "2022-01-17T15:34:24.721651Z",
     "shell.execute_reply.started": "2022-01-12T14:58:24.606849Z"
    },
    "jupyter": {
     "outputs_hidden": true
    },
    "papermill": {
     "duration": 875.734271,
     "end_time": "2022-01-17T15:34:24.721837",
     "exception": false,
     "start_time": "2022-01-17T15:19:48.987566",
     "status": "completed"
    },
    "tags": []
   },
   "outputs": [
    {
     "data": {
      "text/plain": [
       "RandomForestClassifier(max_depth=50, min_samples_split=5, n_jobs=5,\n",
       "                       random_state=12)"
      ]
     },
     "execution_count": 26,
     "metadata": {},
     "output_type": "execute_result"
    }
   ],
   "source": [
    "# apply random forest classifier on bert embeddings\n",
    "rf = RandomForestClassifier(\n",
    "    max_depth=50, min_samples_split=5, random_state=12, n_jobs=5)\n",
    "rf.fit(X_train, y_train)"
   ]
  },
  {
   "cell_type": "code",
   "execution_count": 27,
   "id": "8b6ba9a7",
   "metadata": {
    "execution": {
     "iopub.execute_input": "2022-01-17T15:34:24.853803Z",
     "iopub.status.busy": "2022-01-17T15:34:24.851333Z",
     "iopub.status.idle": "2022-01-17T15:34:25.064704Z",
     "shell.execute_reply": "2022-01-17T15:34:25.065281Z",
     "shell.execute_reply.started": "2022-01-13T12:23:22.805918Z"
    },
    "papermill": {
     "duration": 0.279557,
     "end_time": "2022-01-17T15:34:25.065466",
     "exception": false,
     "start_time": "2022-01-17T15:34:24.785909",
     "status": "completed"
    },
    "tags": []
   },
   "outputs": [],
   "source": [
    "import pickle\n",
    "# save the model \n",
    "filename = './model.pkl'\n",
    "pickle.dump(rf, open(filename, 'wb'))\n",
    "\n",
    "#rf = pickle.load(open('../input/model-rf/model.pkl', 'rb'))"
   ]
  },
  {
   "cell_type": "code",
   "execution_count": 29,
   "id": "9f685901",
   "metadata": {
    "execution": {
     "iopub.execute_input": "2022-01-17T15:34:25.333346Z",
     "iopub.status.busy": "2022-01-17T15:34:25.332187Z",
     "iopub.status.idle": "2022-01-17T15:34:34.024658Z",
     "shell.execute_reply": "2022-01-17T15:34:34.025508Z"
    },
    "papermill": {
     "duration": 8.767316,
     "end_time": "2022-01-17T15:34:34.025690",
     "exception": false,
     "start_time": "2022-01-17T15:34:25.258374",
     "status": "completed"
    },
    "tags": []
   },
   "outputs": [
    {
     "data": {
      "text/plain": [
       "0.9856113905646819"
      ]
     },
     "execution_count": 29,
     "metadata": {},
     "output_type": "execute_result"
    }
   ],
   "source": [
    "# accuracy score of training data\n",
    "pred_train = rf.predict(X_train)\n",
    "accuracy_score(y_train,pred_train)"
   ]
  },
  {
   "cell_type": "code",
   "execution_count": 30,
   "id": "69b49126",
   "metadata": {
    "execution": {
     "iopub.execute_input": "2022-01-17T15:34:34.167125Z",
     "iopub.status.busy": "2022-01-17T15:34:34.165987Z",
     "iopub.status.idle": "2022-01-17T15:34:37.244056Z",
     "shell.execute_reply": "2022-01-17T15:34:37.243437Z"
    },
    "papermill": {
     "duration": 3.153724,
     "end_time": "2022-01-17T15:34:37.244207",
     "exception": false,
     "start_time": "2022-01-17T15:34:34.090483",
     "status": "completed"
    },
    "tags": []
   },
   "outputs": [
    {
     "data": {
      "text/plain": [
       "0.9029152984232823"
      ]
     },
     "execution_count": 30,
     "metadata": {},
     "output_type": "execute_result"
    }
   ],
   "source": [
    "# accuracy score of validation data\n",
    "pred_val = rf.predict(X_val)\n",
    "accuracy_score(y_val,pred_val)"
   ]
  },
  {
   "cell_type": "markdown",
   "id": "4ea84bd2",
   "metadata": {
    "papermill": {
     "duration": 0.063744,
     "end_time": "2022-01-17T15:34:38.460639",
     "exception": false,
     "start_time": "2022-01-17T15:34:38.396895",
     "status": "completed"
    },
    "tags": []
   },
   "source": [
    "# Test"
   ]
  },
  {
   "cell_type": "code",
   "execution_count": 22,
   "id": "353f5b9d",
   "metadata": {
    "execution": {
     "iopub.execute_input": "2022-01-17T14:41:14.664101Z",
     "iopub.status.busy": "2022-01-17T14:41:14.663062Z",
     "iopub.status.idle": "2022-01-17T15:19:47.717395Z",
     "shell.execute_reply": "2022-01-17T15:19:47.716405Z"
    },
    "papermill": {
     "duration": 2313.127143,
     "end_time": "2022-01-17T15:19:47.717699",
     "exception": false,
     "start_time": "2022-01-17T14:41:14.590556",
     "status": "completed"
    },
    "tags": []
   },
   "outputs": [],
   "source": [
    "# test sentences\n",
    "sentences_bert_test = df_test2.comment_text.apply(\n",
    "    lambda x: BSV.vectorize(x) if x is not np.nan else np.array([0]*768))\n",
    "bert_test = pd.DataFrame(sentences_bert_test.tolist())\n",
    "bert_test.columns = ['text_bertvec_'+str(col) for col in bert_test.columns]\n",
    "text_bert_df_test = pd.DataFrame(bert_test)\n",
    "\n",
    "text_bert_df_test.to_csv('./text_bert_df_test.csv')"
   ]
  },
  {
   "cell_type": "code",
   "execution_count": 38,
   "id": "aa94ba89",
   "metadata": {
    "execution": {
     "iopub.execute_input": "2022-01-17T15:34:38.751580Z",
     "iopub.status.busy": "2022-01-17T15:34:38.750385Z",
     "iopub.status.idle": "2022-01-17T15:34:43.025387Z",
     "shell.execute_reply": "2022-01-17T15:34:43.024770Z"
    },
    "papermill": {
     "duration": 4.355593,
     "end_time": "2022-01-17T15:34:43.025564",
     "exception": false,
     "start_time": "2022-01-17T15:34:38.669971",
     "status": "completed"
    },
    "tags": []
   },
   "outputs": [],
   "source": [
    "# get predictions for test data\n",
    "pred = rf.predict(text_bert_df_test)"
   ]
  },
  {
   "cell_type": "code",
   "execution_count": 41,
   "id": "4531ba03",
   "metadata": {
    "execution": {
     "iopub.execute_input": "2022-01-17T15:34:43.434810Z",
     "iopub.status.busy": "2022-01-17T15:34:43.431397Z",
     "iopub.status.idle": "2022-01-17T15:34:43.458890Z",
     "shell.execute_reply": "2022-01-17T15:34:43.458277Z"
    },
    "papermill": {
     "duration": 0.097608,
     "end_time": "2022-01-17T15:34:43.459026",
     "exception": false,
     "start_time": "2022-01-17T15:34:43.361418",
     "status": "completed"
    },
    "tags": []
   },
   "outputs": [
    {
     "data": {
      "text/plain": [
       "0.9004032636218701"
      ]
     },
     "execution_count": 41,
     "metadata": {},
     "output_type": "execute_result"
    }
   ],
   "source": [
    "# accuracy score on test data\n",
    "accuracy_score(df_test2[cols_target], pred)"
   ]
  },
  {
   "cell_type": "markdown",
   "id": "35eb0ea8",
   "metadata": {
    "papermill": {
     "duration": 0.064724,
     "end_time": "2022-01-17T15:34:43.720219",
     "exception": false,
     "start_time": "2022-01-17T15:34:43.655495",
     "status": "completed"
    },
    "tags": []
   },
   "source": [
    "# Validation"
   ]
  },
  {
   "cell_type": "code",
   "execution_count": 42,
   "id": "9e160d0b",
   "metadata": {
    "execution": {
     "iopub.execute_input": "2022-01-17T15:34:43.854014Z",
     "iopub.status.busy": "2022-01-17T15:34:43.853406Z",
     "iopub.status.idle": "2022-01-17T15:34:44.276707Z",
     "shell.execute_reply": "2022-01-17T15:34:44.276146Z",
     "shell.execute_reply.started": "2022-01-13T12:23:35.966033Z"
    },
    "papermill": {
     "duration": 0.493361,
     "end_time": "2022-01-17T15:34:44.276871",
     "exception": false,
     "start_time": "2022-01-17T15:34:43.783510",
     "status": "completed"
    },
    "tags": []
   },
   "outputs": [],
   "source": [
    "validation_data = pd.read_csv(\n",
    "    '../input/jigsaw-toxic-severity-rating/validation_data.csv')"
   ]
  },
  {
   "cell_type": "code",
   "execution_count": 43,
   "id": "e73cd16e",
   "metadata": {
    "execution": {
     "iopub.execute_input": "2022-01-17T15:34:44.449944Z",
     "iopub.status.busy": "2022-01-17T15:34:44.415820Z",
     "iopub.status.idle": "2022-01-17T15:34:47.426691Z",
     "shell.execute_reply": "2022-01-17T15:34:47.425695Z",
     "shell.execute_reply.started": "2022-01-13T12:23:36.469461Z"
    },
    "papermill": {
     "duration": 3.079581,
     "end_time": "2022-01-17T15:34:47.426847",
     "exception": false,
     "start_time": "2022-01-17T15:34:44.347266",
     "status": "completed"
    },
    "tags": []
   },
   "outputs": [],
   "source": [
    "validation_data['less_toxic'] = validation_data.less_toxic.apply(clean_text)"
   ]
  },
  {
   "cell_type": "code",
   "execution_count": 44,
   "id": "2e3b2f4b",
   "metadata": {
    "execution": {
     "iopub.execute_input": "2022-01-17T15:34:47.570246Z",
     "iopub.status.busy": "2022-01-17T15:34:47.566075Z",
     "iopub.status.idle": "2022-01-17T15:34:50.209541Z",
     "shell.execute_reply": "2022-01-17T15:34:50.208865Z",
     "shell.execute_reply.started": "2022-01-13T12:23:38.929898Z"
    },
    "papermill": {
     "duration": 2.713456,
     "end_time": "2022-01-17T15:34:50.209723",
     "exception": false,
     "start_time": "2022-01-17T15:34:47.496267",
     "status": "completed"
    },
    "tags": []
   },
   "outputs": [],
   "source": [
    "validation_data['more_toxic'] = validation_data.more_toxic.apply(clean_text)"
   ]
  },
  {
   "cell_type": "code",
   "execution_count": 47,
   "id": "ce60afb9",
   "metadata": {
    "execution": {
     "iopub.execute_input": "2022-01-17T15:34:50.627865Z",
     "iopub.status.busy": "2022-01-17T15:34:50.627250Z",
     "iopub.status.idle": "2022-01-17T15:34:53.096202Z",
     "shell.execute_reply": "2022-01-17T15:34:53.095596Z",
     "shell.execute_reply.started": "2022-01-13T12:24:03.542807Z"
    },
    "papermill": {
     "duration": 2.538486,
     "end_time": "2022-01-17T15:34:53.096396",
     "exception": false,
     "start_time": "2022-01-17T15:34:50.557910",
     "status": "completed"
    },
    "tags": []
   },
   "outputs": [
    {
     "name": "stderr",
     "output_type": "stream",
     "text": [
      "Some weights of the model checkpoint at ../input/huggingface-bert/bert-base-uncased were not used when initializing BertModel: ['cls.predictions.bias', 'cls.predictions.decoder.weight', 'cls.predictions.transform.LayerNorm.bias', 'cls.predictions.transform.LayerNorm.weight', 'cls.predictions.transform.dense.bias', 'cls.seq_relationship.weight', 'cls.seq_relationship.bias', 'cls.predictions.transform.dense.weight']\n",
      "- This IS expected if you are initializing BertModel from the checkpoint of a model trained on another task or with another architecture (e.g. initializing a BertForSequenceClassification model from a BertForPreTraining model).\n",
      "- This IS NOT expected if you are initializing BertModel from the checkpoint of a model that you expect to be exactly identical (initializing a BertForSequenceClassification model from a BertForSequenceClassification model).\n"
     ]
    }
   ],
   "source": [
    "BSV = BertSequenceVectorizer()"
   ]
  },
  {
   "cell_type": "code",
   "execution_count": 48,
   "id": "0604f072",
   "metadata": {
    "execution": {
     "iopub.execute_input": "2022-01-17T15:34:53.234443Z",
     "iopub.status.busy": "2022-01-17T15:34:53.233360Z",
     "iopub.status.idle": "2022-01-17T15:52:37.546838Z",
     "shell.execute_reply": "2022-01-17T15:52:37.545940Z",
     "shell.execute_reply.started": "2022-01-13T12:24:20.392838Z"
    },
    "papermill": {
     "duration": 1064.385076,
     "end_time": "2022-01-17T15:52:37.547020",
     "exception": false,
     "start_time": "2022-01-17T15:34:53.161944",
     "status": "completed"
    },
    "tags": []
   },
   "outputs": [],
   "source": [
    "# bert embedding on less toxic sentences\n",
    "sentences_bert_val1 = validation_data.less_toxic.apply(\n",
    "    lambda x: BSV.vectorize(x) if x is not np.nan else np.array([0]*768))\n",
    "bert_val1 = pd.DataFrame(sentences_bert_val1.tolist())\n",
    "bert_val1.columns = ['text_bertvec_'+str(col) for col in bert_val1.columns]\n",
    "text_bert_df_val1 = pd.DataFrame(bert_val1)\n",
    "\n",
    "text_bert_df_val1.to_csv('./text_bert_df_val1.csv')"
   ]
  },
  {
   "cell_type": "code",
   "execution_count": 49,
   "id": "91ad540f",
   "metadata": {
    "execution": {
     "iopub.execute_input": "2022-01-17T15:52:37.688388Z",
     "iopub.status.busy": "2022-01-17T15:52:37.687337Z",
     "iopub.status.idle": "2022-01-17T16:10:10.308745Z",
     "shell.execute_reply": "2022-01-17T16:10:10.309558Z",
     "shell.execute_reply.started": "2022-01-13T12:43:51.308687Z"
    },
    "papermill": {
     "duration": 1052.693877,
     "end_time": "2022-01-17T16:10:10.309893",
     "exception": false,
     "start_time": "2022-01-17T15:52:37.616016",
     "status": "completed"
    },
    "tags": []
   },
   "outputs": [],
   "source": [
    "# bert embedding on more toxic sentences\n",
    "sentences_bert_val2 = validation_data.more_toxic.apply(\n",
    "    lambda x: BSV.vectorize(x) if x is not np.nan else np.array([0]*768))\n",
    "bert_val2 = pd.DataFrame(sentences_bert_val2.tolist())\n",
    "bert_val2.columns = ['text_bertvec_'+str(col) for col in bert_val2.columns]\n",
    "text_bert_df_val2 = pd.DataFrame(bert_val2)\n",
    "\n",
    "text_bert_df_val2.to_csv('./text_bert_df_val2.csv')"
   ]
  },
  {
   "cell_type": "code",
   "execution_count": 50,
   "id": "37d35969",
   "metadata": {
    "execution": {
     "iopub.execute_input": "2022-01-17T16:10:10.559810Z",
     "iopub.status.busy": "2022-01-17T16:10:10.558720Z",
     "iopub.status.idle": "2022-01-17T16:10:12.521855Z",
     "shell.execute_reply": "2022-01-17T16:10:12.522463Z",
     "shell.execute_reply.started": "2022-01-13T12:56:06.002398Z"
    },
    "papermill": {
     "duration": 2.094683,
     "end_time": "2022-01-17T16:10:12.522661",
     "exception": false,
     "start_time": "2022-01-17T16:10:10.427978",
     "status": "completed"
    },
    "tags": []
   },
   "outputs": [],
   "source": [
    "# predictions for less toxic data\n",
    "pred_val1 = rf.predict_proba(text_bert_df_val1)"
   ]
  },
  {
   "cell_type": "code",
   "execution_count": 51,
   "id": "574de73c",
   "metadata": {
    "execution": {
     "iopub.execute_input": "2022-01-17T16:10:12.666283Z",
     "iopub.status.busy": "2022-01-17T16:10:12.665568Z",
     "iopub.status.idle": "2022-01-17T16:10:12.670462Z",
     "shell.execute_reply": "2022-01-17T16:10:12.669814Z",
     "shell.execute_reply.started": "2022-01-13T13:02:54.097626Z"
    },
    "papermill": {
     "duration": 0.078593,
     "end_time": "2022-01-17T16:10:12.670614",
     "exception": false,
     "start_time": "2022-01-17T16:10:12.592021",
     "status": "completed"
    },
    "tags": []
   },
   "outputs": [],
   "source": [
    "# reshape predictions for less toxic data\n",
    "pred_val1_2 = np.array([x[:,1] for x in pred_val1]).T"
   ]
  },
  {
   "cell_type": "code",
   "execution_count": 52,
   "id": "946db6cb",
   "metadata": {
    "execution": {
     "iopub.execute_input": "2022-01-17T16:10:12.818276Z",
     "iopub.status.busy": "2022-01-17T16:10:12.808056Z",
     "iopub.status.idle": "2022-01-17T16:10:14.464681Z",
     "shell.execute_reply": "2022-01-17T16:10:14.464047Z",
     "shell.execute_reply.started": "2022-01-13T12:57:50.30618Z"
    },
    "papermill": {
     "duration": 1.725422,
     "end_time": "2022-01-17T16:10:14.464846",
     "exception": false,
     "start_time": "2022-01-17T16:10:12.739424",
     "status": "completed"
    },
    "tags": []
   },
   "outputs": [],
   "source": [
    "# predictions for more toxic data\n",
    "pred_val2 = rf.predict_proba(text_bert_df_val2)"
   ]
  },
  {
   "cell_type": "code",
   "execution_count": 53,
   "id": "01447af5",
   "metadata": {
    "execution": {
     "iopub.execute_input": "2022-01-17T16:10:14.607272Z",
     "iopub.status.busy": "2022-01-17T16:10:14.606485Z",
     "iopub.status.idle": "2022-01-17T16:10:14.610342Z",
     "shell.execute_reply": "2022-01-17T16:10:14.609768Z",
     "shell.execute_reply.started": "2022-01-13T13:03:05.575472Z"
    },
    "papermill": {
     "duration": 0.075989,
     "end_time": "2022-01-17T16:10:14.610484",
     "exception": false,
     "start_time": "2022-01-17T16:10:14.534495",
     "status": "completed"
    },
    "tags": []
   },
   "outputs": [],
   "source": [
    "# reshape predictions for more toxic data\n",
    "pred_val2_2 = np.array([x[:,1] for x in pred_val2]).T"
   ]
  },
  {
   "cell_type": "code",
   "execution_count": 54,
   "id": "b625af0a",
   "metadata": {
    "execution": {
     "iopub.execute_input": "2022-01-17T16:10:14.750526Z",
     "iopub.status.busy": "2022-01-17T16:10:14.749397Z",
     "iopub.status.idle": "2022-01-17T16:10:15.412352Z",
     "shell.execute_reply": "2022-01-17T16:10:15.411692Z",
     "shell.execute_reply.started": "2022-01-13T13:04:43.454604Z"
    },
    "papermill": {
     "duration": 0.734456,
     "end_time": "2022-01-17T16:10:15.412542",
     "exception": false,
     "start_time": "2022-01-17T16:10:14.678086",
     "status": "completed"
    },
    "tags": []
   },
   "outputs": [],
   "source": [
    "def score_function(a):\n",
    "    \"\"\" define the score of toxicity \"\"\"\n",
    "    # a[0] = a[0]   # toxic\n",
    "    # a[1] = a[1]*1.25 # obscene\n",
    "    # a[2] = a[2]*1.25 # insult\n",
    "    a[3] = a[3]*1.5  # threat\n",
    "    a[4] = a[4]*2  # severe_toxic\n",
    "    a[5] = a[5]*2  # identity hate\n",
    "    return a.sum()\n",
    "\n",
    "\n",
    "# apply score of toxicity on validation data\n",
    "val1_pred_sum = np.apply_along_axis(score_function, axis=1, arr=pred_val1_2)\n",
    "val2_pred_sum = np.apply_along_axis(score_function, axis=1, arr=pred_val2_2)"
   ]
  },
  {
   "cell_type": "code",
   "execution_count": 56,
   "id": "a1b542da",
   "metadata": {
    "execution": {
     "iopub.execute_input": "2022-01-17T16:10:15.698809Z",
     "iopub.status.busy": "2022-01-17T16:10:15.697752Z",
     "iopub.status.idle": "2022-01-17T16:10:15.705767Z",
     "shell.execute_reply": "2022-01-17T16:10:15.706320Z",
     "shell.execute_reply.started": "2022-01-13T13:04:47.668388Z"
    },
    "papermill": {
     "duration": 0.079726,
     "end_time": "2022-01-17T16:10:15.706472",
     "exception": false,
     "start_time": "2022-01-17T16:10:15.626746",
     "status": "completed"
    },
    "tags": []
   },
   "outputs": [
    {
     "data": {
      "text/plain": [
       "0.6739736946990833"
      ]
     },
     "execution_count": 56,
     "metadata": {},
     "output_type": "execute_result"
    }
   ],
   "source": [
    "# compute score on validation data\n",
    "(val1_pred_sum < val2_pred_sum).sum()/validation_data.shape[0]"
   ]
  },
  {
   "cell_type": "markdown",
   "id": "1c5564d0",
   "metadata": {
    "papermill": {
     "duration": 0.068141,
     "end_time": "2022-01-17T16:10:15.849034",
     "exception": false,
     "start_time": "2022-01-17T16:10:15.780893",
     "status": "completed"
    },
    "tags": []
   },
   "source": [
    "# Comments to score"
   ]
  },
  {
   "cell_type": "code",
   "execution_count": 57,
   "id": "628ce6ab",
   "metadata": {
    "execution": {
     "iopub.execute_input": "2022-01-17T16:10:15.992966Z",
     "iopub.status.busy": "2022-01-17T16:10:15.992204Z",
     "iopub.status.idle": "2022-01-17T16:10:16.079432Z",
     "shell.execute_reply": "2022-01-17T16:10:16.078829Z"
    },
    "papermill": {
     "duration": 0.160027,
     "end_time": "2022-01-17T16:10:16.079593",
     "exception": false,
     "start_time": "2022-01-17T16:10:15.919566",
     "status": "completed"
    },
    "tags": []
   },
   "outputs": [],
   "source": [
    "comments_to_score = pd.read_csv(\n",
    "    '../input/jigsaw-toxic-severity-rating/comments_to_score.csv')"
   ]
  },
  {
   "cell_type": "code",
   "execution_count": 58,
   "id": "d830925e",
   "metadata": {
    "execution": {
     "iopub.execute_input": "2022-01-17T16:10:16.250200Z",
     "iopub.status.busy": "2022-01-17T16:10:16.245059Z",
     "iopub.status.idle": "2022-01-17T16:10:17.021569Z",
     "shell.execute_reply": "2022-01-17T16:10:17.021051Z"
    },
    "papermill": {
     "duration": 0.872596,
     "end_time": "2022-01-17T16:10:17.021722",
     "exception": false,
     "start_time": "2022-01-17T16:10:16.149126",
     "status": "completed"
    },
    "tags": []
   },
   "outputs": [],
   "source": [
    "comments_to_score['text'] = comments_to_score.text.apply(clean_text)"
   ]
  },
  {
   "cell_type": "code",
   "execution_count": 60,
   "id": "64ab54c5",
   "metadata": {
    "execution": {
     "iopub.execute_input": "2022-01-17T16:10:17.297989Z",
     "iopub.status.busy": "2022-01-17T16:10:17.297067Z",
     "iopub.status.idle": "2022-01-17T16:14:41.980679Z",
     "shell.execute_reply": "2022-01-17T16:14:41.979721Z"
    },
    "papermill": {
     "duration": 264.756761,
     "end_time": "2022-01-17T16:14:41.980836",
     "exception": false,
     "start_time": "2022-01-17T16:10:17.224075",
     "status": "completed"
    },
    "tags": []
   },
   "outputs": [],
   "source": [
    "# bert embedding of comments to score\n",
    "sentences_bert_comm = comments_to_score.text.apply(\n",
    "    lambda x: BSV.vectorize(x) if x is not np.nan else np.array([0]*768))\n",
    "bert_comm = pd.DataFrame(sentences_bert_comm.tolist())\n",
    "bert_comm.columns = ['text_bertvec_'+str(col) for col in bert_comm.columns]\n",
    "text_bert_df_comm = pd.DataFrame(bert_comm)\n",
    "\n",
    "text_bert_df_comm.to_csv('./text_bert_df_comm.csv')"
   ]
  },
  {
   "cell_type": "code",
   "execution_count": 62,
   "id": "f3e72dec",
   "metadata": {
    "execution": {
     "iopub.execute_input": "2022-01-17T16:14:42.265065Z",
     "iopub.status.busy": "2022-01-17T16:14:42.263650Z",
     "iopub.status.idle": "2022-01-17T16:14:42.776837Z",
     "shell.execute_reply": "2022-01-17T16:14:42.777923Z"
    },
    "papermill": {
     "duration": 0.597692,
     "end_time": "2022-01-17T16:14:42.778116",
     "exception": false,
     "start_time": "2022-01-17T16:14:42.180424",
     "status": "completed"
    },
    "tags": []
   },
   "outputs": [],
   "source": [
    "# get predictions of comments to score\n",
    "predictions = rf.predict_proba(text_bert_df_comm)"
   ]
  },
  {
   "cell_type": "code",
   "execution_count": 63,
   "id": "2ba646be",
   "metadata": {
    "execution": {
     "iopub.execute_input": "2022-01-17T16:14:42.918700Z",
     "iopub.status.busy": "2022-01-17T16:14:42.916988Z",
     "iopub.status.idle": "2022-01-17T16:14:42.919803Z",
     "shell.execute_reply": "2022-01-17T16:14:42.920383Z"
    },
    "papermill": {
     "duration": 0.076039,
     "end_time": "2022-01-17T16:14:42.920521",
     "exception": false,
     "start_time": "2022-01-17T16:14:42.844482",
     "status": "completed"
    },
    "tags": []
   },
   "outputs": [],
   "source": [
    "# reshape predictions\n",
    "predictions_2 = np.array([x[:, 1] for x in predictions]).T"
   ]
  },
  {
   "cell_type": "code",
   "execution_count": 65,
   "id": "85699692",
   "metadata": {
    "execution": {
     "iopub.execute_input": "2022-01-17T16:14:43.217360Z",
     "iopub.status.busy": "2022-01-17T16:14:43.206190Z",
     "iopub.status.idle": "2022-01-17T16:14:43.278515Z",
     "shell.execute_reply": "2022-01-17T16:14:43.277955Z"
    },
    "papermill": {
     "duration": 0.157941,
     "end_time": "2022-01-17T16:14:43.278638",
     "exception": false,
     "start_time": "2022-01-17T16:14:43.120697",
     "status": "completed"
    },
    "tags": []
   },
   "outputs": [],
   "source": [
    "# apply score of toxicity\n",
    "pred_sum = np.apply_along_axis(score_function,  axis=1, arr=predictions_2)"
   ]
  },
  {
   "cell_type": "code",
   "execution_count": 66,
   "id": "c5b64b55",
   "metadata": {
    "execution": {
     "iopub.execute_input": "2022-01-17T16:14:43.516059Z",
     "iopub.status.busy": "2022-01-17T16:14:43.514546Z",
     "iopub.status.idle": "2022-01-17T16:14:43.533133Z",
     "shell.execute_reply": "2022-01-17T16:14:43.533954Z"
    },
    "papermill": {
     "duration": 0.1795,
     "end_time": "2022-01-17T16:14:43.534164",
     "exception": false,
     "start_time": "2022-01-17T16:14:43.354664",
     "status": "completed"
    },
    "tags": []
   },
   "outputs": [],
   "source": [
    "sample_submission = pd.read_csv(\n",
    "    '../input/jigsaw-toxic-severity-rating/sample_submission.csv')"
   ]
  },
  {
   "cell_type": "code",
   "execution_count": 67,
   "id": "c96a44dd",
   "metadata": {
    "execution": {
     "iopub.execute_input": "2022-01-17T16:14:43.775416Z",
     "iopub.status.busy": "2022-01-17T16:14:43.774388Z",
     "iopub.status.idle": "2022-01-17T16:14:43.777216Z",
     "shell.execute_reply": "2022-01-17T16:14:43.776367Z"
    },
    "papermill": {
     "duration": 0.130706,
     "end_time": "2022-01-17T16:14:43.777425",
     "exception": false,
     "start_time": "2022-01-17T16:14:43.646719",
     "status": "completed"
    },
    "tags": []
   },
   "outputs": [],
   "source": [
    "sample_submission['score'] = pred_sum"
   ]
  },
  {
   "cell_type": "code",
   "execution_count": 68,
   "id": "923c1405",
   "metadata": {
    "execution": {
     "iopub.execute_input": "2022-01-17T16:14:43.995127Z",
     "iopub.status.busy": "2022-01-17T16:14:43.994277Z",
     "iopub.status.idle": "2022-01-17T16:14:44.021172Z",
     "shell.execute_reply": "2022-01-17T16:14:44.021649Z"
    },
    "papermill": {
     "duration": 0.126278,
     "end_time": "2022-01-17T16:14:44.021812",
     "exception": false,
     "start_time": "2022-01-17T16:14:43.895534",
     "status": "completed"
    },
    "tags": []
   },
   "outputs": [],
   "source": [
    "sample_submission.to_csv('./submission.csv', index=False)"
   ]
  },
  {
   "cell_type": "code",
   "execution_count": null,
   "id": "96793267",
   "metadata": {
    "papermill": {
     "duration": 0.067481,
     "end_time": "2022-01-17T16:14:44.155898",
     "exception": false,
     "start_time": "2022-01-17T16:14:44.088417",
     "status": "completed"
    },
    "tags": []
   },
   "outputs": [],
   "source": []
  }
 ],
 "metadata": {
  "kernelspec": {
   "display_name": "Python 3 (ipykernel)",
   "language": "python",
   "name": "python3"
  },
  "language_info": {
   "codemirror_mode": {
    "name": "ipython",
    "version": 3
   },
   "file_extension": ".py",
   "mimetype": "text/x-python",
   "name": "python",
   "nbconvert_exporter": "python",
   "pygments_lexer": "ipython3",
   "version": "3.8.5"
  },
  "papermill": {
   "default_parameters": {},
   "duration": 11410.048481,
   "end_time": "2022-01-17T16:14:47.396959",
   "environment_variables": {},
   "exception": null,
   "input_path": "__notebook__.ipynb",
   "output_path": "__notebook__.ipynb",
   "parameters": {},
   "start_time": "2022-01-17T13:04:37.348478",
   "version": "2.3.3"
  }
 },
 "nbformat": 4,
 "nbformat_minor": 5
}
