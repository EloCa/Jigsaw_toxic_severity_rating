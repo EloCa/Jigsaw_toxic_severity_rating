{
 "cells": [
  {
   "cell_type": "markdown",
   "metadata": {
    "_cell_guid": "d49b7eaa-0bf7-48e0-9fe6-51ba03036ba1",
    "_uuid": "9dacb7a2a5a9e582d7e597be4ea479cedd79489a"
   },
   "source": [
    "# Classifiy toxicity and then rank toxicity\n",
    "\n",
    "This kernel is inspired by Rhodium Beng Classifying multi-label comments with Logistic Regression made during the contest Jigsaw classification challenge.\n",
    "\n",
    "The idea is to first make a classifier predicting the different toxicity and then use the predictions to make a score of toxicity."
   ]
  },
  {
   "cell_type": "code",
   "execution_count": null,
   "metadata": {
    "_cell_guid": "8f6a95ee-cc95-4c9f-a8f7-72ae58ec13d6",
    "_uuid": "5c5f4cc8865644748e11336736bbe584adebe7b1",
    "execution": {
     "iopub.execute_input": "2022-01-04T13:09:15.861337Z",
     "iopub.status.busy": "2022-01-04T13:09:15.860931Z",
     "iopub.status.idle": "2022-01-04T13:09:15.879779Z",
     "shell.execute_reply": "2022-01-04T13:09:15.879104Z",
     "shell.execute_reply.started": "2022-01-04T13:09:15.861271Z"
    }
   },
   "outputs": [],
   "source": [
    "from sklearn.model_selection import GridSearchCV\n",
    "from sklearn.ensemble import RandomForestClassifier\n",
    "from sklearn.multioutput import ClassifierChain\n",
    "from sklearn.metrics import accuracy_score\n",
    "from sklearn.linear_model import LogisticRegression\n",
    "from sklearn.feature_extraction.text import TfidfVectorizer\n",
    "from sklearn.feature_extraction.text import CountVectorizer\n",
    "from sklearn.impute import SimpleImputer\n",
    "from sklearn.preprocessing import FunctionTransformer\n",
    "from sklearn.pipeline import Pipeline\n",
    "import string\n",
    "from nltk.stem.snowball import EnglishStemmer\n",
    "from nltk.corpus import stopwords\n",
    "import re\n",
    "import seaborn as sns\n",
    "import numpy as np\n",
    "import pandas as pd\n",
    "from matplotlib import pyplot as plt\n",
    "%matplotlib inline"
   ]
  },
  {
   "cell_type": "code",
   "execution_count": null,
   "metadata": {
    "execution": {
     "iopub.execute_input": "2022-01-04T13:08:57.102966Z",
     "iopub.status.busy": "2022-01-04T13:08:57.102676Z",
     "iopub.status.idle": "2022-01-04T13:08:57.12172Z",
     "shell.execute_reply": "2022-01-04T13:08:57.120795Z",
     "shell.execute_reply.started": "2022-01-04T13:08:57.102931Z"
    }
   },
   "outputs": [],
   "source": [
    "stop = stopwords.words('english')\n",
    "punctuation = string.punctuation"
   ]
  },
  {
   "cell_type": "markdown",
   "metadata": {
    "_cell_guid": "80d61838-9025-4cba-bb0e-58175586b21b",
    "_uuid": "4f65d03ddbfd127307d3e415003346eb898b4d6b"
   },
   "source": [
    "## Load training and test data"
   ]
  },
  {
   "cell_type": "code",
   "execution_count": null,
   "metadata": {
    "execution": {
     "iopub.execute_input": "2022-01-04T13:08:58.189282Z",
     "iopub.status.busy": "2022-01-04T13:08:58.18898Z",
     "iopub.status.idle": "2022-01-04T13:08:59.959637Z",
     "shell.execute_reply": "2022-01-04T13:08:59.958804Z",
     "shell.execute_reply.started": "2022-01-04T13:08:58.189235Z"
    }
   },
   "outputs": [],
   "source": [
    "# training data\n",
    "df_train = pd.read_csv(\n",
    "    \"../input/d/julian3833/jigsaw-toxic-comment-classification-challenge/train.csv\")"
   ]
  },
  {
   "cell_type": "code",
   "execution_count": null,
   "metadata": {
    "execution": {
     "iopub.execute_input": "2022-01-04T13:08:59.961009Z",
     "iopub.status.busy": "2022-01-04T13:08:59.960748Z",
     "iopub.status.idle": "2022-01-04T13:09:01.350183Z",
     "shell.execute_reply": "2022-01-04T13:09:01.349425Z",
     "shell.execute_reply.started": "2022-01-04T13:08:59.960962Z"
    }
   },
   "outputs": [],
   "source": [
    "# test data\n",
    "df_test = pd.read_csv(\n",
    "    \"../input/d/julian3833/jigsaw-toxic-comment-classification-challenge/test.csv\")"
   ]
  },
  {
   "cell_type": "code",
   "execution_count": null,
   "metadata": {
    "_cell_guid": "7e29bebb-d9b7-44ab-a6ba-9f98e6507d5e",
    "_uuid": "7f7f2581edb2f42a64812dec31622a011dceff80",
    "execution": {
     "iopub.execute_input": "2022-01-04T13:09:01.351602Z",
     "iopub.status.busy": "2022-01-04T13:09:01.351342Z",
     "iopub.status.idle": "2022-01-04T13:09:01.355326Z",
     "shell.execute_reply": "2022-01-04T13:09:01.354678Z",
     "shell.execute_reply.started": "2022-01-04T13:09:01.351556Z"
    }
   },
   "outputs": [],
   "source": [
    "# targets columns\n",
    "cols_target = ['toxic', 'obscene', 'insult',\n",
    "               'threat', 'severe_toxic', 'identity_hate']"
   ]
  },
  {
   "cell_type": "markdown",
   "metadata": {
    "_cell_guid": "fdf9d2f6-d248-452f-8f94-562755e3a3f3",
    "_uuid": "d88d9cea99dbd77e81a5b3c4b9309df88b04550b"
   },
   "source": [
    "## Clean up the comment text"
   ]
  },
  {
   "cell_type": "code",
   "execution_count": null,
   "metadata": {
    "_cell_guid": "24392feb-0adc-4e27-bd20-41ed8cadce37",
    "_uuid": "b42586552d4cdc79793b0de8e630f863f2b2c456",
    "execution": {
     "iopub.execute_input": "2022-01-04T13:09:01.356716Z",
     "iopub.status.busy": "2022-01-04T13:09:01.356473Z",
     "iopub.status.idle": "2022-01-04T13:09:01.384197Z",
     "shell.execute_reply": "2022-01-04T13:09:01.383338Z",
     "shell.execute_reply.started": "2022-01-04T13:09:01.356672Z"
    }
   },
   "outputs": [],
   "source": [
    "# function copied from Rhodium Beng\n",
    "def clean_text(text):\n",
    "    text = text.lower()\n",
    "    text = re.sub(r\"what's\", \"what is \", text)\n",
    "    text = re.sub(r\"\\'s\", \" \", text)\n",
    "    text = re.sub(r\"\\'ve\", \" have \", text)\n",
    "    text = re.sub(r\"can't\", \"cannot \", text)\n",
    "    text = re.sub(r\"n't\", \" not \", text)\n",
    "    text = re.sub(r\"i'm\", \"i am \", text)\n",
    "    text = re.sub(r\"\\'re\", \" are \", text)\n",
    "    text = re.sub(r\"\\'d\", \" would \", text)\n",
    "    text = re.sub(r\"\\'ll\", \" will \", text)\n",
    "    text = re.sub(r\"\\'scuse\", \" excuse \", text)\n",
    "    text = re.sub('\\W', ' ', text)\n",
    "    text = re.sub('\\s+', ' ', text)\n",
    "    text = text.strip(' ')\n",
    "    return text"
   ]
  },
  {
   "cell_type": "code",
   "execution_count": null,
   "metadata": {
    "_cell_guid": "7b426494-c856-4cf4-b0d1-4162bc3aef5b",
    "_uuid": "3944cb9d1311fd3729a7dfb13e8ac8c2309962e5",
    "execution": {
     "iopub.execute_input": "2022-01-04T13:09:22.261782Z",
     "iopub.status.busy": "2022-01-04T13:09:22.2615Z",
     "iopub.status.idle": "2022-01-04T13:09:38.107465Z",
     "shell.execute_reply": "2022-01-04T13:09:38.106634Z",
     "shell.execute_reply.started": "2022-01-04T13:09:22.261745Z"
    }
   },
   "outputs": [],
   "source": [
    "# clean the comment_text in train\n",
    "df_train['comment_text'] = df_train['comment_text'].apply(\n",
    "    lambda com: clean_text(com))"
   ]
  },
  {
   "cell_type": "code",
   "execution_count": null,
   "metadata": {
    "_cell_guid": "dc27cc45-e5a9-4f1e-8d07-e28127afaf97",
    "_uuid": "d56d040c687a15a6d13ba29400372108f1960c1b",
    "execution": {
     "iopub.execute_input": "2022-01-04T13:09:38.10872Z",
     "iopub.status.busy": "2022-01-04T13:09:38.108477Z",
     "iopub.status.idle": "2022-01-04T13:09:52.765458Z",
     "shell.execute_reply": "2022-01-04T13:09:52.764662Z",
     "shell.execute_reply.started": "2022-01-04T13:09:38.108675Z"
    }
   },
   "outputs": [],
   "source": [
    "# clean the comment_text in test\n",
    "df_test['comment_text'] = df_test['comment_text'].map(\n",
    "    lambda com: clean_text(com))"
   ]
  },
  {
   "cell_type": "code",
   "execution_count": null,
   "metadata": {
    "execution": {
     "iopub.execute_input": "2022-01-04T13:09:01.437678Z",
     "iopub.status.busy": "2022-01-04T13:09:01.437392Z",
     "iopub.status.idle": "2022-01-04T13:09:01.451604Z",
     "shell.execute_reply": "2022-01-04T13:09:01.450719Z",
     "shell.execute_reply.started": "2022-01-04T13:09:01.437636Z"
    }
   },
   "outputs": [],
   "source": [
    "def remove_stopwords_sentence(sentence):\n",
    "    return pd.Series([word for word in sentence[0].split() if word not in stop])\n",
    "\n",
    "\n",
    "def remove_stopwords_df(df):\n",
    "    return df.apply(remove_stopwords_sentence, axis=1)\n",
    "\n",
    "\n",
    "def stem_sentence(s):\n",
    "    stemmer = EnglishStemmer()\n",
    "    return pd.Series([stemmer.stem(w) for w in s if not pd.isna(w)]).to_frame().apply(' '.join, axis=0)[0]"
   ]
  },
  {
   "cell_type": "code",
   "execution_count": null,
   "metadata": {
    "execution": {
     "iopub.execute_input": "2022-01-04T13:09:20.468398Z",
     "iopub.status.busy": "2022-01-04T13:09:20.468044Z",
     "iopub.status.idle": "2022-01-04T13:09:20.490448Z",
     "shell.execute_reply": "2022-01-04T13:09:20.489579Z",
     "shell.execute_reply.started": "2022-01-04T13:09:20.468353Z"
    }
   },
   "outputs": [],
   "source": [
    "# pipeline of preparation\n",
    "prep_pipeline = Pipeline(steps=[\n",
    "    ('remove \\n', FunctionTransformer(pd.DataFrame.replace, kw_args={\n",
    "     'to_replace': '\\n', 'value': ' ', 'regex': True}, validate=False)),\n",
    "    ('remove numbers', FunctionTransformer(pd.DataFrame.replace, kw_args={\n",
    "     'to_replace': '\\d', 'value': '', 'regex': True}, validate=False)),\n",
    "    ('remove html tags', FunctionTransformer(pd.DataFrame.replace,\n",
    "                                             kw_args={'to_replace': '<.*?>', 'value': '', 'regex': True}, validate=False)),\n",
    "    ('lower', FunctionTransformer(lambda x: x.squeeze(\n",
    "        axis=1).str.lower().to_frame(), validate=False)),\n",
    "    ('remove punctuation', FunctionTransformer(lambda x: x.squeeze(\n",
    "        axis=1).str.replace('[{}]'.format(punctuation), '').to_frame(), validate=False)),\n",
    "    ('remove stopwords', FunctionTransformer(remove_stopwords_df, validate=False)),\n",
    "    ('stemming', FunctionTransformer(pd.DataFrame.apply, kw_args={\n",
    "     'func': stem_sentence, 'axis': 1}, validate=False)),\n",
    "    #('imputer', SimpleImputer(strategy='constant', fill_value='')),\n",
    "    ('vectorizer', TfidfVectorizer(lowercase=False, analyzer='word', ngram_range=(1, 3), min_df=5,\n",
    "                                   preprocessor=None, tokenizer=lambda i: str(i).split()))\n",
    "])"
   ]
  },
  {
   "cell_type": "markdown",
   "metadata": {
    "_cell_guid": "b2d898ae-79bc-48b8-8544-fb077f876c67",
    "_uuid": "cc4c2aeef221f5a97e1bd5ea1154052172175351"
   },
   "source": [
    "## Vectorize the data"
   ]
  },
  {
   "cell_type": "code",
   "execution_count": null,
   "metadata": {
    "_cell_guid": "49547fd7-9633-4f6a-bd46-84d8966f1e8b",
    "_uuid": "061d59552c6ef83bea8ecf9ffbf203286aeab6f8",
    "execution": {
     "iopub.execute_input": "2022-01-04T13:09:52.767232Z",
     "iopub.status.busy": "2022-01-04T13:09:52.766806Z",
     "iopub.status.idle": "2022-01-04T13:09:52.772706Z",
     "shell.execute_reply": "2022-01-04T13:09:52.771785Z",
     "shell.execute_reply.started": "2022-01-04T13:09:52.767163Z"
    }
   },
   "outputs": [],
   "source": [
    "# create X\n",
    "X = df_train.comment_text\n",
    "test_X = df_test.comment_text"
   ]
  },
  {
   "cell_type": "code",
   "execution_count": null,
   "metadata": {
    "_cell_guid": "083686b8-483a-4fbd-8584-cb9da8357c57",
    "_uuid": "6b1e91df6163a437c5f55e9c4de88dc11a89e5ba",
    "execution": {
     "iopub.execute_input": "2022-01-03T14:32:47.234817Z",
     "iopub.status.busy": "2022-01-03T14:32:47.234473Z",
     "iopub.status.idle": "2022-01-03T14:32:47.248777Z",
     "shell.execute_reply": "2022-01-03T14:32:47.248036Z",
     "shell.execute_reply.started": "2022-01-03T14:32:47.234763Z"
    }
   },
   "outputs": [],
   "source": [
    "print(X.shape, test_X.shape)"
   ]
  },
  {
   "cell_type": "code",
   "execution_count": null,
   "metadata": {
    "execution": {
     "iopub.execute_input": "2022-01-04T13:09:52.774722Z",
     "iopub.status.busy": "2022-01-04T13:09:52.774358Z",
     "iopub.status.idle": "2022-01-04T13:09:52.792856Z",
     "shell.execute_reply": "2022-01-04T13:09:52.792197Z",
     "shell.execute_reply.started": "2022-01-04T13:09:52.774657Z"
    }
   },
   "outputs": [],
   "source": [
    "# create y\n",
    "y = df_train[cols_target]"
   ]
  },
  {
   "cell_type": "code",
   "execution_count": null,
   "metadata": {
    "_cell_guid": "9be5a4f2-0e85-4f9a-ac00-b8e9916116cb",
    "_uuid": "7b7adf15d16408eb99689884906d0d687c2f8407",
    "execution": {
     "iopub.execute_input": "2022-01-04T08:41:13.651568Z",
     "iopub.status.busy": "2022-01-04T08:41:13.65093Z",
     "iopub.status.idle": "2022-01-04T08:41:13.768727Z",
     "shell.execute_reply": "2022-01-04T08:41:13.767784Z",
     "shell.execute_reply.started": "2022-01-04T08:41:13.651494Z"
    }
   },
   "outputs": [],
   "source": [
    "# TfidfVectorizer\n",
    "vect = TfidfVectorizer(max_features=5000, stop_words='english')\n",
    "vect"
   ]
  },
  {
   "cell_type": "code",
   "execution_count": null,
   "metadata": {
    "_cell_guid": "283c1d48-c267-431b-834e-37c8d9222b3c",
    "_uuid": "b755b1d4db58eeb5b0ab668d1aaf4a651d3de441",
    "execution": {
     "iopub.execute_input": "2022-01-04T08:41:21.85041Z",
     "iopub.status.busy": "2022-01-04T08:41:21.849742Z",
     "iopub.status.idle": "2022-01-04T08:41:34.303192Z",
     "shell.execute_reply": "2022-01-04T08:41:34.302336Z",
     "shell.execute_reply.started": "2022-01-04T08:41:21.850355Z"
    }
   },
   "outputs": [],
   "source": [
    "# learn the vocabulary in the training data, then use it to create a document-term matrix\n",
    "X_dtm = vect.fit_transform(X)"
   ]
  },
  {
   "cell_type": "code",
   "execution_count": null,
   "metadata": {
    "_cell_guid": "54050711-560a-47cf-b4f9-2fbaf59bc2e4",
    "_uuid": "408301ccb78e3f4056a6d2ebbd239594d1a59da0",
    "execution": {
     "iopub.execute_input": "2022-01-04T08:41:34.304445Z",
     "iopub.status.busy": "2022-01-04T08:41:34.304196Z",
     "iopub.status.idle": "2022-01-04T08:41:44.912598Z",
     "shell.execute_reply": "2022-01-04T08:41:44.911704Z",
     "shell.execute_reply.started": "2022-01-04T08:41:34.304403Z"
    }
   },
   "outputs": [],
   "source": [
    "# transform the test data using the earlier fitted vocabulary, into a document-term matrix\n",
    "test_X_dtm = vect.transform(test_X)"
   ]
  },
  {
   "cell_type": "markdown",
   "metadata": {
    "_cell_guid": "5018c7ea-dd27-4d4c-b9ad-ef2140c773e5",
    "_uuid": "0393cd387f508609c0d068c68fb7dbb0be659383"
   },
   "source": [
    "## Classifier Chains"
   ]
  },
  {
   "cell_type": "code",
   "execution_count": null,
   "metadata": {
    "execution": {
     "iopub.execute_input": "2022-01-03T14:33:37.995498Z",
     "iopub.status.busy": "2022-01-03T14:33:37.995191Z",
     "iopub.status.idle": "2022-01-03T14:33:38.180813Z",
     "shell.execute_reply": "2022-01-03T14:33:38.17946Z",
     "shell.execute_reply.started": "2022-01-03T14:33:37.995443Z"
    }
   },
   "outputs": [],
   "source": [
    "logreg = LogisticRegression(C=12.0)"
   ]
  },
  {
   "cell_type": "code",
   "execution_count": null,
   "metadata": {
    "execution": {
     "iopub.execute_input": "2022-01-03T10:22:27.288403Z",
     "iopub.status.busy": "2022-01-03T10:22:27.288041Z",
     "iopub.status.idle": "2022-01-03T10:22:48.643199Z",
     "shell.execute_reply": "2022-01-03T10:22:48.642403Z",
     "shell.execute_reply.started": "2022-01-03T10:22:27.288329Z"
    }
   },
   "outputs": [],
   "source": [
    "# chain = ClassifierChain(LogisticRegression(), order='random', random_state=0)\n",
    "\n",
    "# chain.fit(X_dtm,y)"
   ]
  },
  {
   "cell_type": "code",
   "execution_count": null,
   "metadata": {
    "execution": {
     "iopub.execute_input": "2022-01-03T15:00:28.459409Z",
     "iopub.status.busy": "2022-01-03T15:00:28.458969Z",
     "iopub.status.idle": "2022-01-03T15:16:48.230423Z",
     "shell.execute_reply": "2022-01-03T15:16:48.229507Z",
     "shell.execute_reply.started": "2022-01-03T15:00:28.459309Z"
    }
   },
   "outputs": [],
   "source": [
    "# parameters for the Grid Search\n",
    "params = {'base_estimator__C': [0.5, 1, 2], 'base_estimator__penalty': [\n",
    "    'l1', 'l2'], 'order': [None, 'random']}\n",
    "\n",
    "# create the grid\n",
    "grid = GridSearchCV(estimator=ClassifierChain(LogisticRegression(), order='random', random_state=0),\n",
    "                    param_grid=params, scoring='accuracy', cv=5)\n",
    "\n",
    "# compute the grid search\n",
    "grid.fit(X_dtm,y)"
   ]
  },
  {
   "cell_type": "code",
   "execution_count": null,
   "metadata": {
    "execution": {
     "iopub.execute_input": "2022-01-04T09:36:05.654863Z",
     "iopub.status.busy": "2022-01-04T09:36:05.654122Z",
     "iopub.status.idle": "2022-01-04T09:36:05.662077Z",
     "shell.execute_reply": "2022-01-04T09:36:05.661251Z",
     "shell.execute_reply.started": "2022-01-04T09:36:05.654789Z"
    }
   },
   "outputs": [],
   "source": [
    "grid.best_estimator_"
   ]
  },
  {
   "cell_type": "code",
   "execution_count": null,
   "metadata": {
    "collapsed": true,
    "execution": {
     "iopub.execute_input": "2022-01-04T09:36:30.012815Z",
     "iopub.status.busy": "2022-01-04T09:36:30.011999Z",
     "iopub.status.idle": "2022-01-04T09:36:30.04028Z",
     "shell.execute_reply": "2022-01-04T09:36:30.039167Z",
     "shell.execute_reply.started": "2022-01-04T09:36:30.012733Z"
    },
    "jupyter": {
     "outputs_hidden": true
    }
   },
   "outputs": [],
   "source": [
    "grid.cv_results_"
   ]
  },
  {
   "cell_type": "markdown",
   "metadata": {},
   "source": [
    "Best parameters : C=1, regu=l1, order=None"
   ]
  },
  {
   "cell_type": "code",
   "execution_count": null,
   "metadata": {
    "execution": {
     "iopub.execute_input": "2022-01-03T10:22:48.645025Z",
     "iopub.status.busy": "2022-01-03T10:22:48.64443Z",
     "iopub.status.idle": "2022-01-03T10:22:49.692324Z",
     "shell.execute_reply": "2022-01-03T10:22:49.691556Z",
     "shell.execute_reply.started": "2022-01-03T10:22:48.644965Z"
    }
   },
   "outputs": [],
   "source": [
    "# compute the training accuracy\n",
    "y_pred_X = chain.predict(X_dtm)"
   ]
  },
  {
   "cell_type": "code",
   "execution_count": null,
   "metadata": {
    "execution": {
     "iopub.execute_input": "2022-01-03T10:31:47.265974Z",
     "iopub.status.busy": "2022-01-03T10:31:47.265635Z",
     "iopub.status.idle": "2022-01-03T10:31:47.342066Z",
     "shell.execute_reply": "2022-01-03T10:31:47.341441Z",
     "shell.execute_reply.started": "2022-01-03T10:31:47.265921Z"
    }
   },
   "outputs": [],
   "source": [
    "accuracy_score(y, y_pred_X)"
   ]
  },
  {
   "cell_type": "markdown",
   "metadata": {},
   "source": [
    "accuracy train 0.923"
   ]
  },
  {
   "cell_type": "code",
   "execution_count": null,
   "metadata": {
    "execution": {
     "iopub.execute_input": "2022-01-04T13:31:22.313805Z",
     "iopub.status.busy": "2022-01-04T13:31:22.313489Z",
     "iopub.status.idle": "2022-01-04T13:31:22.572001Z",
     "shell.execute_reply": "2022-01-04T13:31:22.571369Z",
     "shell.execute_reply.started": "2022-01-04T13:31:22.313748Z"
    }
   },
   "outputs": [],
   "source": [
    "y_test = pd.read_csv(\n",
    "    '../input/d/julian3833/jigsaw-toxic-comment-classification-challenge/test_labels.csv')"
   ]
  },
  {
   "cell_type": "code",
   "execution_count": null,
   "metadata": {
    "execution": {
     "iopub.execute_input": "2022-01-04T13:31:22.80177Z",
     "iopub.status.busy": "2022-01-04T13:31:22.801413Z",
     "iopub.status.idle": "2022-01-04T13:31:22.936323Z",
     "shell.execute_reply": "2022-01-04T13:31:22.935621Z",
     "shell.execute_reply.started": "2022-01-04T13:31:22.801704Z"
    }
   },
   "outputs": [],
   "source": [
    "df_test = df_test.merge(y_test, on='id', how='left')"
   ]
  },
  {
   "cell_type": "code",
   "execution_count": null,
   "metadata": {
    "execution": {
     "iopub.execute_input": "2022-01-04T13:31:23.275481Z",
     "iopub.status.busy": "2022-01-04T13:31:23.275082Z",
     "iopub.status.idle": "2022-01-04T13:31:23.286771Z",
     "shell.execute_reply": "2022-01-04T13:31:23.286041Z",
     "shell.execute_reply.started": "2022-01-04T13:31:23.27542Z"
    }
   },
   "outputs": [],
   "source": [
    "# get only test data with labels\n",
    "df_test2 = df_test[df_test.toxic != -1]"
   ]
  },
  {
   "cell_type": "code",
   "execution_count": null,
   "metadata": {
    "execution": {
     "iopub.execute_input": "2022-01-03T10:48:43.366946Z",
     "iopub.status.busy": "2022-01-03T10:48:43.366634Z",
     "iopub.status.idle": "2022-01-03T10:48:47.984761Z",
     "shell.execute_reply": "2022-01-03T10:48:47.983982Z",
     "shell.execute_reply.started": "2022-01-03T10:48:43.3669Z"
    }
   },
   "outputs": [],
   "source": [
    "df_test2_dtm = vect.transform(df_test2.comment_text)"
   ]
  },
  {
   "cell_type": "code",
   "execution_count": null,
   "metadata": {
    "_cell_guid": "2b370cff-d22e-4393-94d5-98b4883a32d8",
    "_uuid": "21a21a9ff3c174753c8d48495e058a1782bf7a76",
    "execution": {
     "iopub.execute_input": "2022-01-03T10:48:56.645267Z",
     "iopub.status.busy": "2022-01-03T10:48:56.644826Z",
     "iopub.status.idle": "2022-01-03T10:48:56.950552Z",
     "shell.execute_reply": "2022-01-03T10:48:56.949848Z",
     "shell.execute_reply.started": "2022-01-03T10:48:56.645227Z"
    }
   },
   "outputs": [],
   "source": [
    "# compute the test accuracy\n",
    "y_pred_test = chain.predict(df_test2_dtm)\n",
    "accuracy_score(df_test2[cols_target], y_pred_test)"
   ]
  },
  {
   "cell_type": "markdown",
   "metadata": {},
   "source": [
    "accuracy test 0.92"
   ]
  },
  {
   "cell_type": "code",
   "execution_count": null,
   "metadata": {},
   "outputs": [],
   "source": []
  }
 ],
 "metadata": {
  "kernelspec": {
   "display_name": "Python 3 (ipykernel)",
   "language": "python",
   "name": "python3"
  },
  "language_info": {
   "codemirror_mode": {
    "name": "ipython",
    "version": 3
   },
   "file_extension": ".py",
   "mimetype": "text/x-python",
   "name": "python",
   "nbconvert_exporter": "python",
   "pygments_lexer": "ipython3",
   "version": "3.8.5"
  }
 },
 "nbformat": 4,
 "nbformat_minor": 4
}
