{
 "cells": [
  {
   "cell_type": "code",
   "execution_count": 1,
   "id": "0569f90d",
   "metadata": {
    "_cell_guid": "b1076dfc-b9ad-4769-8c92-a6c4dae69d19",
    "_uuid": "8f2839f25d086af736a60e9eeb907d3b93b6e0e5",
    "execution": {
     "iopub.execute_input": "2022-01-03T08:35:18.806981Z",
     "iopub.status.busy": "2022-01-03T08:35:18.806309Z",
     "iopub.status.idle": "2022-01-03T08:35:20.440793Z",
     "shell.execute_reply": "2022-01-03T08:35:20.439936Z",
     "shell.execute_reply.started": "2022-01-03T07:49:07.255813Z"
    },
    "papermill": {
     "duration": 1.665541,
     "end_time": "2022-01-03T08:35:20.440995",
     "exception": false,
     "start_time": "2022-01-03T08:35:18.775454",
     "status": "completed"
    },
    "tags": []
   },
   "outputs": [],
   "source": [
    "# This Python 3 environment comes with many helpful analytics libraries installed\n",
    "# It is defined by the kaggle/python Docker image: https://github.com/kaggle/docker-python\n",
    "# For example, here's several helpful packages to load\n",
    "\n",
    "import numpy as np # linear algebra\n",
    "import pandas as pd # data processing, CSV file I/O (e.g. pd.read_csv)\n",
    "import re\n",
    "from nltk.corpus import stopwords\n",
    "from nltk.stem.snowball import EnglishStemmer\n",
    "import string\n",
    "from sklearn.pipeline import Pipeline\n",
    "from sklearn.preprocessing import FunctionTransformer\n",
    "from sklearn.impute import SimpleImputer\n",
    "from sklearn.feature_extraction.text import TfidfVectorizer\n",
    "from sklearn.pipeline import FeatureUnion\n",
    "from sklearn.ensemble import RandomForestRegressor"
   ]
  },
  {
   "cell_type": "code",
   "execution_count": 2,
   "id": "23dfb2ee",
   "metadata": {
    "execution": {
     "iopub.execute_input": "2022-01-03T08:35:20.480212Z",
     "iopub.status.busy": "2022-01-03T08:35:20.479572Z",
     "iopub.status.idle": "2022-01-03T08:35:22.427247Z",
     "shell.execute_reply": "2022-01-03T08:35:22.426494Z",
     "shell.execute_reply.started": "2022-01-03T07:49:45.868546Z"
    },
    "papermill": {
     "duration": 1.968845,
     "end_time": "2022-01-03T08:35:22.427394",
     "exception": false,
     "start_time": "2022-01-03T08:35:20.458549",
     "status": "completed"
    },
    "tags": []
   },
   "outputs": [],
   "source": [
    "df_train = pd.read_csv(\"../input/d/julian3833/jigsaw-toxic-comment-classification-challenge/train.csv\")"
   ]
  },
  {
   "cell_type": "code",
   "execution_count": 3,
   "id": "8f8e7ba9",
   "metadata": {
    "execution": {
     "iopub.execute_input": "2022-01-03T08:35:22.470916Z",
     "iopub.status.busy": "2022-01-03T08:35:22.470143Z",
     "iopub.status.idle": "2022-01-03T08:35:22.473741Z",
     "shell.execute_reply": "2022-01-03T08:35:22.474306Z",
     "shell.execute_reply.started": "2022-01-03T07:49:49.308469Z"
    },
    "papermill": {
     "duration": 0.028287,
     "end_time": "2022-01-03T08:35:22.474468",
     "exception": false,
     "start_time": "2022-01-03T08:35:22.446181",
     "status": "completed"
    },
    "tags": []
   },
   "outputs": [
    {
     "data": {
      "text/plain": [
       "(159571, 8)"
      ]
     },
     "execution_count": 3,
     "metadata": {},
     "output_type": "execute_result"
    }
   ],
   "source": [
    "df_train.shape"
   ]
  },
  {
   "cell_type": "code",
   "execution_count": 4,
   "id": "c149b4d3",
   "metadata": {
    "execution": {
     "iopub.execute_input": "2022-01-03T08:35:22.514712Z",
     "iopub.status.busy": "2022-01-03T08:35:22.514042Z",
     "iopub.status.idle": "2022-01-03T08:35:22.520706Z",
     "shell.execute_reply": "2022-01-03T08:35:22.520216Z",
     "shell.execute_reply.started": "2022-01-03T07:49:50.547224Z"
    },
    "papermill": {
     "duration": 0.028816,
     "end_time": "2022-01-03T08:35:22.520843",
     "exception": false,
     "start_time": "2022-01-03T08:35:22.492027",
     "status": "completed"
    },
    "tags": []
   },
   "outputs": [],
   "source": [
    "stop = stopwords.words('english')\n",
    "punctuation = string.punctuation"
   ]
  },
  {
   "cell_type": "code",
   "execution_count": 5,
   "id": "684e678c",
   "metadata": {
    "execution": {
     "iopub.execute_input": "2022-01-03T08:35:22.559111Z",
     "iopub.status.busy": "2022-01-03T08:35:22.558443Z",
     "iopub.status.idle": "2022-01-03T08:35:22.564001Z",
     "shell.execute_reply": "2022-01-03T08:35:22.564448Z",
     "shell.execute_reply.started": "2022-01-03T07:49:51.363496Z"
    },
    "papermill": {
     "duration": 0.026572,
     "end_time": "2022-01-03T08:35:22.564626",
     "exception": false,
     "start_time": "2022-01-03T08:35:22.538054",
     "status": "completed"
    },
    "tags": []
   },
   "outputs": [],
   "source": [
    "def remove_stopwords_sentence(sentence):\n",
    "    # print(sentence)\n",
    "    return pd.Series([word for word in sentence[0].split() if word not in stop])\n",
    "\n",
    "\n",
    "def remove_stopwords_df(df):\n",
    "    return df.apply(remove_stopwords_sentence, axis=1)\n",
    "\n",
    "\n",
    "def stem_sentence(s):\n",
    "    stemmer = EnglishStemmer()\n",
    "    return pd.Series([stemmer.stem(w) for w in s if not pd.isna(w)]).to_frame().apply(' '.join, axis=0)[0]"
   ]
  },
  {
   "cell_type": "code",
   "execution_count": 6,
   "id": "0e470399",
   "metadata": {
    "execution": {
     "iopub.execute_input": "2022-01-03T08:35:22.610627Z",
     "iopub.status.busy": "2022-01-03T08:35:22.609707Z",
     "iopub.status.idle": "2022-01-03T08:35:22.612746Z",
     "shell.execute_reply": "2022-01-03T08:35:22.612179Z",
     "shell.execute_reply.started": "2022-01-03T07:49:52.118939Z"
    },
    "papermill": {
     "duration": 0.030428,
     "end_time": "2022-01-03T08:35:22.612879",
     "exception": false,
     "start_time": "2022-01-03T08:35:22.582451",
     "status": "completed"
    },
    "tags": []
   },
   "outputs": [],
   "source": [
    "prep_pipeline = Pipeline(steps=[\n",
    "    ('remove \\n', FunctionTransformer(pd.DataFrame.replace, kw_args={'to_replace':'\\n', 'value':' ', 'regex': True})),\n",
    "    ('remove numbers', FunctionTransformer(pd.DataFrame.replace, kw_args={'to_replace':'\\d', 'value':'', 'regex': True})),\n",
    "    ('remove html tags', FunctionTransformer(pd.DataFrame.replace,\n",
    "                                             kw_args={'to_replace': '<.*?>', 'value': '', 'regex': True})),\n",
    "    ('lower', FunctionTransformer(lambda x: x.squeeze(axis=1).str.lower().to_frame())),\n",
    "    ('remove punctuation', FunctionTransformer(lambda x: x.squeeze(\n",
    "        axis=1).str.replace('[{}]'.format(punctuation), '').to_frame())),\n",
    "    ('remove stopwords', FunctionTransformer(remove_stopwords_df, validate=False)),\n",
    "    ('stemming', FunctionTransformer(pd.DataFrame.apply, kw_args={\n",
    "     'func': stem_sentence, 'axis': 1}, validate=False)),\n",
    "    #('imputer', SimpleImputer(strategy='constant', fill_value='')),\n",
    "    ('vectorizer', TfidfVectorizer(lowercase=False,analyzer='word', preprocessor=None, tokenizer=lambda i:i.split() ))\n",
    "])"
   ]
  },
  {
   "cell_type": "code",
   "execution_count": 7,
   "id": "5b820b82",
   "metadata": {
    "execution": {
     "iopub.execute_input": "2022-01-03T08:35:22.658475Z",
     "iopub.status.busy": "2022-01-03T08:35:22.657805Z",
     "iopub.status.idle": "2022-01-03T08:35:22.663365Z",
     "shell.execute_reply": "2022-01-03T08:35:22.663933Z",
     "shell.execute_reply.started": "2022-01-03T07:49:52.890920Z"
    },
    "papermill": {
     "duration": 0.033918,
     "end_time": "2022-01-03T08:35:22.664102",
     "exception": false,
     "start_time": "2022-01-03T08:35:22.630184",
     "status": "completed"
    },
    "tags": []
   },
   "outputs": [],
   "source": [
    "target = df_train.toxic + df_train.obscene + df_train.insult + df_train.threat * 1.5 + df_train.severe_toxic * 2 + df_train.identity_hate*2"
   ]
  },
  {
   "cell_type": "code",
   "execution_count": 8,
   "id": "142add90",
   "metadata": {
    "execution": {
     "iopub.execute_input": "2022-01-03T08:35:22.703596Z",
     "iopub.status.busy": "2022-01-03T08:35:22.702879Z",
     "iopub.status.idle": "2022-01-03T08:35:22.707361Z",
     "shell.execute_reply": "2022-01-03T08:35:22.706791Z",
     "shell.execute_reply.started": "2022-01-03T07:49:53.891032Z"
    },
    "papermill": {
     "duration": 0.026344,
     "end_time": "2022-01-03T08:35:22.707504",
     "exception": false,
     "start_time": "2022-01-03T08:35:22.681160",
     "status": "completed"
    },
    "tags": []
   },
   "outputs": [],
   "source": [
    "df_train['target'] = target"
   ]
  },
  {
   "cell_type": "code",
   "execution_count": 9,
   "id": "5de9fa53",
   "metadata": {
    "execution": {
     "iopub.execute_input": "2022-01-03T08:35:22.747068Z",
     "iopub.status.busy": "2022-01-03T08:35:22.746311Z",
     "iopub.status.idle": "2022-01-03T08:35:23.216160Z",
     "shell.execute_reply": "2022-01-03T08:35:23.215569Z",
     "shell.execute_reply.started": "2022-01-03T07:49:56.051389Z"
    },
    "papermill": {
     "duration": 0.491622,
     "end_time": "2022-01-03T08:35:23.216316",
     "exception": false,
     "start_time": "2022-01-03T08:35:22.724694",
     "status": "completed"
    },
    "tags": []
   },
   "outputs": [],
   "source": [
    "validation_data = pd.read_csv('../input/jigsaw-toxic-severity-rating/validation_data.csv')"
   ]
  },
  {
   "cell_type": "code",
   "execution_count": 10,
   "id": "cf2a919f",
   "metadata": {
    "execution": {
     "iopub.execute_input": "2022-01-03T08:35:23.254704Z",
     "iopub.status.busy": "2022-01-03T08:35:23.254090Z",
     "iopub.status.idle": "2022-01-03T08:35:23.336230Z",
     "shell.execute_reply": "2022-01-03T08:35:23.335054Z",
     "shell.execute_reply.started": "2022-01-03T07:49:56.691382Z"
    },
    "papermill": {
     "duration": 0.102315,
     "end_time": "2022-01-03T08:35:23.336438",
     "exception": false,
     "start_time": "2022-01-03T08:35:23.234123",
     "status": "completed"
    },
    "tags": []
   },
   "outputs": [],
   "source": [
    "comments_to_score = pd.read_csv('../input/jigsaw-toxic-severity-rating/comments_to_score.csv')"
   ]
  },
  {
   "cell_type": "code",
   "execution_count": 11,
   "id": "e14ca112",
   "metadata": {
    "collapsed": true,
    "execution": {
     "iopub.execute_input": "2022-01-03T08:35:23.379443Z",
     "iopub.status.busy": "2022-01-03T08:35:23.378418Z",
     "iopub.status.idle": "2022-01-03T08:35:28.025883Z",
     "shell.execute_reply": "2022-01-03T08:35:28.025350Z",
     "shell.execute_reply.started": "2022-01-03T07:49:58.631521Z"
    },
    "jupyter": {
     "outputs_hidden": true
    },
    "papermill": {
     "duration": 4.672323,
     "end_time": "2022-01-03T08:35:28.026094",
     "exception": false,
     "start_time": "2022-01-03T08:35:23.353771",
     "status": "completed"
    },
    "tags": []
   },
   "outputs": [
    {
     "name": "stdout",
     "output_type": "stream",
     "text": [
      "Fold: 0\n",
      "(32450, 9)\n",
      "0.0    16225\n",
      "1.0     6284\n",
      "3.0     4008\n",
      "2.0     3208\n",
      "5.0     1610\n",
      "4.0      359\n",
      "7.0      265\n",
      "4.5      149\n",
      "6.5      121\n",
      "2.5      118\n",
      "8.5       31\n",
      "3.5       29\n",
      "1.5       22\n",
      "6.0       13\n",
      "5.5        8\n",
      "Name: target, dtype: int64\n",
      "Fold: 1\n",
      "(32450, 9)\n",
      "0.0    16225\n",
      "1.0     6284\n",
      "3.0     4008\n",
      "2.0     3208\n",
      "5.0     1610\n",
      "4.0      359\n",
      "7.0      265\n",
      "4.5      149\n",
      "6.5      121\n",
      "2.5      118\n",
      "8.5       31\n",
      "3.5       29\n",
      "1.5       22\n",
      "6.0       13\n",
      "5.5        8\n",
      "Name: target, dtype: int64\n",
      "Fold: 2\n",
      "(32450, 9)\n",
      "0.0    16225\n",
      "1.0     6284\n",
      "3.0     4008\n",
      "2.0     3208\n",
      "5.0     1610\n",
      "4.0      359\n",
      "7.0      265\n",
      "4.5      149\n",
      "6.5      121\n",
      "2.5      118\n",
      "8.5       31\n",
      "3.5       29\n",
      "1.5       22\n",
      "6.0       13\n",
      "5.5        8\n",
      "Name: target, dtype: int64\n",
      "Fold: 3\n",
      "(32450, 9)\n",
      "0.0    16225\n",
      "1.0     6284\n",
      "3.0     4008\n",
      "2.0     3208\n",
      "5.0     1610\n",
      "4.0      359\n",
      "7.0      265\n",
      "4.5      149\n",
      "6.5      121\n",
      "2.5      118\n",
      "8.5       31\n",
      "3.5       29\n",
      "1.5       22\n",
      "6.0       13\n",
      "5.5        8\n",
      "Name: target, dtype: int64\n",
      "Fold: 4\n",
      "(32450, 9)\n",
      "0.0    16225\n",
      "1.0     6284\n",
      "3.0     4008\n",
      "2.0     3208\n",
      "5.0     1610\n",
      "4.0      359\n",
      "7.0      265\n",
      "4.5      149\n",
      "6.5      121\n",
      "2.5      118\n",
      "8.5       31\n",
      "3.5       29\n",
      "1.5       22\n",
      "6.0       13\n",
      "5.5        8\n",
      "Name: target, dtype: int64\n",
      "Fold: 5\n",
      "(32450, 9)\n",
      "0.0    16225\n",
      "1.0     6284\n",
      "3.0     4008\n",
      "2.0     3208\n",
      "5.0     1610\n",
      "4.0      359\n",
      "7.0      265\n",
      "4.5      149\n",
      "6.5      121\n",
      "2.5      118\n",
      "8.5       31\n",
      "3.5       29\n",
      "1.5       22\n",
      "6.0       13\n",
      "5.5        8\n",
      "Name: target, dtype: int64\n",
      "Fold: 6\n",
      "(32450, 9)\n",
      "0.0    16225\n",
      "1.0     6284\n",
      "3.0     4008\n",
      "2.0     3208\n",
      "5.0     1610\n",
      "4.0      359\n",
      "7.0      265\n",
      "4.5      149\n",
      "6.5      121\n",
      "2.5      118\n",
      "8.5       31\n",
      "3.5       29\n",
      "1.5       22\n",
      "6.0       13\n",
      "5.5        8\n",
      "Name: target, dtype: int64\n"
     ]
    }
   ],
   "source": [
    "# Create the folds and save them\n",
    "n_folds = 7\n",
    "n = (df_train['target'] > 0).sum()\n",
    "for fld in range(n_folds):\n",
    "    print(f'Fold: {fld}')\n",
    "    tmp_df = pd.concat([df_train[df_train.target>0].sample(frac=1, random_state = 10*(fld+1)) , \n",
    "                        df_train[df_train.target==0].sample(n,random_state = 10*(fld+1))], axis=0)\n",
    "\n",
    "    tmp_df.to_csv('./df'+str(fld)+'.csv', index=False)\n",
    "    print(tmp_df.shape)\n",
    "    print(tmp_df['target'].value_counts())\n",
    "    "
   ]
  },
  {
   "cell_type": "code",
   "execution_count": 12,
   "id": "cca587af",
   "metadata": {
    "execution": {
     "iopub.execute_input": "2022-01-03T08:35:28.069944Z",
     "iopub.status.busy": "2022-01-03T08:35:28.069288Z",
     "iopub.status.idle": "2022-01-03T08:44:23.061766Z",
     "shell.execute_reply": "2022-01-03T08:44:23.061167Z",
     "shell.execute_reply.started": "2022-01-03T07:50:23.394886Z"
    },
    "papermill": {
     "duration": 535.014816,
     "end_time": "2022-01-03T08:44:23.061935",
     "exception": false,
     "start_time": "2022-01-03T08:35:28.047119",
     "status": "completed"
    },
    "tags": []
   },
   "outputs": [
    {
     "name": "stdout",
     "output_type": "stream",
     "text": [
      "\n",
      "\n",
      "\n",
      " ****************************** FOLD: 0 ******************************\n",
      "Fold: 0\n",
      "(32450, 9)\n",
      "\n",
      "Train:\n"
     ]
    },
    {
     "name": "stderr",
     "output_type": "stream",
     "text": [
      "/opt/conda/lib/python3.7/site-packages/ipykernel_launcher.py:8: FutureWarning: The default value of regex will change from True to False in a future version.\n",
      "  \n",
      "/opt/conda/lib/python3.7/site-packages/ipykernel_launcher.py:3: DeprecationWarning: The default dtype for empty Series will be 'object' instead of 'float64' in a future version. Specify a dtype explicitly to silence this warning.\n",
      "  This is separate from the ipykernel package so we can avoid doing imports until\n",
      "/opt/conda/lib/python3.7/site-packages/ipykernel_launcher.py:12: DeprecationWarning: The default dtype for empty Series will be 'object' instead of 'float64' in a future version. Specify a dtype explicitly to silence this warning.\n",
      "  if sys.path[0] == '':\n"
     ]
    },
    {
     "name": "stdout",
     "output_type": "stream",
     "text": [
      "[('fuck', 0.28), ('suck', 0.04), ('bitch', 0.03), ('faggot', 0.03), ('articl', 0.02), ('ass', 0.02), ('asshol', 0.02), ('gay', 0.02), ('nigger', 0.02), ('shit', 0.02), ('bastard', 0.01), ('cock', 0.01), ('cunt', 0.01), ('dick', 0.01), ('die', 0.01), ('fucker', 0.01), ('go', 0.01), ('idiot', 0.01), ('jew', 0.01), ('kill', 0.01), ('motherfuck', 0.01), ('stupid', 0.01), ('u', 0.01), (\"''has''\", 0.0), (\"'neue\", 0.0), (\"'strakh'\", 0.0), ('\\\\', 0.0), ('\\\\\\\\', 0.0), ('\\\\\\\\hore', 0.0), ('\\\\anamorphism\\\\', 0.0)]\n",
      "\n",
      "predict validation data \n"
     ]
    },
    {
     "name": "stderr",
     "output_type": "stream",
     "text": [
      "/opt/conda/lib/python3.7/site-packages/ipykernel_launcher.py:8: FutureWarning: The default value of regex will change from True to False in a future version.\n",
      "  \n"
     ]
    },
    {
     "name": "stdout",
     "output_type": "stream",
     "text": [
      "\n",
      "predict test data \n"
     ]
    }
   ],
   "source": [
    "# apply a model on each fold\n",
    "n_folds = 1\n",
    "n = (df_train['target'] > 0).sum()\n",
    "val_preds_arr1 = np.zeros((validation_data.shape[0], n_folds))\n",
    "val_preds_arr2 = np.zeros((validation_data.shape[0], n_folds))\n",
    "test_preds_arr = np.zeros((comments_to_score.shape[0], n_folds))\n",
    "\n",
    "for fld in range(n_folds):\n",
    "    print(\"\\n\\n\")\n",
    "    print(f' ****************************** FOLD: {fld} ******************************')\n",
    "    \n",
    "    \n",
    "    print(f'Fold: {fld}')\n",
    "    #tmp_df = pd.concat([df_train[df_train.target>0].sample(frac=1, random_state = 10*(fld+1)) , \n",
    "                       # df_train[df_train.target==0].sample(n,random_state = 10*(fld+1))], axis=0)\n",
    "    \n",
    "    df = pd.read_csv('./df'+str(fld)+'.csv')\n",
    "    \n",
    "    #df = pd.read_csv('D:/OP/P8/df_fld'+str(fld)+'.csv')\n",
    "    print(df.shape)\n",
    "\n",
    "    features = FeatureUnion([\n",
    "        (\"tfidf\", TfidfVectorizer(lowercase=False)),\n",
    "    ])\n",
    "    pipeline = Pipeline(\n",
    "        [\n",
    "            ('prep', prep_pipeline),\n",
    "            #(\"features\", features),\n",
    "            (\"clf\", RandomForestRegressor(n_estimators = 10)),\n",
    "            #(\"clf\", Ridge()),\n",
    "            #(\"clf\",LinearRegression())\n",
    "        ]\n",
    "    )\n",
    "    print(\"\\nTrain:\")\n",
    "    # Train the pipeline\n",
    "    pipeline.fit(df['comment_text'].to_frame(), df['target'])\n",
    "    \n",
    "     # What are the important features for toxicity\n",
    "\n",
    "\n",
    "    feature_wts = sorted(list(zip(pipeline['prep']['vectorizer'].get_feature_names(), \n",
    "                                  np.round(pipeline['clf'].feature_importances_,2) )), \n",
    "                         key = lambda x:x[1], \n",
    "                         reverse=True)\n",
    "\n",
    "    print(feature_wts[:30])\n",
    "    \n",
    "    print(\"\\npredict validation data \")\n",
    "    val_preds_arr1[:,fld] = pipeline.predict(validation_data['less_toxic'].to_frame())\n",
    "    val_preds_arr2[:,fld] = pipeline.predict(validation_data['more_toxic'].to_frame())\n",
    "\n",
    "    print(\"\\npredict test data \")\n",
    "    test_preds_arr[:,fld] = pipeline.predict(comments_to_score['text'].to_frame())"
   ]
  },
  {
   "cell_type": "code",
   "execution_count": 13,
   "id": "8b01d3a7",
   "metadata": {
    "execution": {
     "iopub.execute_input": "2022-01-03T08:44:23.112369Z",
     "iopub.status.busy": "2022-01-03T08:44:23.111000Z",
     "iopub.status.idle": "2022-01-03T08:44:23.115265Z",
     "shell.execute_reply": "2022-01-03T08:44:23.115854Z",
     "shell.execute_reply.started": "2022-01-03T08:01:02.275022Z"
    },
    "papermill": {
     "duration": 0.031539,
     "end_time": "2022-01-03T08:44:23.116041",
     "exception": false,
     "start_time": "2022-01-03T08:44:23.084502",
     "status": "completed"
    },
    "tags": []
   },
   "outputs": [
    {
     "data": {
      "text/plain": [
       "0.6638767105088349"
      ]
     },
     "execution_count": 13,
     "metadata": {},
     "output_type": "execute_result"
    }
   ],
   "source": [
    "(val_preds_arr1[:,fld]<val_preds_arr2[:,fld]).sum()/validation_data.shape[0]"
   ]
  },
  {
   "cell_type": "code",
   "execution_count": 14,
   "id": "01e82662",
   "metadata": {
    "execution": {
     "iopub.execute_input": "2022-01-03T08:44:23.163732Z",
     "iopub.status.busy": "2022-01-03T08:44:23.163125Z",
     "iopub.status.idle": "2022-01-03T08:44:44.189222Z",
     "shell.execute_reply": "2022-01-03T08:44:44.189878Z",
     "shell.execute_reply.started": "2022-01-03T08:01:15.379439Z"
    },
    "papermill": {
     "duration": 21.051659,
     "end_time": "2022-01-03T08:44:44.190080",
     "exception": false,
     "start_time": "2022-01-03T08:44:23.138421",
     "status": "completed"
    },
    "tags": []
   },
   "outputs": [
    {
     "name": "stderr",
     "output_type": "stream",
     "text": [
      "/opt/conda/lib/python3.7/site-packages/ipykernel_launcher.py:8: FutureWarning: The default value of regex will change from True to False in a future version.\n",
      "  \n"
     ]
    }
   ],
   "source": [
    "test_pred = pipeline.predict(comments_to_score['text'].to_frame())"
   ]
  },
  {
   "cell_type": "code",
   "execution_count": 15,
   "id": "7cd8b683",
   "metadata": {
    "execution": {
     "iopub.execute_input": "2022-01-03T08:44:44.241203Z",
     "iopub.status.busy": "2022-01-03T08:44:44.240539Z",
     "iopub.status.idle": "2022-01-03T08:44:44.245592Z",
     "shell.execute_reply": "2022-01-03T08:44:44.245110Z",
     "shell.execute_reply.started": "2022-01-03T08:03:16.556355Z"
    },
    "papermill": {
     "duration": 0.032135,
     "end_time": "2022-01-03T08:44:44.245728",
     "exception": false,
     "start_time": "2022-01-03T08:44:44.213593",
     "status": "completed"
    },
    "tags": []
   },
   "outputs": [],
   "source": [
    "import scipy.stats as stats\n",
    "test_pred_ranked = stats.rankdata(test_pred, method='ordinal')"
   ]
  },
  {
   "cell_type": "code",
   "execution_count": 16,
   "id": "c5b8c171",
   "metadata": {
    "execution": {
     "iopub.execute_input": "2022-01-03T08:44:44.295947Z",
     "iopub.status.busy": "2022-01-03T08:44:44.295206Z",
     "iopub.status.idle": "2022-01-03T08:44:44.315322Z",
     "shell.execute_reply": "2022-01-03T08:44:44.314645Z",
     "shell.execute_reply.started": "2022-01-03T08:03:19.784002Z"
    },
    "papermill": {
     "duration": 0.046988,
     "end_time": "2022-01-03T08:44:44.315466",
     "exception": false,
     "start_time": "2022-01-03T08:44:44.268478",
     "status": "completed"
    },
    "tags": []
   },
   "outputs": [],
   "source": [
    "submission = pd.read_csv('../input/jigsaw-toxic-severity-rating/sample_submission.csv')"
   ]
  },
  {
   "cell_type": "code",
   "execution_count": 17,
   "id": "b1e82144",
   "metadata": {
    "execution": {
     "iopub.execute_input": "2022-01-03T08:44:44.366103Z",
     "iopub.status.busy": "2022-01-03T08:44:44.365466Z",
     "iopub.status.idle": "2022-01-03T08:44:44.368419Z",
     "shell.execute_reply": "2022-01-03T08:44:44.367813Z",
     "shell.execute_reply.started": "2022-01-03T08:03:25.377252Z"
    },
    "papermill": {
     "duration": 0.030213,
     "end_time": "2022-01-03T08:44:44.368552",
     "exception": false,
     "start_time": "2022-01-03T08:44:44.338339",
     "status": "completed"
    },
    "tags": []
   },
   "outputs": [],
   "source": [
    "submission[\"score\"] = test_pred_ranked"
   ]
  },
  {
   "cell_type": "code",
   "execution_count": 18,
   "id": "40c3f896",
   "metadata": {
    "execution": {
     "iopub.execute_input": "2022-01-03T08:44:44.417236Z",
     "iopub.status.busy": "2022-01-03T08:44:44.416626Z",
     "iopub.status.idle": "2022-01-03T08:44:44.429024Z",
     "shell.execute_reply": "2022-01-03T08:44:44.429538Z",
     "shell.execute_reply.started": "2022-01-03T08:03:38.678825Z"
    },
    "papermill": {
     "duration": 0.038457,
     "end_time": "2022-01-03T08:44:44.429704",
     "exception": false,
     "start_time": "2022-01-03T08:44:44.391247",
     "status": "completed"
    },
    "tags": []
   },
   "outputs": [
    {
     "data": {
      "text/html": [
       "<div>\n",
       "<style scoped>\n",
       "    .dataframe tbody tr th:only-of-type {\n",
       "        vertical-align: middle;\n",
       "    }\n",
       "\n",
       "    .dataframe tbody tr th {\n",
       "        vertical-align: top;\n",
       "    }\n",
       "\n",
       "    .dataframe thead th {\n",
       "        text-align: right;\n",
       "    }\n",
       "</style>\n",
       "<table border=\"1\" class=\"dataframe\">\n",
       "  <thead>\n",
       "    <tr style=\"text-align: right;\">\n",
       "      <th></th>\n",
       "      <th>comment_id</th>\n",
       "      <th>score</th>\n",
       "    </tr>\n",
       "  </thead>\n",
       "  <tbody>\n",
       "    <tr>\n",
       "      <th>0</th>\n",
       "      <td>114890</td>\n",
       "      <td>1658</td>\n",
       "    </tr>\n",
       "    <tr>\n",
       "      <th>1</th>\n",
       "      <td>732895</td>\n",
       "      <td>1</td>\n",
       "    </tr>\n",
       "    <tr>\n",
       "      <th>2</th>\n",
       "      <td>1139051</td>\n",
       "      <td>854</td>\n",
       "    </tr>\n",
       "    <tr>\n",
       "      <th>3</th>\n",
       "      <td>1434512</td>\n",
       "      <td>855</td>\n",
       "    </tr>\n",
       "    <tr>\n",
       "      <th>4</th>\n",
       "      <td>2084821</td>\n",
       "      <td>5418</td>\n",
       "    </tr>\n",
       "    <tr>\n",
       "      <th>...</th>\n",
       "      <td>...</td>\n",
       "      <td>...</td>\n",
       "    </tr>\n",
       "    <tr>\n",
       "      <th>7532</th>\n",
       "      <td>504235362</td>\n",
       "      <td>3288</td>\n",
       "    </tr>\n",
       "    <tr>\n",
       "      <th>7533</th>\n",
       "      <td>504235566</td>\n",
       "      <td>1954</td>\n",
       "    </tr>\n",
       "    <tr>\n",
       "      <th>7534</th>\n",
       "      <td>504308177</td>\n",
       "      <td>1955</td>\n",
       "    </tr>\n",
       "    <tr>\n",
       "      <th>7535</th>\n",
       "      <td>504570375</td>\n",
       "      <td>5963</td>\n",
       "    </tr>\n",
       "    <tr>\n",
       "      <th>7536</th>\n",
       "      <td>504598250</td>\n",
       "      <td>2982</td>\n",
       "    </tr>\n",
       "  </tbody>\n",
       "</table>\n",
       "<p>7537 rows × 2 columns</p>\n",
       "</div>"
      ],
      "text/plain": [
       "      comment_id  score\n",
       "0         114890   1658\n",
       "1         732895      1\n",
       "2        1139051    854\n",
       "3        1434512    855\n",
       "4        2084821   5418\n",
       "...          ...    ...\n",
       "7532   504235362   3288\n",
       "7533   504235566   1954\n",
       "7534   504308177   1955\n",
       "7535   504570375   5963\n",
       "7536   504598250   2982\n",
       "\n",
       "[7537 rows x 2 columns]"
      ]
     },
     "execution_count": 18,
     "metadata": {},
     "output_type": "execute_result"
    }
   ],
   "source": [
    "submission"
   ]
  },
  {
   "cell_type": "code",
   "execution_count": 19,
   "id": "cc573a8c",
   "metadata": {
    "execution": {
     "iopub.execute_input": "2022-01-03T08:44:44.480614Z",
     "iopub.status.busy": "2022-01-03T08:44:44.479133Z",
     "iopub.status.idle": "2022-01-03T08:44:44.501092Z",
     "shell.execute_reply": "2022-01-03T08:44:44.500563Z",
     "shell.execute_reply.started": "2022-01-03T08:03:46.689379Z"
    },
    "papermill": {
     "duration": 0.048398,
     "end_time": "2022-01-03T08:44:44.501239",
     "exception": false,
     "start_time": "2022-01-03T08:44:44.452841",
     "status": "completed"
    },
    "tags": []
   },
   "outputs": [],
   "source": [
    "submission.to_csv('./submission.csv', index=False)"
   ]
  },
  {
   "cell_type": "code",
   "execution_count": null,
   "id": "c2aa1259",
   "metadata": {
    "papermill": {
     "duration": 0.022934,
     "end_time": "2022-01-03T08:44:44.547495",
     "exception": false,
     "start_time": "2022-01-03T08:44:44.524561",
     "status": "completed"
    },
    "tags": []
   },
   "outputs": [],
   "source": []
  }
 ],
 "metadata": {
  "kernelspec": {
   "display_name": "Python 3",
   "language": "python",
   "name": "python3"
  },
  "language_info": {
   "codemirror_mode": {
    "name": "ipython",
    "version": 3
   },
   "file_extension": ".py",
   "mimetype": "text/x-python",
   "name": "python",
   "nbconvert_exporter": "python",
   "pygments_lexer": "ipython3",
   "version": "3.7.12"
  },
  "papermill": {
   "default_parameters": {},
   "duration": 576.300269,
   "end_time": "2022-01-03T08:44:45.381233",
   "environment_variables": {},
   "exception": null,
   "input_path": "__notebook__.ipynb",
   "output_path": "__notebook__.ipynb",
   "parameters": {},
   "start_time": "2022-01-03T08:35:09.080964",
   "version": "2.3.3"
  }
 },
 "nbformat": 4,
 "nbformat_minor": 5
}
