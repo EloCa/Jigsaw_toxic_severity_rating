{
 "cells": [
  {
   "cell_type": "code",
   "execution_count": 1,
   "id": "79fb807e",
   "metadata": {
    "_cell_guid": "b1076dfc-b9ad-4769-8c92-a6c4dae69d19",
    "_uuid": "8f2839f25d086af736a60e9eeb907d3b93b6e0e5",
    "execution": {
     "iopub.execute_input": "2022-01-17T13:04:47.388029Z",
     "iopub.status.busy": "2022-01-17T13:04:47.385927Z",
     "iopub.status.idle": "2022-01-17T13:04:49.163772Z",
     "shell.execute_reply": "2022-01-17T13:04:49.162652Z",
     "shell.execute_reply.started": "2022-01-13T12:21:28.478588Z"
    },
    "papermill": {
     "duration": 1.874416,
     "end_time": "2022-01-17T13:04:49.163946",
     "exception": false,
     "start_time": "2022-01-17T13:04:47.289530",
     "status": "completed"
    },
    "tags": []
   },
   "outputs": [],
   "source": [
    "from skmultilearn.model_selection import IterativeStratification\n",
    "from sklearn.metrics import precision_score, recall_score, f1_score, jaccard_score\n",
    "from transformers import BertTokenizer, TFBertModel, BertConfig, TFDistilBertModel, DistilBertTokenizer, DistilBertConfig\n",
    "from tensorflow.keras import regularizers\n",
    "from tensorflow.keras.layers import Dense, Dropout, Input\n",
    "from tensorflow import keras\n",
    "import tensorflow as tf\n",
    "from sklearn.metrics import accuracy_score\n",
    "from sklearn.model_selection import train_test_split\n",
    "import string\n",
    "from nltk.stem.snowball import EnglishStemmer\n",
    "from nltk.corpus import stopwords\n",
    "import re\n",
    "import seaborn as sns\n",
    "import numpy as np\n",
    "import pandas as pd\n",
    "from matplotlib import pyplot as plt\n",
    "%matplotlib inline"
   ]
  },
  {
   "cell_type": "markdown",
   "id": "00220879",
   "metadata": {
    "papermill": {
     "duration": 0.060181,
     "end_time": "2022-01-17T13:04:56.934884",
     "exception": false,
     "start_time": "2022-01-17T13:04:56.874703",
     "status": "completed"
    },
    "tags": []
   },
   "source": [
    "# Data"
   ]
  },
  {
   "cell_type": "code",
   "execution_count": 3,
   "id": "b51a9dcc",
   "metadata": {
    "execution": {
     "iopub.execute_input": "2022-01-17T13:04:57.060116Z",
     "iopub.status.busy": "2022-01-17T13:04:57.059363Z",
     "iopub.status.idle": "2022-01-17T13:04:59.104961Z",
     "shell.execute_reply": "2022-01-17T13:04:59.103757Z",
     "shell.execute_reply.started": "2022-01-13T12:21:44.895391Z"
    },
    "papermill": {
     "duration": 2.109193,
     "end_time": "2022-01-17T13:04:59.105109",
     "exception": false,
     "start_time": "2022-01-17T13:04:56.995916",
     "status": "completed"
    },
    "tags": []
   },
   "outputs": [],
   "source": [
    "df_train = pd.read_csv(\n",
    "    \"../input/jigsaw-toxic-comment-classification-challenge/train.csv\")"
   ]
  },
  {
   "cell_type": "code",
   "execution_count": 4,
   "id": "7294e8d9",
   "metadata": {
    "execution": {
     "iopub.execute_input": "2022-01-17T13:04:59.239591Z",
     "iopub.status.busy": "2022-01-17T13:04:59.238818Z",
     "iopub.status.idle": "2022-01-17T13:05:00.675993Z",
     "shell.execute_reply": "2022-01-17T13:05:00.676564Z",
     "shell.execute_reply.started": "2022-01-13T12:21:46.881624Z"
    },
    "papermill": {
     "duration": 1.509561,
     "end_time": "2022-01-17T13:05:00.676774",
     "exception": false,
     "start_time": "2022-01-17T13:04:59.167213",
     "status": "completed"
    },
    "tags": []
   },
   "outputs": [],
   "source": [
    "df_test = pd.read_csv(\n",
    "    \"../input/jigsaw-toxic-comment-classification-challenge/test.csv\")"
   ]
  },
  {
   "cell_type": "code",
   "execution_count": 5,
   "id": "b0ab2759",
   "metadata": {
    "execution": {
     "iopub.execute_input": "2022-01-17T13:05:00.903746Z",
     "iopub.status.busy": "2022-01-17T13:05:00.902724Z",
     "iopub.status.idle": "2022-01-17T13:05:00.909310Z",
     "shell.execute_reply": "2022-01-17T13:05:00.910020Z",
     "shell.execute_reply.started": "2022-01-13T12:21:48.204496Z"
    },
    "papermill": {
     "duration": 0.14775,
     "end_time": "2022-01-17T13:05:00.910275",
     "exception": false,
     "start_time": "2022-01-17T13:05:00.762525",
     "status": "completed"
    },
    "tags": []
   },
   "outputs": [],
   "source": [
    "cols_target = ['toxic', 'obscene', 'insult',\n",
    "               'threat', 'severe_toxic', 'identity_hate']"
   ]
  },
  {
   "cell_type": "code",
   "execution_count": 6,
   "id": "3548cc51",
   "metadata": {
    "execution": {
     "iopub.execute_input": "2022-01-17T13:05:01.134466Z",
     "iopub.status.busy": "2022-01-17T13:05:01.133488Z",
     "iopub.status.idle": "2022-01-17T13:05:01.418485Z",
     "shell.execute_reply": "2022-01-17T13:05:01.419198Z",
     "shell.execute_reply.started": "2022-01-13T12:21:48.212353Z"
    },
    "papermill": {
     "duration": 0.397975,
     "end_time": "2022-01-17T13:05:01.419478",
     "exception": false,
     "start_time": "2022-01-17T13:05:01.021503",
     "status": "completed"
    },
    "tags": []
   },
   "outputs": [],
   "source": [
    "y_test = pd.read_csv(\n",
    "    '../input/jigsaw-toxic-comment-classification-challenge/test_labels.csv')"
   ]
  },
  {
   "cell_type": "code",
   "execution_count": 7,
   "id": "7c3aa160",
   "metadata": {
    "execution": {
     "iopub.execute_input": "2022-01-17T13:05:01.634014Z",
     "iopub.status.busy": "2022-01-17T13:05:01.626244Z",
     "iopub.status.idle": "2022-01-17T13:05:01.824628Z",
     "shell.execute_reply": "2022-01-17T13:05:01.826098Z",
     "shell.execute_reply.started": "2022-01-13T12:21:48.395009Z"
    },
    "papermill": {
     "duration": 0.31028,
     "end_time": "2022-01-17T13:05:01.826361",
     "exception": false,
     "start_time": "2022-01-17T13:05:01.516081",
     "status": "completed"
    },
    "tags": []
   },
   "outputs": [],
   "source": [
    "# merge test data and their labels\n",
    "df_test = df_test.merge(y_test, on='id', how='left')\n",
    "\n",
    "# remove data without label info (label =-1)\n",
    "df_test2 = df_test[df_test.toxic != -1]"
   ]
  },
  {
   "cell_type": "markdown",
   "id": "37073525",
   "metadata": {
    "papermill": {
     "duration": 0.097046,
     "end_time": "2022-01-17T13:05:02.022594",
     "exception": false,
     "start_time": "2022-01-17T13:05:01.925548",
     "status": "completed"
    },
    "tags": []
   },
   "source": [
    "# Data preparation"
   ]
  },
  {
   "cell_type": "code",
   "execution_count": 8,
   "id": "5ef42412",
   "metadata": {
    "execution": {
     "iopub.execute_input": "2022-01-17T13:05:02.158325Z",
     "iopub.status.busy": "2022-01-17T13:05:02.157516Z",
     "iopub.status.idle": "2022-01-17T13:05:02.161480Z",
     "shell.execute_reply": "2022-01-17T13:05:02.160837Z",
     "shell.execute_reply.started": "2022-01-13T12:21:49.117896Z"
    },
    "papermill": {
     "duration": 0.072291,
     "end_time": "2022-01-17T13:05:02.161624",
     "exception": false,
     "start_time": "2022-01-17T13:05:02.089333",
     "status": "completed"
    },
    "tags": []
   },
   "outputs": [],
   "source": [
    "def clean_text(text):\n",
    "    text = text.lower()\n",
    "    text = re.sub(r\"what's\", \"what is \", text)\n",
    "    text = re.sub(r\"\\'s\", \" \", text)\n",
    "    text = re.sub(r\"\\'ve\", \" have \", text)\n",
    "    text = re.sub(r\"can't\", \"cannot \", text)\n",
    "    text = re.sub(r\"n't\", \" not \", text)\n",
    "    text = re.sub(r\"i'm\", \"i am \", text)\n",
    "    text = re.sub(r\"\\'re\", \" are \", text)\n",
    "    text = re.sub(r\"\\'d\", \" would \", text)\n",
    "    text = re.sub(r\"\\'ll\", \" will \", text)\n",
    "    text = re.sub(r\"\\'scuse\", \" excuse \", text)\n",
    "    text = re.sub('\\W', ' ', text)\n",
    "    text = re.sub('\\s+', ' ', text)\n",
    "    text = text.strip(' ')\n",
    "    return text"
   ]
  },
  {
   "cell_type": "code",
   "execution_count": 9,
   "id": "6ca3c7ba",
   "metadata": {
    "execution": {
     "iopub.execute_input": "2022-01-17T13:05:02.305652Z",
     "iopub.status.busy": "2022-01-17T13:05:02.290461Z",
     "iopub.status.idle": "2022-01-17T13:05:22.195205Z",
     "shell.execute_reply": "2022-01-17T13:05:22.196248Z",
     "shell.execute_reply.started": "2022-01-13T12:21:49.561187Z"
    },
    "papermill": {
     "duration": 19.974316,
     "end_time": "2022-01-17T13:05:22.196469",
     "exception": false,
     "start_time": "2022-01-17T13:05:02.222153",
     "status": "completed"
    },
    "tags": []
   },
   "outputs": [
    {
     "name": "stderr",
     "output_type": "stream",
     "text": [
      "/opt/conda/lib/python3.7/site-packages/ipykernel_launcher.py:5: SettingWithCopyWarning: \n",
      "A value is trying to be set on a copy of a slice from a DataFrame.\n",
      "Try using .loc[row_indexer,col_indexer] = value instead\n",
      "\n",
      "See the caveats in the documentation: https://pandas.pydata.org/pandas-docs/stable/user_guide/indexing.html#returning-a-view-versus-a-copy\n",
      "  \"\"\"\n"
     ]
    }
   ],
   "source": [
    "# clean the comment_text in train_df\n",
    "df_train['comment_text'] = df_train['comment_text'].apply(\n",
    "    lambda com: clean_text(com))\n",
    "\n",
    "# clean the comment_text in test_df\n",
    "df_test2['comment_text'] = df_test2['comment_text'].map(\n",
    "    lambda com: clean_text(com))"
   ]
  },
  {
   "cell_type": "code",
   "execution_count": 10,
   "id": "1198a9ba",
   "metadata": {
    "execution": {
     "iopub.execute_input": "2022-01-17T13:05:22.327915Z",
     "iopub.status.busy": "2022-01-17T13:05:22.326821Z",
     "iopub.status.idle": "2022-01-17T13:05:22.330356Z",
     "shell.execute_reply": "2022-01-17T13:05:22.329818Z",
     "shell.execute_reply.started": "2022-01-13T12:22:07.454588Z"
    },
    "papermill": {
     "duration": 0.07079,
     "end_time": "2022-01-17T13:05:22.330519",
     "exception": false,
     "start_time": "2022-01-17T13:05:22.259729",
     "status": "completed"
    },
    "tags": []
   },
   "outputs": [],
   "source": [
    "# get the number of classes\n",
    "num_classes = len(cols_target)"
   ]
  },
  {
   "cell_type": "markdown",
   "id": "74d46f18",
   "metadata": {
    "papermill": {
     "duration": 0.060351,
     "end_time": "2022-01-17T13:05:22.450912",
     "exception": false,
     "start_time": "2022-01-17T13:05:22.390561",
     "status": "completed"
    },
    "tags": []
   },
   "source": [
    "## Bert tokenizer"
   ]
  },
  {
   "cell_type": "code",
   "execution_count": 11,
   "id": "1cd3b9e2",
   "metadata": {
    "execution": {
     "iopub.execute_input": "2022-01-17T13:05:22.577973Z",
     "iopub.status.busy": "2022-01-17T13:05:22.577359Z",
     "iopub.status.idle": "2022-01-17T13:05:22.581683Z",
     "shell.execute_reply": "2022-01-17T13:05:22.581038Z",
     "shell.execute_reply.started": "2022-01-13T12:22:20.65098Z"
    },
    "papermill": {
     "duration": 0.069788,
     "end_time": "2022-01-17T13:05:22.581841",
     "exception": false,
     "start_time": "2022-01-17T13:05:22.512053",
     "status": "completed"
    },
    "tags": []
   },
   "outputs": [],
   "source": [
    "# get the tokenizer\n",
    "pretrained_bert = \"../input/huggingface-bert/bert-base-uncased\"\n",
    "bert_tokenizer = BertTokenizer.from_pretrained(pretrained_bert, do_lower_case=True)\n",
    "\n",
    "#bert_tokenizer = BertTokenizer.from_pretrained('bert-base-uncased')"
   ]
  },
  {
   "cell_type": "code",
   "execution_count": 12,
   "id": "a51c453a",
   "metadata": {
    "execution": {
     "iopub.execute_input": "2022-01-17T13:05:22.710199Z",
     "iopub.status.busy": "2022-01-17T13:05:22.705336Z",
     "iopub.status.idle": "2022-01-17T13:05:23.382272Z",
     "shell.execute_reply": "2022-01-17T13:05:23.382972Z",
     "shell.execute_reply.started": "2022-01-13T12:22:23.518331Z"
    },
    "papermill": {
     "duration": 0.741562,
     "end_time": "2022-01-17T13:05:23.383183",
     "exception": false,
     "start_time": "2022-01-17T13:05:22.641621",
     "status": "completed"
    },
    "tags": []
   },
   "outputs": [
    {
     "data": {
      "text/plain": [
       "(159571, 159571)"
      ]
     },
     "execution_count": 12,
     "metadata": {},
     "output_type": "execute_result"
    }
   ],
   "source": [
    "# get max length\n",
    "max_len = df_train.comment_text.apply(lambda x: len(x.split(' '))).max()\n",
    "\n",
    "\n",
    "sentences = df_train.comment_text\n",
    "labels = df_train[cols_target]\n",
    "len(sentences), len(labels)"
   ]
  },
  {
   "cell_type": "code",
   "execution_count": null,
   "id": "f418c9c5",
   "metadata": {
    "execution": {
     "iopub.execute_input": "2022-01-17T13:05:23.516656Z",
     "iopub.status.busy": "2022-01-17T13:05:23.514429Z",
     "iopub.status.idle": "2022-01-17T13:05:23.519362Z",
     "shell.execute_reply": "2022-01-17T13:05:23.518791Z"
    },
    "papermill": {
     "duration": 0.073317,
     "end_time": "2022-01-17T13:05:23.519502",
     "exception": false,
     "start_time": "2022-01-17T13:05:23.446185",
     "status": "completed"
    },
    "tags": []
   },
   "outputs": [],
   "source": [
    "# get the input_ids and attention masks for all sentences\n",
    "input_ids = []\n",
    "attention_masks = []\n",
    "\n",
    "for sent in sentences[:100000]:\n",
    "\n",
    "    # apply tokenizer on all sentences\n",
    "    bert_inps = bert_tokenizer.encode_plus(sent, add_special_tokens=True,\n",
    "                                           max_length=512, pad_to_max_length=True,\n",
    "                                           return_attention_mask=True, truncation=True)\n",
    "\n",
    "    input_ids.append(bert_inps['input_ids'])\n",
    "    attention_masks.append(bert_inps['attention_mask'])\n",
    "\n",
    "input_ids = np.asarray(input_ids)\n",
    "attention_masks = np.array(attention_masks)\n",
    "labels = np.array(labels[:100000])"
   ]
  },
  {
   "cell_type": "code",
   "execution_count": 14,
   "id": "0912ec6a",
   "metadata": {
    "execution": {
     "iopub.execute_input": "2022-01-17T13:05:23.646162Z",
     "iopub.status.busy": "2022-01-17T13:05:23.645133Z",
     "iopub.status.idle": "2022-01-17T13:05:23.648313Z",
     "shell.execute_reply": "2022-01-17T13:05:23.647745Z"
    },
    "papermill": {
     "duration": 0.068859,
     "end_time": "2022-01-17T13:05:23.648442",
     "exception": false,
     "start_time": "2022-01-17T13:05:23.579583",
     "status": "completed"
    },
    "tags": []
   },
   "outputs": [],
   "source": [
    "# split data into train and validation\n",
    "train_inp, val_inp, train_mask, val_mask, train_label, val_label = train_test_split(\n",
    "    input_ids, attention_masks, labels)"
   ]
  },
  {
   "cell_type": "markdown",
   "id": "61127820",
   "metadata": {
    "papermill": {
     "duration": 0.059888,
     "end_time": "2022-01-17T13:05:23.768556",
     "exception": false,
     "start_time": "2022-01-17T13:05:23.708668",
     "status": "completed"
    },
    "tags": []
   },
   "source": [
    "# BERT model"
   ]
  },
  {
   "cell_type": "code",
   "execution_count": 31,
   "id": "6e05ed2d",
   "metadata": {
    "execution": {
     "iopub.execute_input": "2022-01-17T15:34:37.510355Z",
     "iopub.status.busy": "2022-01-17T15:34:37.509351Z",
     "iopub.status.idle": "2022-01-17T15:34:37.511944Z",
     "shell.execute_reply": "2022-01-17T15:34:37.512461Z"
    },
    "papermill": {
     "duration": 0.073708,
     "end_time": "2022-01-17T15:34:37.512653",
     "exception": false,
     "start_time": "2022-01-17T15:34:37.438945",
     "status": "completed"
    },
    "tags": []
   },
   "outputs": [],
   "source": [
    "def create_model(train=False):\n",
    "    \"\"\" create a bert model for classification\n",
    "    train : boolean: indicating wether to train the full model \"\"\"\n",
    "    inps = Input(shape=(512,), dtype='int64')\n",
    "    masks = Input(shape=(512,), dtype='int64')\n",
    "    bert_model = TFBertModel.from_pretrained(pretrained_bert)\n",
    "    #bert_model = TFBertModel.from_pretrained('bert-base-uncased')\n",
    "    bert_model.trainable = train\n",
    "    bert_layer = bert_model(inps, attention_mask=masks)[0][:, 0, :]\n",
    "    pred = Dense(num_classes, activation='sigmoid')(bert_layer)\n",
    "    model = tf.keras.Model(inputs=[inps, masks], outputs=pred)\n",
    "    return model"
   ]
  },
  {
   "cell_type": "code",
   "execution_count": 32,
   "id": "bc64dbfd",
   "metadata": {
    "execution": {
     "iopub.execute_input": "2022-01-17T15:34:37.644005Z",
     "iopub.status.busy": "2022-01-17T15:34:37.643102Z",
     "iopub.status.idle": "2022-01-17T15:34:37.656534Z",
     "shell.execute_reply": "2022-01-17T15:34:37.655360Z"
    },
    "papermill": {
     "duration": 0.080785,
     "end_time": "2022-01-17T15:34:37.656677",
     "exception": false,
     "start_time": "2022-01-17T15:34:37.575892",
     "status": "completed"
    },
    "tags": []
   },
   "outputs": [],
   "source": [
    "# Model parameters\n",
    "loss = tf.keras.losses.BinaryCrossentropy()\n",
    "optimizer = tf.keras.optimizers.Adam(learning_rate=2e-5)"
   ]
  },
  {
   "cell_type": "code",
   "execution_count": 33,
   "id": "ad0ff602",
   "metadata": {
    "execution": {
     "iopub.execute_input": "2022-01-17T15:34:37.793919Z",
     "iopub.status.busy": "2022-01-17T15:34:37.792956Z",
     "iopub.status.idle": "2022-01-17T15:34:37.796599Z",
     "shell.execute_reply": "2022-01-17T15:34:37.797166Z"
    },
    "papermill": {
     "duration": 0.075179,
     "end_time": "2022-01-17T15:34:37.797350",
     "exception": false,
     "start_time": "2022-01-17T15:34:37.722171",
     "status": "completed"
    },
    "tags": []
   },
   "outputs": [
    {
     "data": {
      "text/plain": [
       "\"\\n# create model\\nmodel = create_model(train=False)\\n\\n# compile model\\nmodel.compile(loss = loss, optimizer = optimizer, metrics='accuracy')\\n\\n# train model\\nmodel.fit([train_inp,train_mask], train_label, batch_size = 16, epochs = 2,\\n          validation_data = ([val_inp, val_mask], val_label), workers=5 )\\n\""
      ]
     },
     "execution_count": 33,
     "metadata": {},
     "output_type": "execute_result"
    }
   ],
   "source": [
    "# create model\n",
    "model = create_model(train=False)\n",
    "\n",
    "# compile model\n",
    "model.compile(loss=loss, optimizer=optimizer, metrics='accuracy')\n",
    "\n",
    "# train model\n",
    "model.fit([train_inp, train_mask], train_label, batch_size=16, epochs=2,\n",
    "          validation_data=([val_inp, val_mask], val_label), workers=5)"
   ]
  },
  {
   "cell_type": "code",
   "execution_count": 34,
   "id": "bac6ad87",
   "metadata": {
    "execution": {
     "iopub.execute_input": "2022-01-17T15:34:37.929476Z",
     "iopub.status.busy": "2022-01-17T15:34:37.928546Z",
     "iopub.status.idle": "2022-01-17T15:34:37.931635Z",
     "shell.execute_reply": "2022-01-17T15:34:37.931098Z"
    },
    "papermill": {
     "duration": 0.069881,
     "end_time": "2022-01-17T15:34:37.931774",
     "exception": false,
     "start_time": "2022-01-17T15:34:37.861893",
     "status": "completed"
    },
    "tags": []
   },
   "outputs": [],
   "source": [
    "#model.save_weights('./weights.')"
   ]
  },
  {
   "cell_type": "code",
   "execution_count": 35,
   "id": "72e20bdb",
   "metadata": {
    "execution": {
     "iopub.execute_input": "2022-01-17T15:34:38.064798Z",
     "iopub.status.busy": "2022-01-17T15:34:38.063663Z",
     "iopub.status.idle": "2022-01-17T15:34:38.066745Z",
     "shell.execute_reply": "2022-01-17T15:34:38.066071Z"
    },
    "papermill": {
     "duration": 0.072285,
     "end_time": "2022-01-17T15:34:38.066902",
     "exception": false,
     "start_time": "2022-01-17T15:34:37.994617",
     "status": "completed"
    },
    "tags": []
   },
   "outputs": [],
   "source": [
    "#tf.keras.models.save_model(model, './model.h5')"
   ]
  },
  {
   "cell_type": "code",
   "execution_count": null,
   "id": "1a39a46c",
   "metadata": {
    "papermill": {
     "duration": 0.06835,
     "end_time": "2022-01-17T15:34:38.331901",
     "exception": false,
     "start_time": "2022-01-17T15:34:38.263551",
     "status": "completed"
    },
    "tags": []
   },
   "outputs": [],
   "source": []
  },
  {
   "cell_type": "markdown",
   "id": "4ea84bd2",
   "metadata": {
    "papermill": {
     "duration": 0.063744,
     "end_time": "2022-01-17T15:34:38.460639",
     "exception": false,
     "start_time": "2022-01-17T15:34:38.396895",
     "status": "completed"
    },
    "tags": []
   },
   "source": [
    "# Test"
   ]
  },
  {
   "cell_type": "code",
   "execution_count": null,
   "id": "2134ae4e",
   "metadata": {
    "execution": {
     "iopub.execute_input": "2022-01-17T15:34:38.599773Z",
     "iopub.status.busy": "2022-01-17T15:34:38.598907Z",
     "iopub.status.idle": "2022-01-17T15:34:38.602566Z",
     "shell.execute_reply": "2022-01-17T15:34:38.603101Z"
    },
    "papermill": {
     "duration": 0.075688,
     "end_time": "2022-01-17T15:34:38.603266",
     "exception": false,
     "start_time": "2022-01-17T15:34:38.527578",
     "status": "completed"
    },
    "tags": []
   },
   "outputs": [],
   "source": [
    "# get the input_ids and attention masks for all test sentences\n",
    "sentences_test = df_test2.comment_text\n",
    "input_ids_test = []\n",
    "attention_masks_test = []\n",
    "\n",
    "for sent in sentences_test:\n",
    "\n",
    "    # apply tokenizer on all sentences\n",
    "    bert_inps = bert_tokenizer.encode_plus(sent, add_special_tokens=True,\n",
    "                                           max_length=512, pad_to_max_length=True,\n",
    "                                           return_attention_mask=True, truncation=True)\n",
    "\n",
    "    input_ids_test.append(bert_inps['input_ids'])\n",
    "    attention_masks_test.append(bert_inps['attention_mask'])\n",
    "\n",
    "input_ids_test = np.asarray(input_ids_test)\n",
    "attention_masks_test = np.array(attention_masks_test)"
   ]
  },
  {
   "cell_type": "code",
   "execution_count": 38,
   "id": "aa94ba89",
   "metadata": {
    "execution": {
     "iopub.execute_input": "2022-01-17T15:34:38.751580Z",
     "iopub.status.busy": "2022-01-17T15:34:38.750385Z",
     "iopub.status.idle": "2022-01-17T15:34:43.025387Z",
     "shell.execute_reply": "2022-01-17T15:34:43.024770Z"
    },
    "papermill": {
     "duration": 4.355593,
     "end_time": "2022-01-17T15:34:43.025564",
     "exception": false,
     "start_time": "2022-01-17T15:34:38.669971",
     "status": "completed"
    },
    "tags": []
   },
   "outputs": [],
   "source": [
    "# get predictions for test data\n",
    "pred = model.predict([input_ids_test, attention_masks_test])"
   ]
  },
  {
   "cell_type": "code",
   "execution_count": 39,
   "id": "8043087a",
   "metadata": {
    "execution": {
     "iopub.execute_input": "2022-01-17T15:34:43.158053Z",
     "iopub.status.busy": "2022-01-17T15:34:43.157061Z",
     "iopub.status.idle": "2022-01-17T15:34:43.160145Z",
     "shell.execute_reply": "2022-01-17T15:34:43.159659Z"
    },
    "papermill": {
     "duration": 0.067676,
     "end_time": "2022-01-17T15:34:43.160309",
     "exception": false,
     "start_time": "2022-01-17T15:34:43.092633",
     "status": "completed"
    },
    "tags": []
   },
   "outputs": [],
   "source": [
    "#pred.shape"
   ]
  },
  {
   "cell_type": "code",
   "execution_count": 40,
   "id": "cde8d51f",
   "metadata": {
    "execution": {
     "iopub.execute_input": "2022-01-17T15:34:43.291829Z",
     "iopub.status.busy": "2022-01-17T15:34:43.290732Z",
     "iopub.status.idle": "2022-01-17T15:34:43.295329Z",
     "shell.execute_reply": "2022-01-17T15:34:43.294737Z"
    },
    "papermill": {
     "duration": 0.072203,
     "end_time": "2022-01-17T15:34:43.295509",
     "exception": false,
     "start_time": "2022-01-17T15:34:43.223306",
     "status": "completed"
    },
    "tags": []
   },
   "outputs": [],
   "source": [
    "#pred[0]"
   ]
  },
  {
   "cell_type": "code",
   "execution_count": 41,
   "id": "4531ba03",
   "metadata": {
    "execution": {
     "iopub.execute_input": "2022-01-17T15:34:43.434810Z",
     "iopub.status.busy": "2022-01-17T15:34:43.431397Z",
     "iopub.status.idle": "2022-01-17T15:34:43.458890Z",
     "shell.execute_reply": "2022-01-17T15:34:43.458277Z"
    },
    "papermill": {
     "duration": 0.097608,
     "end_time": "2022-01-17T15:34:43.459026",
     "exception": false,
     "start_time": "2022-01-17T15:34:43.361418",
     "status": "completed"
    },
    "tags": []
   },
   "outputs": [
    {
     "data": {
      "text/plain": [
       "0.9004032636218701"
      ]
     },
     "execution_count": 41,
     "metadata": {},
     "output_type": "execute_result"
    }
   ],
   "source": [
    "# compute model accuracy on test data\n",
    "accuracy_score(df_test2[cols_target], pred)"
   ]
  },
  {
   "cell_type": "code",
   "execution_count": null,
   "id": "e7e1d2f8",
   "metadata": {
    "papermill": {
     "duration": 0.064628,
     "end_time": "2022-01-17T15:34:43.589803",
     "exception": false,
     "start_time": "2022-01-17T15:34:43.525175",
     "status": "completed"
    },
    "tags": []
   },
   "outputs": [],
   "source": []
  },
  {
   "cell_type": "markdown",
   "id": "35eb0ea8",
   "metadata": {
    "papermill": {
     "duration": 0.064724,
     "end_time": "2022-01-17T15:34:43.720219",
     "exception": false,
     "start_time": "2022-01-17T15:34:43.655495",
     "status": "completed"
    },
    "tags": []
   },
   "source": [
    "# Validation"
   ]
  },
  {
   "cell_type": "code",
   "execution_count": 42,
   "id": "9e160d0b",
   "metadata": {
    "execution": {
     "iopub.execute_input": "2022-01-17T15:34:43.854014Z",
     "iopub.status.busy": "2022-01-17T15:34:43.853406Z",
     "iopub.status.idle": "2022-01-17T15:34:44.276707Z",
     "shell.execute_reply": "2022-01-17T15:34:44.276146Z",
     "shell.execute_reply.started": "2022-01-13T12:23:35.966033Z"
    },
    "papermill": {
     "duration": 0.493361,
     "end_time": "2022-01-17T15:34:44.276871",
     "exception": false,
     "start_time": "2022-01-17T15:34:43.783510",
     "status": "completed"
    },
    "tags": []
   },
   "outputs": [],
   "source": [
    "validation_data = pd.read_csv(\n",
    "    '../input/jigsaw-toxic-severity-rating/validation_data.csv')"
   ]
  },
  {
   "cell_type": "code",
   "execution_count": 43,
   "id": "e73cd16e",
   "metadata": {
    "execution": {
     "iopub.execute_input": "2022-01-17T15:34:44.449944Z",
     "iopub.status.busy": "2022-01-17T15:34:44.415820Z",
     "iopub.status.idle": "2022-01-17T15:34:47.426691Z",
     "shell.execute_reply": "2022-01-17T15:34:47.425695Z",
     "shell.execute_reply.started": "2022-01-13T12:23:36.469461Z"
    },
    "papermill": {
     "duration": 3.079581,
     "end_time": "2022-01-17T15:34:47.426847",
     "exception": false,
     "start_time": "2022-01-17T15:34:44.347266",
     "status": "completed"
    },
    "tags": []
   },
   "outputs": [],
   "source": [
    "validation_data['less_toxic'] = validation_data.less_toxic.apply(clean_text)"
   ]
  },
  {
   "cell_type": "code",
   "execution_count": 44,
   "id": "2e3b2f4b",
   "metadata": {
    "execution": {
     "iopub.execute_input": "2022-01-17T15:34:47.570246Z",
     "iopub.status.busy": "2022-01-17T15:34:47.566075Z",
     "iopub.status.idle": "2022-01-17T15:34:50.209541Z",
     "shell.execute_reply": "2022-01-17T15:34:50.208865Z",
     "shell.execute_reply.started": "2022-01-13T12:23:38.929898Z"
    },
    "papermill": {
     "duration": 2.713456,
     "end_time": "2022-01-17T15:34:50.209723",
     "exception": false,
     "start_time": "2022-01-17T15:34:47.496267",
     "status": "completed"
    },
    "tags": []
   },
   "outputs": [],
   "source": [
    "validation_data['more_toxic'] = validation_data.more_toxic.apply(clean_text)"
   ]
  },
  {
   "cell_type": "code",
   "execution_count": null,
   "id": "6eddedb1",
   "metadata": {
    "execution": {
     "iopub.execute_input": "2022-01-17T15:34:50.343417Z",
     "iopub.status.busy": "2022-01-17T15:34:50.342347Z",
     "iopub.status.idle": "2022-01-17T15:34:50.346771Z",
     "shell.execute_reply": "2022-01-17T15:34:50.347322Z"
    },
    "papermill": {
     "duration": 0.072817,
     "end_time": "2022-01-17T15:34:50.347499",
     "exception": false,
     "start_time": "2022-01-17T15:34:50.274682",
     "status": "completed"
    },
    "tags": []
   },
   "outputs": [],
   "source": [
    "# get the input_ids and attention masks for all less toxic sentences\n",
    "sentences_val1 = validation_data.less_toxic\n",
    "input_ids_val1 = []\n",
    "attention_masks_val1 = []\n",
    "\n",
    "for sent in sentences_val1:\n",
    "\n",
    "    # apply tokenizer on all sentences\n",
    "    bert_inps = bert_tokenizer.encode_plus(sent, add_special_tokens=True,\n",
    "                                           max_length=512, pad_to_max_length=True,\n",
    "                                           return_attention_mask=True, truncation=True)\n",
    "\n",
    "    input_ids_val1.append(bert_inps['input_ids'])\n",
    "    attention_masks_val1.append(bert_inps['attention_mask'])\n",
    "\n",
    "input_ids_val1 = np.asarray(input_ids_val1)\n",
    "attention_masks_val1 = np.array(attention_masks_val1)"
   ]
  },
  {
   "cell_type": "code",
   "execution_count": null,
   "id": "3169c89f",
   "metadata": {
    "execution": {
     "iopub.execute_input": "2022-01-17T15:34:50.487857Z",
     "iopub.status.busy": "2022-01-17T15:34:50.487022Z",
     "iopub.status.idle": "2022-01-17T15:34:50.490558Z",
     "shell.execute_reply": "2022-01-17T15:34:50.491090Z"
    },
    "papermill": {
     "duration": 0.076582,
     "end_time": "2022-01-17T15:34:50.491258",
     "exception": false,
     "start_time": "2022-01-17T15:34:50.414676",
     "status": "completed"
    },
    "tags": []
   },
   "outputs": [],
   "source": [
    "# get the input_ids and attention masks for all more toxic sentences\n",
    "sentences_val2 = validation_data.more_toxic\n",
    "input_ids_val2 = []\n",
    "attention_masks_val2 = []\n",
    "\n",
    "for sent in sentences_val2:\n",
    "\n",
    "    # apply tokenizer on all sentences\n",
    "    bert_inps = bert_tokenizer.encode_plus(sent, add_special_tokens=True,\n",
    "                                           max_length=512, pad_to_max_length=True,\n",
    "                                           return_attention_mask=True, truncation=True)\n",
    "\n",
    "    input_ids_val2.append(bert_inps['input_ids'])\n",
    "    attention_masks_val2.append(bert_inps['attention_mask'])\n",
    "\n",
    "input_ids_val2 = np.asarray(input_ids_val2)\n",
    "attention_masks_val2 = np.array(attention_masks_val2)"
   ]
  },
  {
   "cell_type": "code",
   "execution_count": 50,
   "id": "37d35969",
   "metadata": {
    "execution": {
     "iopub.execute_input": "2022-01-17T16:10:10.559810Z",
     "iopub.status.busy": "2022-01-17T16:10:10.558720Z",
     "iopub.status.idle": "2022-01-17T16:10:12.521855Z",
     "shell.execute_reply": "2022-01-17T16:10:12.522463Z",
     "shell.execute_reply.started": "2022-01-13T12:56:06.002398Z"
    },
    "papermill": {
     "duration": 2.094683,
     "end_time": "2022-01-17T16:10:12.522661",
     "exception": false,
     "start_time": "2022-01-17T16:10:10.427978",
     "status": "completed"
    },
    "tags": []
   },
   "outputs": [],
   "source": [
    "# get prediction for less toxic sentences\n",
    "pred_val1 = model.predict([input_ids_val1, attention_masks_val1])"
   ]
  },
  {
   "cell_type": "code",
   "execution_count": 52,
   "id": "946db6cb",
   "metadata": {
    "execution": {
     "iopub.execute_input": "2022-01-17T16:10:12.818276Z",
     "iopub.status.busy": "2022-01-17T16:10:12.808056Z",
     "iopub.status.idle": "2022-01-17T16:10:14.464681Z",
     "shell.execute_reply": "2022-01-17T16:10:14.464047Z",
     "shell.execute_reply.started": "2022-01-13T12:57:50.30618Z"
    },
    "papermill": {
     "duration": 1.725422,
     "end_time": "2022-01-17T16:10:14.464846",
     "exception": false,
     "start_time": "2022-01-17T16:10:12.739424",
     "status": "completed"
    },
    "tags": []
   },
   "outputs": [],
   "source": [
    "# get prediction for more toxic sentences \n",
    "pred_val2 = model.predict([input_ids_val2, attention_masks_val2])"
   ]
  },
  {
   "cell_type": "code",
   "execution_count": 54,
   "id": "b625af0a",
   "metadata": {
    "execution": {
     "iopub.execute_input": "2022-01-17T16:10:14.750526Z",
     "iopub.status.busy": "2022-01-17T16:10:14.749397Z",
     "iopub.status.idle": "2022-01-17T16:10:15.412352Z",
     "shell.execute_reply": "2022-01-17T16:10:15.411692Z",
     "shell.execute_reply.started": "2022-01-13T13:04:43.454604Z"
    },
    "papermill": {
     "duration": 0.734456,
     "end_time": "2022-01-17T16:10:15.412542",
     "exception": false,
     "start_time": "2022-01-17T16:10:14.678086",
     "status": "completed"
    },
    "tags": []
   },
   "outputs": [],
   "source": [
    "def score_function(a):\n",
    "    \"\"\" define the score of toxicity \"\"\"\n",
    "    # a[0] = a[0]   # toxic\n",
    "    # a[1] = a[1]*1.25 # obscene\n",
    "    # a[2] = a[2]*1.25 # insult\n",
    "    a[3] = a[3]*1.5  # threat\n",
    "    a[4] = a[4]*2  # severe_toxic\n",
    "    a[5] = a[5]*2  # identity hate\n",
    "    return a.sum()\n",
    "\n",
    "# apply score function on validation data\n",
    "val1_pred_sum = np.apply_along_axis(score_function, axis=1, arr=pred_val1_2)\n",
    "val2_pred_sum = np.apply_along_axis(score_function, axis=1, arr=pred_val2_2)"
   ]
  },
  {
   "cell_type": "code",
   "execution_count": 55,
   "id": "a8b8d632",
   "metadata": {
    "execution": {
     "iopub.execute_input": "2022-01-17T16:10:15.555589Z",
     "iopub.status.busy": "2022-01-17T16:10:15.554600Z",
     "iopub.status.idle": "2022-01-17T16:10:15.557902Z",
     "shell.execute_reply": "2022-01-17T16:10:15.558470Z",
     "shell.execute_reply.started": "2022-01-13T13:04:44.704315Z"
    },
    "papermill": {
     "duration": 0.077005,
     "end_time": "2022-01-17T16:10:15.558619",
     "exception": false,
     "start_time": "2022-01-17T16:10:15.481614",
     "status": "completed"
    },
    "tags": []
   },
   "outputs": [
    {
     "data": {
      "text/plain": [
       "(30108,)"
      ]
     },
     "execution_count": 55,
     "metadata": {},
     "output_type": "execute_result"
    }
   ],
   "source": [
    "val1_pred_sum.shape"
   ]
  },
  {
   "cell_type": "code",
   "execution_count": null,
   "id": "a1b542da",
   "metadata": {
    "execution": {
     "iopub.execute_input": "2022-01-17T16:10:15.698809Z",
     "iopub.status.busy": "2022-01-17T16:10:15.697752Z",
     "iopub.status.idle": "2022-01-17T16:10:15.705767Z",
     "shell.execute_reply": "2022-01-17T16:10:15.706320Z",
     "shell.execute_reply.started": "2022-01-13T13:04:47.668388Z"
    },
    "papermill": {
     "duration": 0.079726,
     "end_time": "2022-01-17T16:10:15.706472",
     "exception": false,
     "start_time": "2022-01-17T16:10:15.626746",
     "status": "completed"
    },
    "tags": []
   },
   "outputs": [],
   "source": [
    "# compute the score for validation data\n",
    "(val1_pred_sum < val2_pred_sum).sum()/validation_data.shape[0]"
   ]
  },
  {
   "cell_type": "markdown",
   "id": "1c5564d0",
   "metadata": {
    "papermill": {
     "duration": 0.068141,
     "end_time": "2022-01-17T16:10:15.849034",
     "exception": false,
     "start_time": "2022-01-17T16:10:15.780893",
     "status": "completed"
    },
    "tags": []
   },
   "source": [
    "# Comments to score"
   ]
  },
  {
   "cell_type": "code",
   "execution_count": 57,
   "id": "628ce6ab",
   "metadata": {
    "execution": {
     "iopub.execute_input": "2022-01-17T16:10:15.992966Z",
     "iopub.status.busy": "2022-01-17T16:10:15.992204Z",
     "iopub.status.idle": "2022-01-17T16:10:16.079432Z",
     "shell.execute_reply": "2022-01-17T16:10:16.078829Z"
    },
    "papermill": {
     "duration": 0.160027,
     "end_time": "2022-01-17T16:10:16.079593",
     "exception": false,
     "start_time": "2022-01-17T16:10:15.919566",
     "status": "completed"
    },
    "tags": []
   },
   "outputs": [],
   "source": [
    "comments_to_score = pd.read_csv(\n",
    "    '../input/jigsaw-toxic-severity-rating/comments_to_score.csv')"
   ]
  },
  {
   "cell_type": "code",
   "execution_count": 58,
   "id": "d830925e",
   "metadata": {
    "execution": {
     "iopub.execute_input": "2022-01-17T16:10:16.250200Z",
     "iopub.status.busy": "2022-01-17T16:10:16.245059Z",
     "iopub.status.idle": "2022-01-17T16:10:17.021569Z",
     "shell.execute_reply": "2022-01-17T16:10:17.021051Z"
    },
    "papermill": {
     "duration": 0.872596,
     "end_time": "2022-01-17T16:10:17.021722",
     "exception": false,
     "start_time": "2022-01-17T16:10:16.149126",
     "status": "completed"
    },
    "tags": []
   },
   "outputs": [],
   "source": [
    "comments_to_score['text'] = comments_to_score.text.apply(clean_text)"
   ]
  },
  {
   "cell_type": "code",
   "execution_count": null,
   "id": "63432272",
   "metadata": {
    "execution": {
     "iopub.execute_input": "2022-01-17T16:10:17.150577Z",
     "iopub.status.busy": "2022-01-17T16:10:17.149577Z",
     "iopub.status.idle": "2022-01-17T16:10:17.157985Z",
     "shell.execute_reply": "2022-01-17T16:10:17.157484Z"
    },
    "papermill": {
     "duration": 0.073863,
     "end_time": "2022-01-17T16:10:17.158106",
     "exception": false,
     "start_time": "2022-01-17T16:10:17.084243",
     "status": "completed"
    },
    "tags": []
   },
   "outputs": [],
   "source": [
    "# get the input_ids and attention masks for all comments to score\n",
    "sentences_comments = comments_to_score.text\n",
    "input_ids_comments = []\n",
    "attention_masks_comments = []\n",
    "\n",
    "for sent in sentences_comments:\n",
    "\n",
    "    # apply tokenizer on all sentences\n",
    "    bert_inps = bert_tokenizer.encode_plus(sent, add_special_tokens=True,\n",
    "                                           max_length=512, pad_to_max_length=True,\n",
    "                                           return_attention_mask=True, truncation=True)\n",
    "\n",
    "    input_ids_comments.append(bert_inps['input_ids'])\n",
    "    attention_masks_comments.append(bert_inps['attention_mask'])\n",
    "\n",
    "input_ids_comments = np.asarray(input_ids_comments)\n",
    "attention_masks_comments = np.array(attention_masks_comments)"
   ]
  },
  {
   "cell_type": "code",
   "execution_count": 62,
   "id": "f3e72dec",
   "metadata": {
    "execution": {
     "iopub.execute_input": "2022-01-17T16:14:42.265065Z",
     "iopub.status.busy": "2022-01-17T16:14:42.263650Z",
     "iopub.status.idle": "2022-01-17T16:14:42.776837Z",
     "shell.execute_reply": "2022-01-17T16:14:42.777923Z"
    },
    "papermill": {
     "duration": 0.597692,
     "end_time": "2022-01-17T16:14:42.778116",
     "exception": false,
     "start_time": "2022-01-17T16:14:42.180424",
     "status": "completed"
    },
    "tags": []
   },
   "outputs": [],
   "source": [
    "# get predictions for comments to score\n",
    "predictions = model.predict([input_ids_comments, attention_masks_comments])"
   ]
  },
  {
   "cell_type": "code",
   "execution_count": 65,
   "id": "85699692",
   "metadata": {
    "execution": {
     "iopub.execute_input": "2022-01-17T16:14:43.217360Z",
     "iopub.status.busy": "2022-01-17T16:14:43.206190Z",
     "iopub.status.idle": "2022-01-17T16:14:43.278515Z",
     "shell.execute_reply": "2022-01-17T16:14:43.277955Z"
    },
    "papermill": {
     "duration": 0.157941,
     "end_time": "2022-01-17T16:14:43.278638",
     "exception": false,
     "start_time": "2022-01-17T16:14:43.120697",
     "status": "completed"
    },
    "tags": []
   },
   "outputs": [],
   "source": [
    "# apply score function for comments to score\n",
    "pred_sum = np.apply_along_axis(score_function,  axis=1, arr=predictions_2)"
   ]
  },
  {
   "cell_type": "code",
   "execution_count": 66,
   "id": "c5b64b55",
   "metadata": {
    "execution": {
     "iopub.execute_input": "2022-01-17T16:14:43.516059Z",
     "iopub.status.busy": "2022-01-17T16:14:43.514546Z",
     "iopub.status.idle": "2022-01-17T16:14:43.533133Z",
     "shell.execute_reply": "2022-01-17T16:14:43.533954Z"
    },
    "papermill": {
     "duration": 0.1795,
     "end_time": "2022-01-17T16:14:43.534164",
     "exception": false,
     "start_time": "2022-01-17T16:14:43.354664",
     "status": "completed"
    },
    "tags": []
   },
   "outputs": [],
   "source": [
    "sample_submission = pd.read_csv(\n",
    "    '../input/jigsaw-toxic-severity-rating/sample_submission.csv')"
   ]
  },
  {
   "cell_type": "code",
   "execution_count": 67,
   "id": "c96a44dd",
   "metadata": {
    "execution": {
     "iopub.execute_input": "2022-01-17T16:14:43.775416Z",
     "iopub.status.busy": "2022-01-17T16:14:43.774388Z",
     "iopub.status.idle": "2022-01-17T16:14:43.777216Z",
     "shell.execute_reply": "2022-01-17T16:14:43.776367Z"
    },
    "papermill": {
     "duration": 0.130706,
     "end_time": "2022-01-17T16:14:43.777425",
     "exception": false,
     "start_time": "2022-01-17T16:14:43.646719",
     "status": "completed"
    },
    "tags": []
   },
   "outputs": [],
   "source": [
    "sample_submission['score'] = pred_sum"
   ]
  },
  {
   "cell_type": "code",
   "execution_count": 68,
   "id": "923c1405",
   "metadata": {
    "execution": {
     "iopub.execute_input": "2022-01-17T16:14:43.995127Z",
     "iopub.status.busy": "2022-01-17T16:14:43.994277Z",
     "iopub.status.idle": "2022-01-17T16:14:44.021172Z",
     "shell.execute_reply": "2022-01-17T16:14:44.021649Z"
    },
    "papermill": {
     "duration": 0.126278,
     "end_time": "2022-01-17T16:14:44.021812",
     "exception": false,
     "start_time": "2022-01-17T16:14:43.895534",
     "status": "completed"
    },
    "tags": []
   },
   "outputs": [],
   "source": [
    "# save predictions\n",
    "sample_submission.to_csv('./submission.csv', index=False)"
   ]
  },
  {
   "cell_type": "code",
   "execution_count": null,
   "id": "96793267",
   "metadata": {
    "papermill": {
     "duration": 0.067481,
     "end_time": "2022-01-17T16:14:44.155898",
     "exception": false,
     "start_time": "2022-01-17T16:14:44.088417",
     "status": "completed"
    },
    "tags": []
   },
   "outputs": [],
   "source": []
  }
 ],
 "metadata": {
  "kernelspec": {
   "display_name": "Python 3 (ipykernel)",
   "language": "python",
   "name": "python3"
  },
  "language_info": {
   "codemirror_mode": {
    "name": "ipython",
    "version": 3
   },
   "file_extension": ".py",
   "mimetype": "text/x-python",
   "name": "python",
   "nbconvert_exporter": "python",
   "pygments_lexer": "ipython3",
   "version": "3.8.5"
  },
  "papermill": {
   "default_parameters": {},
   "duration": 11410.048481,
   "end_time": "2022-01-17T16:14:47.396959",
   "environment_variables": {},
   "exception": null,
   "input_path": "__notebook__.ipynb",
   "output_path": "__notebook__.ipynb",
   "parameters": {},
   "start_time": "2022-01-17T13:04:37.348478",
   "version": "2.3.3"
  }
 },
 "nbformat": 4,
 "nbformat_minor": 5
}
