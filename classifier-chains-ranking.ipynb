{
 "cells": [
  {
   "cell_type": "markdown",
   "metadata": {
    "_cell_guid": "d49b7eaa-0bf7-48e0-9fe6-51ba03036ba1",
    "_uuid": "9dacb7a2a5a9e582d7e597be4ea479cedd79489a"
   },
   "source": [
    "# Classifiy toxicity and then rank toxicity\n",
    "\n",
    "This kernel is inspired by Rhodium Beng Classifying multi-label comments with Logistic Regression\n"
   ]
  },
  {
   "cell_type": "code",
   "execution_count": 1,
   "metadata": {
    "_cell_guid": "8f6a95ee-cc95-4c9f-a8f7-72ae58ec13d6",
    "_uuid": "5c5f4cc8865644748e11336736bbe584adebe7b1",
    "execution": {
     "iopub.execute_input": "2022-01-03T10:01:07.042709Z",
     "iopub.status.busy": "2022-01-03T10:01:07.042068Z",
     "iopub.status.idle": "2022-01-03T10:01:08.120695Z",
     "shell.execute_reply": "2022-01-03T10:01:08.119801Z",
     "shell.execute_reply.started": "2022-01-03T10:01:07.042632Z"
    }
   },
   "outputs": [],
   "source": [
    "import numpy as np\n",
    "import pandas as pd\n",
    "from matplotlib import pyplot as plt\n",
    "%matplotlib inline\n",
    "import seaborn as sns\n",
    "import re"
   ]
  },
  {
   "cell_type": "markdown",
   "metadata": {
    "_cell_guid": "80d61838-9025-4cba-bb0e-58175586b21b",
    "_uuid": "4f65d03ddbfd127307d3e415003346eb898b4d6b"
   },
   "source": [
    "## Load training and test data"
   ]
  },
  {
   "cell_type": "code",
   "execution_count": 2,
   "metadata": {
    "execution": {
     "iopub.execute_input": "2022-01-03T10:02:33.577866Z",
     "iopub.status.busy": "2022-01-03T10:02:33.577511Z",
     "iopub.status.idle": "2022-01-03T10:02:35.33701Z",
     "shell.execute_reply": "2022-01-03T10:02:35.336189Z",
     "shell.execute_reply.started": "2022-01-03T10:02:33.577819Z"
    }
   },
   "outputs": [],
   "source": [
    "df_train = pd.read_csv(\"../input/d/julian3833/jigsaw-toxic-comment-classification-challenge/train.csv\")\n"
   ]
  },
  {
   "cell_type": "code",
   "execution_count": 3,
   "metadata": {
    "execution": {
     "iopub.execute_input": "2022-01-03T10:47:54.458265Z",
     "iopub.status.busy": "2022-01-03T10:47:54.457804Z",
     "iopub.status.idle": "2022-01-03T10:47:55.304416Z",
     "shell.execute_reply": "2022-01-03T10:47:55.303473Z",
     "shell.execute_reply.started": "2022-01-03T10:47:54.458186Z"
    }
   },
   "outputs": [],
   "source": [
    "df_test = pd.read_csv(\"../input/d/julian3833/jigsaw-toxic-comment-classification-challenge/test.csv\")\n"
   ]
  },
  {
   "cell_type": "code",
   "execution_count": 4,
   "metadata": {
    "_cell_guid": "7e29bebb-d9b7-44ab-a6ba-9f98e6507d5e",
    "_uuid": "7f7f2581edb2f42a64812dec31622a011dceff80",
    "execution": {
     "iopub.execute_input": "2022-01-03T10:03:58.345973Z",
     "iopub.status.busy": "2022-01-03T10:03:58.345599Z",
     "iopub.status.idle": "2022-01-03T10:03:58.350284Z",
     "shell.execute_reply": "2022-01-03T10:03:58.349393Z",
     "shell.execute_reply.started": "2022-01-03T10:03:58.345909Z"
    }
   },
   "outputs": [],
   "source": [
    "cols_target = ['obscene','insult','toxic','severe_toxic','identity_hate','threat']"
   ]
  },
  {
   "cell_type": "markdown",
   "metadata": {
    "_cell_guid": "fdf9d2f6-d248-452f-8f94-562755e3a3f3",
    "_uuid": "d88d9cea99dbd77e81a5b3c4b9309df88b04550b"
   },
   "source": [
    "## Clean up the comment text"
   ]
  },
  {
   "cell_type": "code",
   "execution_count": 5,
   "metadata": {
    "_cell_guid": "24392feb-0adc-4e27-bd20-41ed8cadce37",
    "_uuid": "b42586552d4cdc79793b0de8e630f863f2b2c456",
    "execution": {
     "iopub.execute_input": "2022-01-03T10:05:13.028748Z",
     "iopub.status.busy": "2022-01-03T10:05:13.028437Z",
     "iopub.status.idle": "2022-01-03T10:05:13.055609Z",
     "shell.execute_reply": "2022-01-03T10:05:13.054762Z",
     "shell.execute_reply.started": "2022-01-03T10:05:13.028711Z"
    }
   },
   "outputs": [],
   "source": [
    "def clean_text(text):\n",
    "    text = text.lower()\n",
    "    text = re.sub(r\"what's\", \"what is \", text)\n",
    "    text = re.sub(r\"\\'s\", \" \", text)\n",
    "    text = re.sub(r\"\\'ve\", \" have \", text)\n",
    "    text = re.sub(r\"can't\", \"cannot \", text)\n",
    "    text = re.sub(r\"n't\", \" not \", text)\n",
    "    text = re.sub(r\"i'm\", \"i am \", text)\n",
    "    text = re.sub(r\"\\'re\", \" are \", text)\n",
    "    text = re.sub(r\"\\'d\", \" would \", text)\n",
    "    text = re.sub(r\"\\'ll\", \" will \", text)\n",
    "    text = re.sub(r\"\\'scuse\", \" excuse \", text)\n",
    "    text = re.sub('\\W', ' ', text)\n",
    "    text = re.sub('\\s+', ' ', text)\n",
    "    text = text.strip(' ')\n",
    "    return text"
   ]
  },
  {
   "cell_type": "code",
   "execution_count": 6,
   "metadata": {
    "_cell_guid": "7b426494-c856-4cf4-b0d1-4162bc3aef5b",
    "_uuid": "3944cb9d1311fd3729a7dfb13e8ac8c2309962e5",
    "execution": {
     "iopub.execute_input": "2022-01-03T10:05:43.081509Z",
     "iopub.status.busy": "2022-01-03T10:05:43.081171Z",
     "iopub.status.idle": "2022-01-03T10:05:58.920159Z",
     "shell.execute_reply": "2022-01-03T10:05:58.919004Z",
     "shell.execute_reply.started": "2022-01-03T10:05:43.081448Z"
    }
   },
   "outputs": [],
   "source": [
    "# clean the comment_text in train_df \n",
    "df_train['comment_text'] = df_train['comment_text'].apply(lambda com : clean_text(com))"
   ]
  },
  {
   "cell_type": "code",
   "execution_count": 7,
   "metadata": {
    "_cell_guid": "dc27cc45-e5a9-4f1e-8d07-e28127afaf97",
    "_uuid": "d56d040c687a15a6d13ba29400372108f1960c1b",
    "execution": {
     "iopub.execute_input": "2022-01-03T10:48:00.032927Z",
     "iopub.status.busy": "2022-01-03T10:48:00.032237Z",
     "iopub.status.idle": "2022-01-03T10:48:14.756092Z",
     "shell.execute_reply": "2022-01-03T10:48:14.75525Z",
     "shell.execute_reply.started": "2022-01-03T10:48:00.032846Z"
    }
   },
   "outputs": [],
   "source": [
    "# clean the comment_text in test_df \n",
    "df_test['comment_text'] = df_test['comment_text'].map(lambda com : clean_text(com))"
   ]
  },
  {
   "cell_type": "markdown",
   "metadata": {
    "_cell_guid": "f5abe72a-13a7-41f6-ae8e-1c34dca97110",
    "_uuid": "cae81f6b1d9bb475fc486d5fbb81981025cc3672"
   },
   "source": [
    "\n",
    "## Define X from entire train & test data for use in tokenization by Vectorizer"
   ]
  },
  {
   "cell_type": "code",
   "execution_count": 8,
   "metadata": {
    "_cell_guid": "49547fd7-9633-4f6a-bd46-84d8966f1e8b",
    "_uuid": "061d59552c6ef83bea8ecf9ffbf203286aeab6f8",
    "execution": {
     "iopub.execute_input": "2022-01-03T10:07:00.240413Z",
     "iopub.status.busy": "2022-01-03T10:07:00.24011Z",
     "iopub.status.idle": "2022-01-03T10:07:00.24499Z",
     "shell.execute_reply": "2022-01-03T10:07:00.243998Z",
     "shell.execute_reply.started": "2022-01-03T10:07:00.240366Z"
    }
   },
   "outputs": [],
   "source": [
    "X = df_train.comment_text\n",
    "test_X = df_test.comment_text"
   ]
  },
  {
   "cell_type": "code",
   "execution_count": 9,
   "metadata": {
    "_cell_guid": "083686b8-483a-4fbd-8584-cb9da8357c57",
    "_uuid": "6b1e91df6163a437c5f55e9c4de88dc11a89e5ba",
    "execution": {
     "iopub.execute_input": "2022-01-03T10:07:04.052827Z",
     "iopub.status.busy": "2022-01-03T10:07:04.052175Z",
     "iopub.status.idle": "2022-01-03T10:07:04.059032Z",
     "shell.execute_reply": "2022-01-03T10:07:04.058103Z",
     "shell.execute_reply.started": "2022-01-03T10:07:04.052752Z"
    }
   },
   "outputs": [
    {
     "name": "stdout",
     "output_type": "stream",
     "text": [
      "(159571,) (153164,)\n"
     ]
    }
   ],
   "source": [
    "print(X.shape, test_X.shape)"
   ]
  },
  {
   "cell_type": "markdown",
   "metadata": {
    "_cell_guid": "b2d898ae-79bc-48b8-8544-fb077f876c67",
    "_uuid": "cc4c2aeef221f5a97e1bd5ea1154052172175351"
   },
   "source": [
    "## Vectorize the data"
   ]
  },
  {
   "cell_type": "code",
   "execution_count": 10,
   "metadata": {
    "_cell_guid": "9be5a4f2-0e85-4f9a-ac00-b8e9916116cb",
    "_uuid": "7b7adf15d16408eb99689884906d0d687c2f8407",
    "execution": {
     "iopub.execute_input": "2022-01-03T10:07:12.389789Z",
     "iopub.status.busy": "2022-01-03T10:07:12.389046Z",
     "iopub.status.idle": "2022-01-03T10:07:12.502221Z",
     "shell.execute_reply": "2022-01-03T10:07:12.501431Z",
     "shell.execute_reply.started": "2022-01-03T10:07:12.389727Z"
    }
   },
   "outputs": [
    {
     "data": {
      "text/plain": [
       "TfidfVectorizer(analyzer='word', binary=False, decode_error='strict',\n",
       "        dtype=<class 'numpy.int64'>, encoding='utf-8', input='content',\n",
       "        lowercase=True, max_df=1.0, max_features=5000, min_df=1,\n",
       "        ngram_range=(1, 1), norm='l2', preprocessor=None, smooth_idf=True,\n",
       "        stop_words='english', strip_accents=None, sublinear_tf=False,\n",
       "        token_pattern='(?u)\\\\b\\\\w\\\\w+\\\\b', tokenizer=None, use_idf=True,\n",
       "        vocabulary=None)"
      ]
     },
     "execution_count": 10,
     "metadata": {},
     "output_type": "execute_result"
    }
   ],
   "source": [
    "# import and instantiate TfidfVectorizer\n",
    "from sklearn.feature_extraction.text import CountVectorizer\n",
    "from sklearn.feature_extraction.text import TfidfVectorizer\n",
    "vect = TfidfVectorizer(max_features=5000,stop_words='english')\n",
    "vect"
   ]
  },
  {
   "cell_type": "code",
   "execution_count": 11,
   "metadata": {
    "_cell_guid": "283c1d48-c267-431b-834e-37c8d9222b3c",
    "_uuid": "b755b1d4db58eeb5b0ab668d1aaf4a651d3de441",
    "execution": {
     "iopub.execute_input": "2022-01-03T10:22:12.561821Z",
     "iopub.status.busy": "2022-01-03T10:22:12.561254Z",
     "iopub.status.idle": "2022-01-03T10:22:25.00893Z",
     "shell.execute_reply": "2022-01-03T10:22:25.008011Z",
     "shell.execute_reply.started": "2022-01-03T10:22:12.561764Z"
    }
   },
   "outputs": [
    {
     "data": {
      "text/plain": [
       "<159571x5000 sparse matrix of type '<class 'numpy.float64'>'\n",
       "\twith 3178792 stored elements in Compressed Sparse Row format>"
      ]
     },
     "execution_count": 11,
     "metadata": {},
     "output_type": "execute_result"
    }
   ],
   "source": [
    "# learn the vocabulary in the training data, then use it to create a document-term matrix\n",
    "X_dtm = vect.fit_transform(X)\n",
    "# examine the document-term matrix created from X_train\n",
    "X_dtm"
   ]
  },
  {
   "cell_type": "code",
   "execution_count": 12,
   "metadata": {
    "_cell_guid": "54050711-560a-47cf-b4f9-2fbaf59bc2e4",
    "_uuid": "408301ccb78e3f4056a6d2ebbd239594d1a59da0",
    "execution": {
     "iopub.execute_input": "2022-01-03T10:33:09.955154Z",
     "iopub.status.busy": "2022-01-03T10:33:09.954858Z",
     "iopub.status.idle": "2022-01-03T10:33:20.512628Z",
     "shell.execute_reply": "2022-01-03T10:33:20.511641Z",
     "shell.execute_reply.started": "2022-01-03T10:33:09.95512Z"
    }
   },
   "outputs": [
    {
     "data": {
      "text/plain": [
       "<153164x5000 sparse matrix of type '<class 'numpy.float64'>'\n",
       "\twith 2618972 stored elements in Compressed Sparse Row format>"
      ]
     },
     "execution_count": 12,
     "metadata": {},
     "output_type": "execute_result"
    }
   ],
   "source": [
    "# transform the test data using the earlier fitted vocabulary, into a document-term matrix\n",
    "test_X_dtm = vect.transform(test_X)\n",
    "# examine the document-term matrix from X_test\n",
    "test_X_dtm"
   ]
  },
  {
   "cell_type": "markdown",
   "metadata": {
    "_cell_guid": "5018c7ea-dd27-4d4c-b9ad-ef2140c773e5",
    "_uuid": "0393cd387f508609c0d068c68fb7dbb0be659383"
   },
   "source": [
    "## Classifier Chains - build a multi-label classifier using Logistic Regression"
   ]
  },
  {
   "cell_type": "code",
   "execution_count": 13,
   "metadata": {
    "execution": {
     "iopub.execute_input": "2022-01-03T10:14:04.060991Z",
     "iopub.status.busy": "2022-01-03T10:14:04.06063Z",
     "iopub.status.idle": "2022-01-03T10:14:04.232864Z",
     "shell.execute_reply": "2022-01-03T10:14:04.231849Z",
     "shell.execute_reply.started": "2022-01-03T10:14:04.060943Z"
    }
   },
   "outputs": [],
   "source": [
    "from sklearn.linear_model import LogisticRegression\n",
    "from sklearn.metrics import accuracy_score\n",
    "logreg = LogisticRegression(C=12.0)"
   ]
  },
  {
   "cell_type": "code",
   "execution_count": 14,
   "metadata": {
    "_cell_guid": "b2172222-42b8-4f0a-8d20-160d52af6f62",
    "_uuid": "f1b4fea94c83661d7bbad5c6bc7a5994643128e2",
    "execution": {
     "iopub.execute_input": "2022-01-03T10:14:28.542123Z",
     "iopub.status.busy": "2022-01-03T10:14:28.541402Z",
     "iopub.status.idle": "2022-01-03T10:14:28.548908Z",
     "shell.execute_reply": "2022-01-03T10:14:28.547822Z",
     "shell.execute_reply.started": "2022-01-03T10:14:28.542045Z"
    }
   },
   "outputs": [],
   "source": [
    "# create a function to add features\n",
    "def add_feature(X, feature_to_add):\n",
    "    '''\n",
    "    Returns sparse feature matrix with added feature.\n",
    "    feature_to_add can also be a list of features.\n",
    "    '''\n",
    "    from scipy.sparse import csr_matrix, hstack\n",
    "    return hstack([X, csr_matrix(feature_to_add).T], 'csr')"
   ]
  },
  {
   "cell_type": "code",
   "execution_count": 15,
   "metadata": {
    "_cell_guid": "20c3ff4a-8925-4c78-a8f1-74f080f0b890",
    "_uuid": "3cdc6de563643c7a86f0c54ecff2f720695fe81d",
    "execution": {
     "iopub.execute_input": "2022-01-03T10:16:28.217087Z",
     "iopub.status.busy": "2022-01-03T10:16:28.216762Z",
     "iopub.status.idle": "2022-01-03T10:16:49.452934Z",
     "shell.execute_reply": "2022-01-03T10:16:49.451978Z",
     "shell.execute_reply.started": "2022-01-03T10:16:28.217036Z"
    }
   },
   "outputs": [
    {
     "data": {
      "text/plain": [
       "\"\\nfor label in cols_target:\\n    print('... Processing {}'.format(label))\\n    y = df_trainfrom sklearn.multioutput import ClassifierChain[label]\\n    # train the model using X_dtm & y\\n    logreg.fit(X_dtm,y)\\n    # compute the training accuracy\\n    y_pred_X = logreg.predict(X_dtm)\\n    print('Training Accuracy is {}'.format(accuracy_score(y,y_pred_X)))\\n    # make predictions from test_X\\n    test_y = logreg.predict(test_X_dtm)\\n    test_y_prob = logreg.predict_proba(test_X_dtm)[:,1]\\n    #submission_chains[label] = test_y_prob\\n    # chain current label to X_dtm\\n    X_dtm = add_feature(X_dtm, y)\\n    print('Shape of X_dtm is now {}'.format(X_dtm.shape))\\n    # chain current label predictions to test_X_dtm\\n    test_X_dtm = add_feature(test_X_dtm, test_y)\\n    print('Shape of test_X_dtm is now {}'.format(test_X_dtm.shape))\\n    \\n    \""
      ]
     },
     "execution_count": 15,
     "metadata": {},
     "output_type": "execute_result"
    }
   ],
   "source": [
    "\"\"\"\n",
    "for label in cols_target:\n",
    "    print('... Processing {}'.format(label))\n",
    "    y = df_trainfrom sklearn.multioutput import ClassifierChain[label]\n",
    "    # train the model using X_dtm & y\n",
    "    logreg.fit(X_dtm,y)\n",
    "    # compute the training accuracy\n",
    "    y_pred_X = logreg.predict(X_dtm)\n",
    "    print('Training Accuracy is {}'.format(accuracy_score(y,y_pred_X)))\n",
    "    # make predictions from test_X\n",
    "    test_y = logreg.predict(test_X_dtm)\n",
    "    test_y_prob = logreg.predict_proba(test_X_dtm)[:,1]\n",
    "    #submission_chains[label] = test_y_prob\n",
    "    # chain current label to X_dtm\n",
    "    X_dtm = add_feature(X_dtm, y)\n",
    "    print('Shape of X_dtm is now {}'.format(X_dtm.shape))\n",
    "    # chain current label predictions to test_X_dtm\n",
    "    test_X_dtm = add_feature(test_X_dtm, test_y)\n",
    "    print('Shape of test_X_dtm is now {}'.format(test_X_dtm.shape))\n",
    "    \n",
    "    \"\"\""
   ]
  },
  {
   "cell_type": "code",
   "execution_count": 16,
   "metadata": {
    "execution": {
     "iopub.execute_input": "2022-01-03T10:22:27.288403Z",
     "iopub.status.busy": "2022-01-03T10:22:27.288041Z",
     "iopub.status.idle": "2022-01-03T10:22:48.643199Z",
     "shell.execute_reply": "2022-01-03T10:22:48.642403Z",
     "shell.execute_reply.started": "2022-01-03T10:22:27.288329Z"
    }
   },
   "outputs": [
    {
     "data": {
      "text/plain": [
       "ClassifierChain(base_estimator=LogisticRegression(C=12.0, class_weight=None, dual=False, fit_intercept=True,\n",
       "          intercept_scaling=1, max_iter=100, multi_class='ovr', n_jobs=1,\n",
       "          penalty='l2', random_state=None, solver='liblinear', tol=0.0001,\n",
       "          verbose=0, warm_start=False),\n",
       "        cv=None, order='random', random_state=0)"
      ]
     },
     "execution_count": 16,
     "metadata": {},
     "output_type": "execute_result"
    }
   ],
   "source": [
    "from sklearn.multioutput import ClassifierChain\n",
    "chain = ClassifierChain(LogisticRegression(C=12.0), order='random', random_state=0)\n",
    "\n",
    "y = df_train[cols_target]\n",
    "\n",
    "chain.fit(X_dtm,y)"
   ]
  },
  {
   "cell_type": "code",
   "execution_count": 17,
   "metadata": {
    "execution": {
     "iopub.execute_input": "2022-01-03T10:22:48.645025Z",
     "iopub.status.busy": "2022-01-03T10:22:48.64443Z",
     "iopub.status.idle": "2022-01-03T10:22:49.692324Z",
     "shell.execute_reply": "2022-01-03T10:22:49.691556Z",
     "shell.execute_reply.started": "2022-01-03T10:22:48.644965Z"
    }
   },
   "outputs": [],
   "source": [
    "# compute the training accuracy\n",
    "y_pred_X = chain.predict(X_dtm)"
   ]
  },
  {
   "cell_type": "code",
   "execution_count": 18,
   "metadata": {
    "execution": {
     "iopub.execute_input": "2022-01-03T10:31:47.265974Z",
     "iopub.status.busy": "2022-01-03T10:31:47.265635Z",
     "iopub.status.idle": "2022-01-03T10:31:47.342066Z",
     "shell.execute_reply": "2022-01-03T10:31:47.341441Z",
     "shell.execute_reply.started": "2022-01-03T10:31:47.265921Z"
    }
   },
   "outputs": [
    {
     "data": {
      "text/plain": [
       "0.9336721584749108"
      ]
     },
     "execution_count": 18,
     "metadata": {},
     "output_type": "execute_result"
    }
   ],
   "source": [
    "accuracy_score(y, y_pred_X)"
   ]
  },
  {
   "cell_type": "code",
   "execution_count": 19,
   "metadata": {
    "execution": {
     "iopub.execute_input": "2022-01-03T10:44:03.819773Z",
     "iopub.status.busy": "2022-01-03T10:44:03.819458Z",
     "iopub.status.idle": "2022-01-03T10:44:04.011198Z",
     "shell.execute_reply": "2022-01-03T10:44:04.010375Z",
     "shell.execute_reply.started": "2022-01-03T10:44:03.819737Z"
    }
   },
   "outputs": [],
   "source": [
    "y_test = pd.read_csv('../input/d/julian3833/jigsaw-toxic-comment-classification-challenge/test_labels.csv')"
   ]
  },
  {
   "cell_type": "code",
   "execution_count": 20,
   "metadata": {
    "execution": {
     "iopub.execute_input": "2022-01-03T10:48:28.554111Z",
     "iopub.status.busy": "2022-01-03T10:48:28.553622Z",
     "iopub.status.idle": "2022-01-03T10:48:28.687761Z",
     "shell.execute_reply": "2022-01-03T10:48:28.686887Z",
     "shell.execute_reply.started": "2022-01-03T10:48:28.553899Z"
    }
   },
   "outputs": [],
   "source": [
    "df_test = df_test.merge(y_test, on='id', how='left')"
   ]
  },
  {
   "cell_type": "code",
   "execution_count": 21,
   "metadata": {
    "execution": {
     "iopub.execute_input": "2022-01-03T10:48:29.523793Z",
     "iopub.status.busy": "2022-01-03T10:48:29.523462Z",
     "iopub.status.idle": "2022-01-03T10:48:29.537759Z",
     "shell.execute_reply": "2022-01-03T10:48:29.53688Z",
     "shell.execute_reply.started": "2022-01-03T10:48:29.52375Z"
    }
   },
   "outputs": [],
   "source": [
    "df_test2 = df_test[df_test.toxic != -1]"
   ]
  },
  {
   "cell_type": "code",
   "execution_count": 22,
   "metadata": {
    "execution": {
     "iopub.execute_input": "2022-01-03T10:48:43.366946Z",
     "iopub.status.busy": "2022-01-03T10:48:43.366634Z",
     "iopub.status.idle": "2022-01-03T10:48:47.984761Z",
     "shell.execute_reply": "2022-01-03T10:48:47.983982Z",
     "shell.execute_reply.started": "2022-01-03T10:48:43.3669Z"
    }
   },
   "outputs": [],
   "source": [
    "df_test2_dtm = vect.transform(df_test2.comment_text)"
   ]
  },
  {
   "cell_type": "code",
   "execution_count": 23,
   "metadata": {
    "_cell_guid": "2b370cff-d22e-4393-94d5-98b4883a32d8",
    "_uuid": "21a21a9ff3c174753c8d48495e058a1782bf7a76",
    "execution": {
     "iopub.execute_input": "2022-01-03T10:48:56.645267Z",
     "iopub.status.busy": "2022-01-03T10:48:56.644826Z",
     "iopub.status.idle": "2022-01-03T10:48:56.950552Z",
     "shell.execute_reply": "2022-01-03T10:48:56.949848Z",
     "shell.execute_reply.started": "2022-01-03T10:48:56.645227Z"
    }
   },
   "outputs": [
    {
     "data": {
      "text/plain": [
       "0.8824127043671262"
      ]
     },
     "execution_count": 23,
     "metadata": {},
     "output_type": "execute_result"
    }
   ],
   "source": [
    "# compute the test accuracy\n",
    "y_pred_test = chain.predict(df_test2_dtm)\n",
    "accuracy_score(df_test2[cols_target],y_pred_test)"
   ]
  },
  {
   "cell_type": "markdown",
   "metadata": {},
   "source": [
    "## Apply ranking"
   ]
  },
  {
   "cell_type": "code",
   "execution_count": 24,
   "metadata": {
    "execution": {
     "iopub.execute_input": "2022-01-03T11:06:56.848192Z",
     "iopub.status.busy": "2022-01-03T11:06:56.847816Z",
     "iopub.status.idle": "2022-01-03T11:06:57.38301Z",
     "shell.execute_reply": "2022-01-03T11:06:57.382297Z",
     "shell.execute_reply.started": "2022-01-03T11:06:56.848152Z"
    }
   },
   "outputs": [],
   "source": [
    "validation_data = pd.read_csv('../input/jigsaw-toxic-severity-rating/validation_data.csv')"
   ]
  },
  {
   "cell_type": "code",
   "execution_count": 25,
   "metadata": {
    "execution": {
     "iopub.execute_input": "2022-01-03T11:11:23.185442Z",
     "iopub.status.busy": "2022-01-03T11:11:23.185126Z",
     "iopub.status.idle": "2022-01-03T11:11:23.198265Z",
     "shell.execute_reply": "2022-01-03T11:11:23.197251Z",
     "shell.execute_reply.started": "2022-01-03T11:11:23.185398Z"
    }
   },
   "outputs": [
    {
     "data": {
      "text/html": [
       "<div>\n",
       "<style scoped>\n",
       "    .dataframe tbody tr th:only-of-type {\n",
       "        vertical-align: middle;\n",
       "    }\n",
       "\n",
       "    .dataframe tbody tr th {\n",
       "        vertical-align: top;\n",
       "    }\n",
       "\n",
       "    .dataframe thead th {\n",
       "        text-align: right;\n",
       "    }\n",
       "</style>\n",
       "<table border=\"1\" class=\"dataframe\">\n",
       "  <thead>\n",
       "    <tr style=\"text-align: right;\">\n",
       "      <th></th>\n",
       "      <th>worker</th>\n",
       "      <th>less_toxic</th>\n",
       "      <th>more_toxic</th>\n",
       "    </tr>\n",
       "  </thead>\n",
       "  <tbody>\n",
       "    <tr>\n",
       "      <th>0</th>\n",
       "      <td>313</td>\n",
       "      <td>This article sucks \\n\\nwoo woo wooooooo</td>\n",
       "      <td>WHAT!!!!!!!!?!?!!?!?!!?!?!?!?!!!!!!!!!!!!!!!!!...</td>\n",
       "    </tr>\n",
       "    <tr>\n",
       "      <th>1</th>\n",
       "      <td>188</td>\n",
       "      <td>\"And yes, people should recognize that but the...</td>\n",
       "      <td>Daphne Guinness \\n\\nTop of the mornin' my fav...</td>\n",
       "    </tr>\n",
       "    <tr>\n",
       "      <th>2</th>\n",
       "      <td>82</td>\n",
       "      <td>Western Media?\\n\\nYup, because every crime in...</td>\n",
       "      <td>\"Atom you don't believe actual photos of mastu...</td>\n",
       "    </tr>\n",
       "    <tr>\n",
       "      <th>3</th>\n",
       "      <td>347</td>\n",
       "      <td>And you removed it! You numbskull! I don't car...</td>\n",
       "      <td>You seem to have sand in your vagina.\\n\\nMight...</td>\n",
       "    </tr>\n",
       "    <tr>\n",
       "      <th>4</th>\n",
       "      <td>539</td>\n",
       "      <td>smelly vagina \\n\\nBluerasberry why don't you ...</td>\n",
       "      <td>hey \\n\\nway to support nazis, you racist</td>\n",
       "    </tr>\n",
       "  </tbody>\n",
       "</table>\n",
       "</div>"
      ],
      "text/plain": [
       "   worker                                         less_toxic  \\\n",
       "0     313            This article sucks \\n\\nwoo woo wooooooo   \n",
       "1     188  \"And yes, people should recognize that but the...   \n",
       "2      82   Western Media?\\n\\nYup, because every crime in...   \n",
       "3     347  And you removed it! You numbskull! I don't car...   \n",
       "4     539   smelly vagina \\n\\nBluerasberry why don't you ...   \n",
       "\n",
       "                                          more_toxic  \n",
       "0  WHAT!!!!!!!!?!?!!?!?!!?!?!?!?!!!!!!!!!!!!!!!!!...  \n",
       "1   Daphne Guinness \\n\\nTop of the mornin' my fav...  \n",
       "2  \"Atom you don't believe actual photos of mastu...  \n",
       "3  You seem to have sand in your vagina.\\n\\nMight...  \n",
       "4           hey \\n\\nway to support nazis, you racist  "
      ]
     },
     "execution_count": 25,
     "metadata": {},
     "output_type": "execute_result"
    }
   ],
   "source": [
    "validation_data.head()"
   ]
  },
  {
   "cell_type": "code",
   "execution_count": 26,
   "metadata": {
    "execution": {
     "iopub.execute_input": "2022-01-03T11:12:12.245086Z",
     "iopub.status.busy": "2022-01-03T11:12:12.244759Z",
     "iopub.status.idle": "2022-01-03T11:12:15.475521Z",
     "shell.execute_reply": "2022-01-03T11:12:15.47468Z",
     "shell.execute_reply.started": "2022-01-03T11:12:12.245031Z"
    }
   },
   "outputs": [],
   "source": [
    "validation_data['less_toxic'] = validation_data.less_toxic.apply(clean_text)"
   ]
  },
  {
   "cell_type": "code",
   "execution_count": 27,
   "metadata": {
    "execution": {
     "iopub.execute_input": "2022-01-03T11:12:26.657074Z",
     "iopub.status.busy": "2022-01-03T11:12:26.656776Z",
     "iopub.status.idle": "2022-01-03T11:12:29.83824Z",
     "shell.execute_reply": "2022-01-03T11:12:29.837134Z",
     "shell.execute_reply.started": "2022-01-03T11:12:26.657023Z"
    }
   },
   "outputs": [],
   "source": [
    "validation_data['more_toxic'] = validation_data.more_toxic.apply(clean_text)"
   ]
  },
  {
   "cell_type": "code",
   "execution_count": 28,
   "metadata": {
    "execution": {
     "iopub.execute_input": "2022-01-03T11:13:44.945659Z",
     "iopub.status.busy": "2022-01-03T11:13:44.945101Z",
     "iopub.status.idle": "2022-01-03T11:13:49.62671Z",
     "shell.execute_reply": "2022-01-03T11:13:49.625898Z",
     "shell.execute_reply.started": "2022-01-03T11:13:44.945592Z"
    }
   },
   "outputs": [],
   "source": [
    "val1_dtm = vect.transform(validation_data.less_toxic)\n",
    "val2_dtm = vect.transform(validation_data.more_toxic)"
   ]
  },
  {
   "cell_type": "code",
   "execution_count": 29,
   "metadata": {
    "execution": {
     "iopub.execute_input": "2022-01-03T11:15:27.488899Z",
     "iopub.status.busy": "2022-01-03T11:15:27.488589Z",
     "iopub.status.idle": "2022-01-03T11:15:27.99671Z",
     "shell.execute_reply": "2022-01-03T11:15:27.995733Z",
     "shell.execute_reply.started": "2022-01-03T11:15:27.488857Z"
    }
   },
   "outputs": [],
   "source": [
    "val1_pred = chain.predict_proba(val1_dtm)\n",
    "val2_pred = chain.predict_proba(val2_dtm)"
   ]
  },
  {
   "cell_type": "code",
   "execution_count": 30,
   "metadata": {
    "execution": {
     "iopub.execute_input": "2022-01-03T11:19:04.173728Z",
     "iopub.status.busy": "2022-01-03T11:19:04.173397Z",
     "iopub.status.idle": "2022-01-03T11:19:04.178756Z",
     "shell.execute_reply": "2022-01-03T11:19:04.177887Z",
     "shell.execute_reply.started": "2022-01-03T11:19:04.173675Z"
    }
   },
   "outputs": [],
   "source": [
    "val1_pred_sum = np.sum(val1_pred, axis=1)\n",
    "val2_pred_sum = np.sum(val2_pred, axis=1)"
   ]
  },
  {
   "cell_type": "code",
   "execution_count": 31,
   "metadata": {
    "execution": {
     "iopub.execute_input": "2022-01-03T11:19:40.774665Z",
     "iopub.status.busy": "2022-01-03T11:19:40.773992Z",
     "iopub.status.idle": "2022-01-03T11:19:40.780249Z",
     "shell.execute_reply": "2022-01-03T11:19:40.779647Z",
     "shell.execute_reply.started": "2022-01-03T11:19:40.774606Z"
    }
   },
   "outputs": [
    {
     "data": {
      "text/plain": [
       "0.675036535140162"
      ]
     },
     "execution_count": 31,
     "metadata": {},
     "output_type": "execute_result"
    }
   ],
   "source": [
    "(val1_pred_sum<val2_pred_sum).sum()/validation_data.shape[0]"
   ]
  },
  {
   "cell_type": "code",
   "execution_count": 32,
   "metadata": {
    "execution": {
     "iopub.execute_input": "2022-01-03T11:26:18.976395Z",
     "iopub.status.busy": "2022-01-03T11:26:18.976088Z",
     "iopub.status.idle": "2022-01-03T11:26:19.060062Z",
     "shell.execute_reply": "2022-01-03T11:26:19.059273Z",
     "shell.execute_reply.started": "2022-01-03T11:26:18.976349Z"
    }
   },
   "outputs": [],
   "source": [
    "comments_to_score = pd.read_csv('../input/jigsaw-toxic-severity-rating/comments_to_score.csv')"
   ]
  },
  {
   "cell_type": "code",
   "execution_count": 33,
   "metadata": {
    "execution": {
     "iopub.execute_input": "2022-01-03T11:27:14.677595Z",
     "iopub.status.busy": "2022-01-03T11:27:14.677214Z",
     "iopub.status.idle": "2022-01-03T11:27:15.476699Z",
     "shell.execute_reply": "2022-01-03T11:27:15.475959Z",
     "shell.execute_reply.started": "2022-01-03T11:27:14.677509Z"
    }
   },
   "outputs": [],
   "source": [
    "comments_to_score['text'] = comments_to_score.text.apply(clean_text)"
   ]
  },
  {
   "cell_type": "code",
   "execution_count": 34,
   "metadata": {
    "execution": {
     "iopub.execute_input": "2022-01-03T11:28:53.222966Z",
     "iopub.status.busy": "2022-01-03T11:28:53.222458Z",
     "iopub.status.idle": "2022-01-03T11:28:53.928093Z",
     "shell.execute_reply": "2022-01-03T11:28:53.927098Z",
     "shell.execute_reply.started": "2022-01-03T11:28:53.222897Z"
    }
   },
   "outputs": [],
   "source": [
    "comments_to_score_dtm = vect.transform(comments_to_score.text)\n",
    "predictions = chain.predict_proba(comments_to_score_dtm)"
   ]
  },
  {
   "cell_type": "code",
   "execution_count": 35,
   "metadata": {
    "execution": {
     "iopub.execute_input": "2022-01-03T11:29:19.03401Z",
     "iopub.status.busy": "2022-01-03T11:29:19.0337Z",
     "iopub.status.idle": "2022-01-03T11:29:19.037961Z",
     "shell.execute_reply": "2022-01-03T11:29:19.037046Z",
     "shell.execute_reply.started": "2022-01-03T11:29:19.033948Z"
    }
   },
   "outputs": [],
   "source": [
    "pred_sum = np.sum(predictions, axis = 1)"
   ]
  },
  {
   "cell_type": "code",
   "execution_count": 36,
   "metadata": {
    "execution": {
     "iopub.execute_input": "2022-01-03T11:29:27.194141Z",
     "iopub.status.busy": "2022-01-03T11:29:27.193666Z",
     "iopub.status.idle": "2022-01-03T11:29:27.199838Z",
     "shell.execute_reply": "2022-01-03T11:29:27.198777Z",
     "shell.execute_reply.started": "2022-01-03T11:29:27.194096Z"
    }
   },
   "outputs": [
    {
     "data": {
      "text/plain": [
       "(7537,)"
      ]
     },
     "execution_count": 36,
     "metadata": {},
     "output_type": "execute_result"
    }
   ],
   "source": [
    "pred_sum.shape"
   ]
  },
  {
   "cell_type": "code",
   "execution_count": 37,
   "metadata": {
    "execution": {
     "iopub.execute_input": "2022-01-03T11:30:01.973362Z",
     "iopub.status.busy": "2022-01-03T11:30:01.973034Z",
     "iopub.status.idle": "2022-01-03T11:30:01.991112Z",
     "shell.execute_reply": "2022-01-03T11:30:01.990218Z",
     "shell.execute_reply.started": "2022-01-03T11:30:01.973318Z"
    }
   },
   "outputs": [],
   "source": [
    "sample_submission = pd.read_csv('../input/jigsaw-toxic-severity-rating/sample_submission.csv')"
   ]
  },
  {
   "cell_type": "code",
   "execution_count": 38,
   "metadata": {
    "execution": {
     "iopub.execute_input": "2022-01-03T11:30:34.17592Z",
     "iopub.status.busy": "2022-01-03T11:30:34.175214Z",
     "iopub.status.idle": "2022-01-03T11:30:34.180753Z",
     "shell.execute_reply": "2022-01-03T11:30:34.179988Z",
     "shell.execute_reply.started": "2022-01-03T11:30:34.175849Z"
    }
   },
   "outputs": [],
   "source": [
    "sample_submission['score'] = pred_sum"
   ]
  },
  {
   "cell_type": "code",
   "execution_count": 39,
   "metadata": {
    "execution": {
     "iopub.execute_input": "2022-01-03T11:31:07.371865Z",
     "iopub.status.busy": "2022-01-03T11:31:07.371511Z",
     "iopub.status.idle": "2022-01-03T11:31:07.424636Z",
     "shell.execute_reply": "2022-01-03T11:31:07.423652Z",
     "shell.execute_reply.started": "2022-01-03T11:31:07.371816Z"
    }
   },
   "outputs": [],
   "source": [
    "sample_submission.to_csv('./submission.csv', index=False)"
   ]
  },
  {
   "cell_type": "code",
   "execution_count": 40,
   "metadata": {},
   "outputs": [],
   "source": []
  }
 ],
 "metadata": {
  "kernelspec": {
   "display_name": "Python 3",
   "language": "python",
   "name": "python3"
  },
  "language_info": {
   "codemirror_mode": {
    "name": "ipython",
    "version": 3
   },
   "file_extension": ".py",
   "mimetype": "text/x-python",
   "name": "python",
   "nbconvert_exporter": "python",
   "pygments_lexer": "ipython3",
   "version": "3.6.4"
  }
 },
 "nbformat": 4,
 "nbformat_minor": 4
}
